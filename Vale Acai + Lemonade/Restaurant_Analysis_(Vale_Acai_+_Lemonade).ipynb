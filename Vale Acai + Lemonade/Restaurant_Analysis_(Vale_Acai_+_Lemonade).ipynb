{
  "cells": [
    {
      "cell_type": "code",
      "execution_count": null,
      "metadata": {
        "id": "EEDM-SBuGhq1",
        "colab": {
          "base_uri": "https://localhost:8080/"
        },
        "outputId": "4c339d1e-5b99-47da-cbc3-305975efdf7f"
      },
      "outputs": [
        {
          "output_type": "stream",
          "name": "stdout",
          "text": [
            "Drive already mounted at /content/Drive/; to attempt to forcibly remount, call drive.mount(\"/content/Drive/\", force_remount=True).\n"
          ]
        }
      ],
      "source": [
        "import pandas as pd\n",
        "import os\n",
        "import numpy as np\n",
        "import matplotlib.pyplot as plt\n",
        "import seaborn as sns\n",
        "import plotly.express as px\n",
        "from collections import Counter\n",
        "from itertools import permutations, combinations\n",
        "\n",
        "import os, sys, glob\n",
        "\n",
        "import warnings\n",
        "warnings.filterwarnings('ignore')\n",
        "\n",
        "from google.colab import drive \n",
        "drive.mount(\"/content/Drive/\")"
      ],
      "id": "EEDM-SBuGhq1"
    },
    {
      "cell_type": "code",
      "execution_count": null,
      "metadata": {
        "id": "-Ua35SK7Ghq9"
      },
      "outputs": [],
      "source": [
        "files_combined = os.path.join(\"/content/Drive/MyDrive/Data/Restaurant/orderData\", \"*.csv\")\n",
        "\n",
        "#list of merged files returned \n",
        "files_combined = glob.glob(files_combined)\n",
        "\n",
        "dfs = [pd.read_csv(csv_path, encoding = \"ISO-8859-1\") for csv_path in files_combined]\n",
        "df = pd.concat(dfs)\n",
        "\n",
        "salesData = df\n",
        "\n"
      ],
      "id": "-Ua35SK7Ghq9"
    },
    {
      "cell_type": "code",
      "execution_count": null,
      "metadata": {
        "id": "cquJZy0vGhq-"
      },
      "outputs": [],
      "source": [
        "dineIn = salesData[salesData['Dining Option'] == 'Dine In']\n",
        "empty = salesData[salesData['Dining Option'].isna()]\n",
        "\n",
        "salesData_dineIn = pd.concat([dineIn, empty])\n",
        "\n",
        "salesData_dineIn.loc[:, 'Order Date'] = pd.to_datetime(salesData_dineIn['Order Date'])\n",
        "salesData_dineIn = salesData_dineIn.sort_values(by = 'Order Date')\n",
        "salesData_dineIn.loc[:, 'Date'] = salesData_dineIn['Order Date'].dt.date\n",
        "salesData_dineIn.loc[:, 'Month'] = salesData_dineIn['Order Date'].dt.month"
      ],
      "id": "cquJZy0vGhq-"
    },
    {
      "cell_type": "code",
      "execution_count": null,
      "metadata": {
        "id": "1kHiRpywGhrA",
        "outputId": "3c951a5d-362a-4ad1-aaf3-b6c753fd94bf",
        "colab": {
          "base_uri": "https://localhost:8080/",
          "height": 870
        }
      },
      "outputs": [
        {
          "output_type": "execute_result",
          "data": {
            "text/plain": [
              "             Location            Order Id Order #         Sent Date  \\\n",
              "0     Fort Lauderdale  400000018007701108       3   3/1/22 10:45 AM   \n",
              "1     Fort Lauderdale  400000018007701108       3   3/1/22 10:45 AM   \n",
              "2     Fort Lauderdale  400000018007701108       3   3/1/22 10:46 AM   \n",
              "3     Fort Lauderdale  400000018007766272       4   3/1/22 10:54 AM   \n",
              "4     Fort Lauderdale  400000018007806796       5   3/1/22 10:59 AM   \n",
              "...               ...                 ...     ...               ...   \n",
              "9522  Fort Lauderdale  400000026364952333     148  12/31/22 7:45 PM   \n",
              "9523  Fort Lauderdale  400000026364973108     149  12/31/22 7:45 PM   \n",
              "9524  Fort Lauderdale  400000026365002580     150  12/31/22 7:46 PM   \n",
              "9525  Fort Lauderdale  400000026365023880     151  12/31/22 7:46 PM   \n",
              "9529  Fort Lauderdale  400000026365864593     152  12/31/22 8:05 PM   \n",
              "\n",
              "              Order Date            Check Id              Server  Table  \\\n",
              "0    2022-03-01 10:43:00  400000018007701107  Gabriel Villarreal    NaN   \n",
              "1    2022-03-01 10:43:00  400000018007701107  Gabriel Villarreal    NaN   \n",
              "2    2022-03-01 10:43:00  400000018007701107  Gabriel Villarreal    NaN   \n",
              "3    2022-03-01 10:54:00  400000018007766271  Gabriel Villarreal    NaN   \n",
              "4    2022-03-01 10:59:00  400000018007806795     Quintara  Burns    NaN   \n",
              "...                  ...                 ...                 ...    ...   \n",
              "9522 2022-12-31 19:44:00  400000026364952332     Victoria Realpe    NaN   \n",
              "9523 2022-12-31 19:45:00  400000026364973107     Victoria Realpe    NaN   \n",
              "9524 2022-12-31 19:45:00  400000026365002579     Victoria Realpe    NaN   \n",
              "9525 2022-12-31 19:46:00  400000026365023878     Victoria Realpe    NaN   \n",
              "9529 2022-12-31 19:51:00  400000026365864592     Victoria Realpe    NaN   \n",
              "\n",
              "      Dining Area Service  ...  Qty   Tax  Void?  Deferred Tax Exempt  \\\n",
              "0             NaN     NaN  ...  1.0  0.70   True     False      False   \n",
              "1             NaN     NaN  ...  1.0  0.91  False     False      False   \n",
              "2             NaN     NaN  ...  1.0  0.70  False     False      False   \n",
              "3             NaN     NaN  ...  1.0  0.63  False     False      False   \n",
              "4             NaN     NaN  ...  1.0  0.98  False     False      False   \n",
              "...           ...     ...  ...  ...   ...    ...       ...        ...   \n",
              "9522          NaN  Dinner  ...  1.0  1.12  False     False      False   \n",
              "9523          NaN  Dinner  ...  1.0  0.00  False      True      False   \n",
              "9524          NaN  Dinner  ...  1.0  0.00  False      True      False   \n",
              "9525          NaN  Dinner  ...  1.0  0.00  False      True      False   \n",
              "9529          NaN  Dinner  ...  1.0  0.84  False     False      False   \n",
              "\n",
              "      Tax Inclusion Option Dining Option Tax Tab Name        Date Month  \n",
              "0         Tax Not Included         No Effect      NaN  2022-03-01     3  \n",
              "1         Tax Not Included         No Effect      NaN  2022-03-01     3  \n",
              "2         Tax Not Included         No Effect      NaN  2022-03-01     3  \n",
              "3         Tax Not Included         No Effect      NaN  2022-03-01     3  \n",
              "4         Tax Not Included         No Effect      NaN  2022-03-01     3  \n",
              "...                    ...               ...      ...         ...   ...  \n",
              "9522      Tax Not Included         No Effect      NaN  2022-12-31    12  \n",
              "9523      Tax Not Included               NaN      NaN  2022-12-31    12  \n",
              "9524      Tax Not Included               NaN      NaN  2022-12-31    12  \n",
              "9525      Tax Not Included               NaN      NaN  2022-12-31    12  \n",
              "9529      Tax Not Included         No Effect      NaN  2022-12-31    12  \n",
              "\n",
              "[72908 rows x 34 columns]"
            ],
            "text/html": [
              "\n",
              "  <div id=\"df-64114dd4-3180-4b56-bd5d-948f6541c2d1\">\n",
              "    <div class=\"colab-df-container\">\n",
              "      <div>\n",
              "<style scoped>\n",
              "    .dataframe tbody tr th:only-of-type {\n",
              "        vertical-align: middle;\n",
              "    }\n",
              "\n",
              "    .dataframe tbody tr th {\n",
              "        vertical-align: top;\n",
              "    }\n",
              "\n",
              "    .dataframe thead th {\n",
              "        text-align: right;\n",
              "    }\n",
              "</style>\n",
              "<table border=\"1\" class=\"dataframe\">\n",
              "  <thead>\n",
              "    <tr style=\"text-align: right;\">\n",
              "      <th></th>\n",
              "      <th>Location</th>\n",
              "      <th>Order Id</th>\n",
              "      <th>Order #</th>\n",
              "      <th>Sent Date</th>\n",
              "      <th>Order Date</th>\n",
              "      <th>Check Id</th>\n",
              "      <th>Server</th>\n",
              "      <th>Table</th>\n",
              "      <th>Dining Area</th>\n",
              "      <th>Service</th>\n",
              "      <th>...</th>\n",
              "      <th>Qty</th>\n",
              "      <th>Tax</th>\n",
              "      <th>Void?</th>\n",
              "      <th>Deferred</th>\n",
              "      <th>Tax Exempt</th>\n",
              "      <th>Tax Inclusion Option</th>\n",
              "      <th>Dining Option Tax</th>\n",
              "      <th>Tab Name</th>\n",
              "      <th>Date</th>\n",
              "      <th>Month</th>\n",
              "    </tr>\n",
              "  </thead>\n",
              "  <tbody>\n",
              "    <tr>\n",
              "      <th>0</th>\n",
              "      <td>Fort Lauderdale</td>\n",
              "      <td>400000018007701108</td>\n",
              "      <td>3</td>\n",
              "      <td>3/1/22 10:45 AM</td>\n",
              "      <td>2022-03-01 10:43:00</td>\n",
              "      <td>400000018007701107</td>\n",
              "      <td>Gabriel Villarreal</td>\n",
              "      <td>NaN</td>\n",
              "      <td>NaN</td>\n",
              "      <td>NaN</td>\n",
              "      <td>...</td>\n",
              "      <td>1.0</td>\n",
              "      <td>0.70</td>\n",
              "      <td>True</td>\n",
              "      <td>False</td>\n",
              "      <td>False</td>\n",
              "      <td>Tax Not Included</td>\n",
              "      <td>No Effect</td>\n",
              "      <td>NaN</td>\n",
              "      <td>2022-03-01</td>\n",
              "      <td>3</td>\n",
              "    </tr>\n",
              "    <tr>\n",
              "      <th>1</th>\n",
              "      <td>Fort Lauderdale</td>\n",
              "      <td>400000018007701108</td>\n",
              "      <td>3</td>\n",
              "      <td>3/1/22 10:45 AM</td>\n",
              "      <td>2022-03-01 10:43:00</td>\n",
              "      <td>400000018007701107</td>\n",
              "      <td>Gabriel Villarreal</td>\n",
              "      <td>NaN</td>\n",
              "      <td>NaN</td>\n",
              "      <td>NaN</td>\n",
              "      <td>...</td>\n",
              "      <td>1.0</td>\n",
              "      <td>0.91</td>\n",
              "      <td>False</td>\n",
              "      <td>False</td>\n",
              "      <td>False</td>\n",
              "      <td>Tax Not Included</td>\n",
              "      <td>No Effect</td>\n",
              "      <td>NaN</td>\n",
              "      <td>2022-03-01</td>\n",
              "      <td>3</td>\n",
              "    </tr>\n",
              "    <tr>\n",
              "      <th>2</th>\n",
              "      <td>Fort Lauderdale</td>\n",
              "      <td>400000018007701108</td>\n",
              "      <td>3</td>\n",
              "      <td>3/1/22 10:46 AM</td>\n",
              "      <td>2022-03-01 10:43:00</td>\n",
              "      <td>400000018007701107</td>\n",
              "      <td>Gabriel Villarreal</td>\n",
              "      <td>NaN</td>\n",
              "      <td>NaN</td>\n",
              "      <td>NaN</td>\n",
              "      <td>...</td>\n",
              "      <td>1.0</td>\n",
              "      <td>0.70</td>\n",
              "      <td>False</td>\n",
              "      <td>False</td>\n",
              "      <td>False</td>\n",
              "      <td>Tax Not Included</td>\n",
              "      <td>No Effect</td>\n",
              "      <td>NaN</td>\n",
              "      <td>2022-03-01</td>\n",
              "      <td>3</td>\n",
              "    </tr>\n",
              "    <tr>\n",
              "      <th>3</th>\n",
              "      <td>Fort Lauderdale</td>\n",
              "      <td>400000018007766272</td>\n",
              "      <td>4</td>\n",
              "      <td>3/1/22 10:54 AM</td>\n",
              "      <td>2022-03-01 10:54:00</td>\n",
              "      <td>400000018007766271</td>\n",
              "      <td>Gabriel Villarreal</td>\n",
              "      <td>NaN</td>\n",
              "      <td>NaN</td>\n",
              "      <td>NaN</td>\n",
              "      <td>...</td>\n",
              "      <td>1.0</td>\n",
              "      <td>0.63</td>\n",
              "      <td>False</td>\n",
              "      <td>False</td>\n",
              "      <td>False</td>\n",
              "      <td>Tax Not Included</td>\n",
              "      <td>No Effect</td>\n",
              "      <td>NaN</td>\n",
              "      <td>2022-03-01</td>\n",
              "      <td>3</td>\n",
              "    </tr>\n",
              "    <tr>\n",
              "      <th>4</th>\n",
              "      <td>Fort Lauderdale</td>\n",
              "      <td>400000018007806796</td>\n",
              "      <td>5</td>\n",
              "      <td>3/1/22 10:59 AM</td>\n",
              "      <td>2022-03-01 10:59:00</td>\n",
              "      <td>400000018007806795</td>\n",
              "      <td>Quintara  Burns</td>\n",
              "      <td>NaN</td>\n",
              "      <td>NaN</td>\n",
              "      <td>NaN</td>\n",
              "      <td>...</td>\n",
              "      <td>1.0</td>\n",
              "      <td>0.98</td>\n",
              "      <td>False</td>\n",
              "      <td>False</td>\n",
              "      <td>False</td>\n",
              "      <td>Tax Not Included</td>\n",
              "      <td>No Effect</td>\n",
              "      <td>NaN</td>\n",
              "      <td>2022-03-01</td>\n",
              "      <td>3</td>\n",
              "    </tr>\n",
              "    <tr>\n",
              "      <th>...</th>\n",
              "      <td>...</td>\n",
              "      <td>...</td>\n",
              "      <td>...</td>\n",
              "      <td>...</td>\n",
              "      <td>...</td>\n",
              "      <td>...</td>\n",
              "      <td>...</td>\n",
              "      <td>...</td>\n",
              "      <td>...</td>\n",
              "      <td>...</td>\n",
              "      <td>...</td>\n",
              "      <td>...</td>\n",
              "      <td>...</td>\n",
              "      <td>...</td>\n",
              "      <td>...</td>\n",
              "      <td>...</td>\n",
              "      <td>...</td>\n",
              "      <td>...</td>\n",
              "      <td>...</td>\n",
              "      <td>...</td>\n",
              "      <td>...</td>\n",
              "    </tr>\n",
              "    <tr>\n",
              "      <th>9522</th>\n",
              "      <td>Fort Lauderdale</td>\n",
              "      <td>400000026364952333</td>\n",
              "      <td>148</td>\n",
              "      <td>12/31/22 7:45 PM</td>\n",
              "      <td>2022-12-31 19:44:00</td>\n",
              "      <td>400000026364952332</td>\n",
              "      <td>Victoria Realpe</td>\n",
              "      <td>NaN</td>\n",
              "      <td>NaN</td>\n",
              "      <td>Dinner</td>\n",
              "      <td>...</td>\n",
              "      <td>1.0</td>\n",
              "      <td>1.12</td>\n",
              "      <td>False</td>\n",
              "      <td>False</td>\n",
              "      <td>False</td>\n",
              "      <td>Tax Not Included</td>\n",
              "      <td>No Effect</td>\n",
              "      <td>NaN</td>\n",
              "      <td>2022-12-31</td>\n",
              "      <td>12</td>\n",
              "    </tr>\n",
              "    <tr>\n",
              "      <th>9523</th>\n",
              "      <td>Fort Lauderdale</td>\n",
              "      <td>400000026364973108</td>\n",
              "      <td>149</td>\n",
              "      <td>12/31/22 7:45 PM</td>\n",
              "      <td>2022-12-31 19:45:00</td>\n",
              "      <td>400000026364973107</td>\n",
              "      <td>Victoria Realpe</td>\n",
              "      <td>NaN</td>\n",
              "      <td>NaN</td>\n",
              "      <td>Dinner</td>\n",
              "      <td>...</td>\n",
              "      <td>1.0</td>\n",
              "      <td>0.00</td>\n",
              "      <td>False</td>\n",
              "      <td>True</td>\n",
              "      <td>False</td>\n",
              "      <td>Tax Not Included</td>\n",
              "      <td>NaN</td>\n",
              "      <td>NaN</td>\n",
              "      <td>2022-12-31</td>\n",
              "      <td>12</td>\n",
              "    </tr>\n",
              "    <tr>\n",
              "      <th>9524</th>\n",
              "      <td>Fort Lauderdale</td>\n",
              "      <td>400000026365002580</td>\n",
              "      <td>150</td>\n",
              "      <td>12/31/22 7:46 PM</td>\n",
              "      <td>2022-12-31 19:45:00</td>\n",
              "      <td>400000026365002579</td>\n",
              "      <td>Victoria Realpe</td>\n",
              "      <td>NaN</td>\n",
              "      <td>NaN</td>\n",
              "      <td>Dinner</td>\n",
              "      <td>...</td>\n",
              "      <td>1.0</td>\n",
              "      <td>0.00</td>\n",
              "      <td>False</td>\n",
              "      <td>True</td>\n",
              "      <td>False</td>\n",
              "      <td>Tax Not Included</td>\n",
              "      <td>NaN</td>\n",
              "      <td>NaN</td>\n",
              "      <td>2022-12-31</td>\n",
              "      <td>12</td>\n",
              "    </tr>\n",
              "    <tr>\n",
              "      <th>9525</th>\n",
              "      <td>Fort Lauderdale</td>\n",
              "      <td>400000026365023880</td>\n",
              "      <td>151</td>\n",
              "      <td>12/31/22 7:46 PM</td>\n",
              "      <td>2022-12-31 19:46:00</td>\n",
              "      <td>400000026365023878</td>\n",
              "      <td>Victoria Realpe</td>\n",
              "      <td>NaN</td>\n",
              "      <td>NaN</td>\n",
              "      <td>Dinner</td>\n",
              "      <td>...</td>\n",
              "      <td>1.0</td>\n",
              "      <td>0.00</td>\n",
              "      <td>False</td>\n",
              "      <td>True</td>\n",
              "      <td>False</td>\n",
              "      <td>Tax Not Included</td>\n",
              "      <td>NaN</td>\n",
              "      <td>NaN</td>\n",
              "      <td>2022-12-31</td>\n",
              "      <td>12</td>\n",
              "    </tr>\n",
              "    <tr>\n",
              "      <th>9529</th>\n",
              "      <td>Fort Lauderdale</td>\n",
              "      <td>400000026365864593</td>\n",
              "      <td>152</td>\n",
              "      <td>12/31/22 8:05 PM</td>\n",
              "      <td>2022-12-31 19:51:00</td>\n",
              "      <td>400000026365864592</td>\n",
              "      <td>Victoria Realpe</td>\n",
              "      <td>NaN</td>\n",
              "      <td>NaN</td>\n",
              "      <td>Dinner</td>\n",
              "      <td>...</td>\n",
              "      <td>1.0</td>\n",
              "      <td>0.84</td>\n",
              "      <td>False</td>\n",
              "      <td>False</td>\n",
              "      <td>False</td>\n",
              "      <td>Tax Not Included</td>\n",
              "      <td>No Effect</td>\n",
              "      <td>NaN</td>\n",
              "      <td>2022-12-31</td>\n",
              "      <td>12</td>\n",
              "    </tr>\n",
              "  </tbody>\n",
              "</table>\n",
              "<p>72908 rows × 34 columns</p>\n",
              "</div>\n",
              "      <button class=\"colab-df-convert\" onclick=\"convertToInteractive('df-64114dd4-3180-4b56-bd5d-948f6541c2d1')\"\n",
              "              title=\"Convert this dataframe to an interactive table.\"\n",
              "              style=\"display:none;\">\n",
              "        \n",
              "  <svg xmlns=\"http://www.w3.org/2000/svg\" height=\"24px\"viewBox=\"0 0 24 24\"\n",
              "       width=\"24px\">\n",
              "    <path d=\"M0 0h24v24H0V0z\" fill=\"none\"/>\n",
              "    <path d=\"M18.56 5.44l.94 2.06.94-2.06 2.06-.94-2.06-.94-.94-2.06-.94 2.06-2.06.94zm-11 1L8.5 8.5l.94-2.06 2.06-.94-2.06-.94L8.5 2.5l-.94 2.06-2.06.94zm10 10l.94 2.06.94-2.06 2.06-.94-2.06-.94-.94-2.06-.94 2.06-2.06.94z\"/><path d=\"M17.41 7.96l-1.37-1.37c-.4-.4-.92-.59-1.43-.59-.52 0-1.04.2-1.43.59L10.3 9.45l-7.72 7.72c-.78.78-.78 2.05 0 2.83L4 21.41c.39.39.9.59 1.41.59.51 0 1.02-.2 1.41-.59l7.78-7.78 2.81-2.81c.8-.78.8-2.07 0-2.86zM5.41 20L4 18.59l7.72-7.72 1.47 1.35L5.41 20z\"/>\n",
              "  </svg>\n",
              "      </button>\n",
              "      \n",
              "  <style>\n",
              "    .colab-df-container {\n",
              "      display:flex;\n",
              "      flex-wrap:wrap;\n",
              "      gap: 12px;\n",
              "    }\n",
              "\n",
              "    .colab-df-convert {\n",
              "      background-color: #E8F0FE;\n",
              "      border: none;\n",
              "      border-radius: 50%;\n",
              "      cursor: pointer;\n",
              "      display: none;\n",
              "      fill: #1967D2;\n",
              "      height: 32px;\n",
              "      padding: 0 0 0 0;\n",
              "      width: 32px;\n",
              "    }\n",
              "\n",
              "    .colab-df-convert:hover {\n",
              "      background-color: #E2EBFA;\n",
              "      box-shadow: 0px 1px 2px rgba(60, 64, 67, 0.3), 0px 1px 3px 1px rgba(60, 64, 67, 0.15);\n",
              "      fill: #174EA6;\n",
              "    }\n",
              "\n",
              "    [theme=dark] .colab-df-convert {\n",
              "      background-color: #3B4455;\n",
              "      fill: #D2E3FC;\n",
              "    }\n",
              "\n",
              "    [theme=dark] .colab-df-convert:hover {\n",
              "      background-color: #434B5C;\n",
              "      box-shadow: 0px 1px 3px 1px rgba(0, 0, 0, 0.15);\n",
              "      filter: drop-shadow(0px 1px 2px rgba(0, 0, 0, 0.3));\n",
              "      fill: #FFFFFF;\n",
              "    }\n",
              "  </style>\n",
              "\n",
              "      <script>\n",
              "        const buttonEl =\n",
              "          document.querySelector('#df-64114dd4-3180-4b56-bd5d-948f6541c2d1 button.colab-df-convert');\n",
              "        buttonEl.style.display =\n",
              "          google.colab.kernel.accessAllowed ? 'block' : 'none';\n",
              "\n",
              "        async function convertToInteractive(key) {\n",
              "          const element = document.querySelector('#df-64114dd4-3180-4b56-bd5d-948f6541c2d1');\n",
              "          const dataTable =\n",
              "            await google.colab.kernel.invokeFunction('convertToInteractive',\n",
              "                                                     [key], {});\n",
              "          if (!dataTable) return;\n",
              "\n",
              "          const docLinkHtml = 'Like what you see? Visit the ' +\n",
              "            '<a target=\"_blank\" href=https://colab.research.google.com/notebooks/data_table.ipynb>data table notebook</a>'\n",
              "            + ' to learn more about interactive tables.';\n",
              "          element.innerHTML = '';\n",
              "          dataTable['output_type'] = 'display_data';\n",
              "          await google.colab.output.renderOutput(dataTable, element);\n",
              "          const docLink = document.createElement('div');\n",
              "          docLink.innerHTML = docLinkHtml;\n",
              "          element.appendChild(docLink);\n",
              "        }\n",
              "      </script>\n",
              "    </div>\n",
              "  </div>\n",
              "  "
            ]
          },
          "metadata": {},
          "execution_count": 4
        }
      ],
      "source": [
        "salesData_dineIn"
      ],
      "id": "1kHiRpywGhrA"
    },
    {
      "cell_type": "code",
      "execution_count": null,
      "metadata": {
        "id": "Y2sBRUYNGhrD"
      },
      "outputs": [],
      "source": [
        "# Make sure there are no catering orders\n",
        "salesData_dineIn = salesData_dineIn[salesData_dineIn['Qty'] == 1]\n",
        "salesData_dineIn = salesData_dineIn[salesData_dineIn['Menu'] != 'CATERING']"
      ],
      "id": "Y2sBRUYNGhrD"
    },
    {
      "cell_type": "code",
      "execution_count": null,
      "metadata": {
        "id": "C847pggSGhrE"
      },
      "outputs": [],
      "source": [
        "newMenuDate = '2022-07-01'"
      ],
      "id": "C847pggSGhrE"
    },
    {
      "cell_type": "markdown",
      "metadata": {
        "id": "8G8V2tfGGhrF"
      },
      "source": [
        "### BYO Açaí Bowl"
      ],
      "id": "8G8V2tfGGhrF"
    },
    {
      "cell_type": "code",
      "execution_count": null,
      "metadata": {
        "id": "GaWLNCbFGhrJ"
      },
      "outputs": [],
      "source": [
        "acaiBowl = salesData_dineIn[salesData_dineIn['Menu Item'].str.contains('BYO Açaí Bowl')]"
      ],
      "id": "GaWLNCbFGhrJ"
    },
    {
      "cell_type": "code",
      "execution_count": null,
      "metadata": {
        "id": "2PTB0jCrGhrL"
      },
      "outputs": [],
      "source": [
        "acaiBowlSmall = acaiBowl[(acaiBowl['Gross Price'] == 8.99) | \n",
        "                         (acaiBowl['Gross Price'] == 9.99) | \n",
        "                         (acaiBowl['Gross Price'] == 10.99)]\n",
        "\n",
        "acaiBowlRegular = acaiBowl[(acaiBowl['Gross Price'] == 11.99) | \n",
        "                         (acaiBowl['Gross Price'] == 12.99) | \n",
        "                         (acaiBowl['Gross Price'] == 13.99)]\n",
        "\n",
        "acaiBowlSuper = acaiBowl[(acaiBowl['Gross Price'] >= 14.99)]\n",
        "\n",
        "totalAcaiBowlOrders = len(acaiBowl)"
      ],
      "id": "2PTB0jCrGhrL"
    },
    {
      "cell_type": "markdown",
      "metadata": {
        "id": "6rQHFIAtGhrM"
      },
      "source": [
        "#### Aggregating the monthly data"
      ],
      "id": "6rQHFIAtGhrM"
    },
    {
      "cell_type": "code",
      "execution_count": null,
      "metadata": {
        "id": "DJ3zGWdfGhrO"
      },
      "outputs": [],
      "source": [
        "regBowlsPc = acaiBowlRegular.groupby('Month').count()['Qty'].to_frame()\n",
        "smallBowlsPc = acaiBowlSmall.groupby('Month').count()['Qty']\n",
        "superBowlsPc = acaiBowlSuper.groupby('Month').count()['Qty']"
      ],
      "id": "DJ3zGWdfGhrO"
    },
    {
      "cell_type": "code",
      "execution_count": null,
      "metadata": {
        "id": "vTvxHgi7GhrR"
      },
      "outputs": [],
      "source": [
        "allData = (regBowlsPc.merge(smallBowlsPc, on = 'Month')).merge(superBowlsPc, on = 'Month').rename(columns = {'Qty_x': 'Regular',\n",
        "                                                                                                 'Qty_y': 'Small',\n",
        "                                                                                                 'Qty' : 'Super'})"
      ],
      "id": "vTvxHgi7GhrR"
    },
    {
      "cell_type": "code",
      "execution_count": null,
      "metadata": {
        "id": "LtVyeJh-GhrS"
      },
      "outputs": [],
      "source": [
        "allData.loc[:, 'RegularPc'] = round(allData['Regular'] / (allData['Small'] + allData['Super'] + allData['Regular']) * 100, 2)\n",
        "allData.loc[:, 'SmallPc'] = round(allData['Small'] / (allData['Small'] + allData['Super'] + allData['Regular']) * 100, 2)\n",
        "allData.loc[:, 'SuperPc'] = round(allData['Super'] / (allData['Small'] + allData['Super'] + allData['Regular']) * 100, 2)\n",
        "\n",
        "allData = allData.reset_index()"
      ],
      "id": "LtVyeJh-GhrS"
    },
    {
      "cell_type": "code",
      "execution_count": null,
      "metadata": {
        "id": "J33zyo9JGhrT",
        "outputId": "391beb5f-cfa2-47b1-985c-cea2e0fec5e9",
        "colab": {
          "base_uri": "https://localhost:8080/",
          "height": 404
        }
      },
      "outputs": [
        {
          "output_type": "display_data",
          "data": {
            "text/plain": [
              "<Figure size 1080x432 with 1 Axes>"
            ],
            "image/png": "[encoded data removed]"
          },
          "metadata": {
            "needs_background": "light"
          }
        }
      ],
      "source": [
        "ax = allData.plot(x = \"Month\", y = [\"RegularPc\", \"SmallPc\", \"SuperPc\"], kind = \"bar\", figsize = (15,6))\n",
        "ax.bar_label(ax.containers[0], fontsize = 8, fmt = '%.2f')\n",
        "ax.bar_label(ax.containers[1], fontsize = 8, fmt = '%.2f')\n",
        "ax.bar_label(ax.containers[2], fontsize = 8, fmt = '%.2f')\n",
        "plt.xticks(rotation = 0)\n",
        "plt.ylabel('Percentage of bowl orders')\n",
        "plt.title('Sales of Regular, Small, and Super Bowls over months')\n",
        "plt.legend(['Regular Bowls %', 'Small Bowls %', 'Super Bowls %'])\n",
        "plt.show()"
      ],
      "id": "J33zyo9JGhrT"
    },
    {
      "cell_type": "markdown",
      "metadata": {
        "id": "4BYzsUn-GhrT"
      },
      "source": [
        "#### Aggregating the daily data"
      ],
      "id": "4BYzsUn-GhrT"
    },
    {
      "cell_type": "code",
      "execution_count": null,
      "metadata": {
        "id": "zOhQlFJ5GhrU"
      },
      "outputs": [],
      "source": [
        "regBowlsPc = acaiBowlRegular.groupby('Date').count()['Qty'].to_frame()\n",
        "smallBowlsPc = acaiBowlSmall.groupby('Date').count()['Qty']\n",
        "superBowlsPc = acaiBowlSuper.groupby('Date').count()['Qty']"
      ],
      "id": "zOhQlFJ5GhrU"
    },
    {
      "cell_type": "code",
      "execution_count": null,
      "metadata": {
        "id": "yM688mHzGhrU"
      },
      "outputs": [],
      "source": [
        "allData = (regBowlsPc.merge(smallBowlsPc, on = 'Date')).merge(superBowlsPc, on = 'Date').rename(columns = {'Qty_x': 'Regular',\n",
        "                                                                                                 'Qty_y': 'Small',\n",
        "                                                                                                 'Qty' : 'Super'})\n",
        "allData = allData.sort_values(by = 'Date')"
      ],
      "id": "yM688mHzGhrU"
    },
    {
      "cell_type": "code",
      "execution_count": null,
      "metadata": {
        "id": "sGc643mEGhrV"
      },
      "outputs": [],
      "source": [
        "allData.loc[:, 'RegularPc'] = round(allData['Regular'] / (allData['Small'] + allData['Super'] + allData['Regular']) * 100, 2)\n",
        "allData.loc[:, 'SmallPc'] = round(allData['Small'] / (allData['Small'] + allData['Super'] + allData['Regular']) * 100, 2)\n",
        "allData.loc[:, 'SuperPc'] = round(allData['Super'] / (allData['Small'] + allData['Super'] + allData['Regular']) * 100, 2)\n",
        "\n",
        "allData = allData.reset_index()"
      ],
      "id": "sGc643mEGhrV"
    },
    {
      "cell_type": "code",
      "execution_count": null,
      "metadata": {
        "id": "hQLuH4sPGhrV"
      },
      "outputs": [],
      "source": [
        "allData['Date'] = pd.to_datetime(allData['Date'])\n",
        "\n",
        "previousMenu = allData[allData['Date'] < newMenuDate]\n",
        "newMenu = allData[allData['Date'] >= newMenuDate]"
      ],
      "id": "hQLuH4sPGhrV"
    },
    {
      "cell_type": "code",
      "execution_count": null,
      "metadata": {
        "id": "zGvF0-cuGhrW",
        "outputId": "c13b58e0-7baa-435e-e300-8303e0339f48",
        "colab": {
          "base_uri": "https://localhost:8080/",
          "height": 444
        }
      },
      "outputs": [
        {
          "output_type": "display_data",
          "data": {
            "text/plain": [
              "<Figure size 1080x504 with 1 Axes>"
            ],
            "image/png": "[encoded data removed]"
          },
          "metadata": {
            "needs_background": "light"
          }
        }
      ],
      "source": [
        "plt.figure(figsize = (15,7))\n",
        "\n",
        "sns.regplot(x = allData.index, y = allData.RegularPc, color = 'blue')\n",
        "sns.regplot(x = allData.index, y = allData.SmallPc, color = 'red')\n",
        "sns.regplot(x = allData.index, y = allData.SuperPc, color = 'cyan')\n",
        "\n",
        "plt.title('All Menu statistical significance for all three bowls category (Blue - Regular; Red - Small; Cyan - Super)')\n",
        "\n",
        "plt.show()"
      ],
      "id": "zGvF0-cuGhrW"
    },
    {
      "cell_type": "code",
      "execution_count": null,
      "metadata": {
        "scrolled": false,
        "id": "EIToXWhiGhrX",
        "outputId": "a776b4d6-5379-463a-a25f-f28a0ff4beb8",
        "colab": {
          "base_uri": "https://localhost:8080/",
          "height": 542
        }
      },
      "outputs": [
        {
          "output_type": "display_data",
          "data": {
            "text/html": [
              "<html>\n",
              "<head><meta charset=\"utf-8\" /></head>\n",
              "<body>\n",
              "    <div>            <script src=\"https://cdnjs.cloudflare.com/ajax/libs/mathjax/2.7.5/MathJax.js?config=TeX-AMS-MML_SVG\"></script><script type=\"text/javascript\">if (window.MathJax) {MathJax.Hub.Config({SVG: {font: \"STIX-Web\"}});}</script>                <script type=\"text/javascript\">window.PlotlyConfig = {MathJaxConfig: 'local'};</script>\n",
              "        <script src=\"https://cdn.plot.ly/plotly-2.8.3.min.js\"></script>                <div id=\"1bb2a3e0-ecab-4392-abac-4a567c971780\" class=\"plotly-graph-div\" style=\"height:525px; width:100%;\"></div>            <script type=\"text/javascript\">                                    window.PLOTLYENV=window.PLOTLYENV || {};                                    if (document.getElementById(\"1bb2a3e0-ecab-4392-abac-4a567c971780\")) {                    Plotly.newPlot(                        \"1bb2a3e0-ecab-4392-abac-4a567c971780\",                        [{\"hovertemplate\":\"variable=RegularPc<br>Date=%{x}<br>value=%{y}<extra></extra>\",\"legendgroup\":\"RegularPc\",\"line\":{\"color\":\"#636efa\",\"dash\":\"solid\"},\"marker\":{\"symbol\":\"circle\"},\"mode\":\"markers+lines\",\"name\":\"RegularPc\",\"orientation\":\"v\",\"showlegend\":true,\"x\":[\"2022-03-03T00:00:00\",\"2022-03-04T00:00:00\",\"2022-03-05T00:00:00\",\"2022-03-06T00:00:00\",\"2022-03-11T00:00:00\",\"2022-03-13T00:00:00\",\"2022-03-15T00:00:00\",\"2022-03-16T00:00:00\",\"2022-03-19T00:00:00\",\"2022-03-20T00:00:00\",\"2022-03-21T00:00:00\",\"2022-03-24T00:00:00\",\"2022-03-25T00:00:00\",\"2022-03-26T00:00:00\",\"2022-03-31T00:00:00\",\"2022-04-01T00:00:00\",\"2022-04-05T00:00:00\",\"2022-04-07T00:00:00\",\"2022-04-08T00:00:00\",\"2022-04-09T00:00:00\",\"2022-04-10T00:00:00\",\"2022-04-11T00:00:00\",\"2022-04-12T00:00:00\",\"2022-04-16T00:00:00\",\"2022-04-17T00:00:00\",\"2022-04-19T00:00:00\",\"2022-04-23T00:00:00\",\"2022-04-24T00:00:00\",\"2022-04-28T00:00:00\",\"2022-04-30T00:00:00\",\"2022-05-02T00:00:00\",\"2022-05-03T00:00:00\",\"2022-05-05T00:00:00\",\"2022-05-06T00:00:00\",\"2022-05-07T00:00:00\",\"2022-05-08T00:00:00\",\"2022-05-11T00:00:00\",\"2022-05-13T00:00:00\",\"2022-05-14T00:00:00\",\"2022-05-17T00:00:00\",\"2022-05-19T00:00:00\",\"2022-05-21T00:00:00\",\"2022-05-25T00:00:00\",\"2022-05-27T00:00:00\",\"2022-05-28T00:00:00\",\"2022-05-29T00:00:00\",\"2022-06-01T00:00:00\",\"2022-06-04T00:00:00\",\"2022-06-07T00:00:00\",\"2022-06-12T00:00:00\",\"2022-06-13T00:00:00\",\"2022-06-17T00:00:00\",\"2022-06-18T00:00:00\",\"2022-06-21T00:00:00\",\"2022-06-23T00:00:00\",\"2022-06-25T00:00:00\",\"2022-06-30T00:00:00\",\"2022-07-01T00:00:00\",\"2022-07-02T00:00:00\",\"2022-07-03T00:00:00\",\"2022-07-05T00:00:00\",\"2022-07-06T00:00:00\",\"2022-07-07T00:00:00\",\"2022-07-08T00:00:00\",\"2022-07-09T00:00:00\",\"2022-07-10T00:00:00\",\"2022-07-11T00:00:00\",\"2022-07-12T00:00:00\",\"2022-07-14T00:00:00\",\"2022-07-15T00:00:00\",\"2022-07-16T00:00:00\",\"2022-07-17T00:00:00\",\"2022-07-18T00:00:00\",\"2022-07-19T00:00:00\",\"2022-07-20T00:00:00\",\"2022-07-21T00:00:00\",\"2022-07-22T00:00:00\",\"2022-07-23T00:00:00\",\"2022-07-24T00:00:00\",\"2022-07-25T00:00:00\",\"2022-07-26T00:00:00\",\"2022-07-27T00:00:00\",\"2022-07-28T00:00:00\",\"2022-07-29T00:00:00\",\"2022-07-30T00:00:00\",\"2022-07-31T00:00:00\",\"2022-08-01T00:00:00\",\"2022-08-02T00:00:00\",\"2022-08-03T00:00:00\",\"2022-08-04T00:00:00\",\"2022-08-05T00:00:00\",\"2022-08-06T00:00:00\",\"2022-08-07T00:00:00\",\"2022-08-09T00:00:00\",\"2022-08-10T00:00:00\",\"2022-08-11T00:00:00\",\"2022-08-12T00:00:00\",\"2022-08-14T00:00:00\",\"2022-08-15T00:00:00\",\"2022-08-16T00:00:00\",\"2022-08-17T00:00:00\",\"2022-08-18T00:00:00\",\"2022-08-19T00:00:00\",\"2022-08-20T00:00:00\",\"2022-08-21T00:00:00\",\"2022-08-22T00:00:00\",\"2022-08-23T00:00:00\",\"2022-08-24T00:00:00\",\"2022-08-25T00:00:00\",\"2022-08-26T00:00:00\",\"2022-08-27T00:00:00\",\"2022-08-28T00:00:00\",\"2022-08-29T00:00:00\",\"2022-08-30T00:00:00\",\"2022-08-31T00:00:00\",\"2022-09-01T00:00:00\",\"2022-09-03T00:00:00\",\"2022-09-04T00:00:00\",\"2022-09-05T00:00:00\",\"2022-09-06T00:00:00\",\"2022-09-07T00:00:00\",\"2022-09-08T00:00:00\",\"2022-09-09T00:00:00\",\"2022-09-10T00:00:00\",\"2022-09-11T00:00:00\",\"2022-09-12T00:00:00\",\"2022-09-13T00:00:00\",\"2022-09-14T00:00:00\",\"2022-09-16T00:00:00\",\"2022-09-17T00:00:00\",\"2022-09-18T00:00:00\",\"2022-09-19T00:00:00\",\"2022-09-20T00:00:00\",\"2022-09-21T00:00:00\",\"2022-09-22T00:00:00\",\"2022-09-23T00:00:00\",\"2022-09-24T00:00:00\",\"2022-09-25T00:00:00\",\"2022-09-26T00:00:00\",\"2022-09-27T00:00:00\",\"2022-09-28T00:00:00\",\"2022-09-29T00:00:00\",\"2022-09-30T00:00:00\",\"2022-10-01T00:00:00\",\"2022-10-02T00:00:00\",\"2022-10-03T00:00:00\",\"2022-10-04T00:00:00\",\"2022-10-05T00:00:00\",\"2022-10-07T00:00:00\",\"2022-10-08T00:00:00\",\"2022-10-09T00:00:00\",\"2022-10-10T00:00:00\",\"2022-10-11T00:00:00\",\"2022-10-12T00:00:00\",\"2022-10-13T00:00:00\",\"2022-10-14T00:00:00\",\"2022-10-15T00:00:00\",\"2022-10-16T00:00:00\",\"2022-10-17T00:00:00\",\"2022-10-18T00:00:00\",\"2022-10-20T00:00:00\",\"2022-10-21T00:00:00\",\"2022-10-22T00:00:00\",\"2022-10-23T00:00:00\",\"2022-10-24T00:00:00\",\"2022-10-25T00:00:00\",\"2022-10-26T00:00:00\",\"2022-10-27T00:00:00\",\"2022-10-28T00:00:00\",\"2022-10-29T00:00:00\",\"2022-10-30T00:00:00\",\"2022-10-31T00:00:00\",\"2022-11-01T00:00:00\",\"2022-11-02T00:00:00\",\"2022-11-03T00:00:00\",\"2022-11-04T00:00:00\",\"2022-11-05T00:00:00\",\"2022-11-06T00:00:00\",\"2022-11-07T00:00:00\",\"2022-11-08T00:00:00\",\"2022-11-09T00:00:00\",\"2022-11-10T00:00:00\",\"2022-11-11T00:00:00\",\"2022-11-12T00:00:00\",\"2022-11-13T00:00:00\",\"2022-11-14T00:00:00\",\"2022-11-15T00:00:00\",\"2022-11-17T00:00:00\",\"2022-11-18T00:00:00\",\"2022-11-19T00:00:00\",\"2022-11-21T00:00:00\",\"2022-11-22T00:00:00\",\"2022-11-23T00:00:00\",\"2022-11-25T00:00:00\",\"2022-11-26T00:00:00\",\"2022-11-27T00:00:00\",\"2022-11-29T00:00:00\",\"2022-11-30T00:00:00\",\"2022-12-01T00:00:00\",\"2022-12-02T00:00:00\",\"2022-12-03T00:00:00\",\"2022-12-05T00:00:00\",\"2022-12-06T00:00:00\",\"2022-12-07T00:00:00\",\"2022-12-08T00:00:00\",\"2022-12-09T00:00:00\",\"2022-12-10T00:00:00\",\"2022-12-11T00:00:00\",\"2022-12-12T00:00:00\",\"2022-12-14T00:00:00\",\"2022-12-15T00:00:00\",\"2022-12-16T00:00:00\",\"2022-12-17T00:00:00\",\"2022-12-18T00:00:00\",\"2022-12-19T00:00:00\",\"2022-12-20T00:00:00\",\"2022-12-21T00:00:00\",\"2022-12-22T00:00:00\",\"2022-12-28T00:00:00\",\"2022-12-29T00:00:00\",\"2022-12-30T00:00:00\",\"2022-12-31T00:00:00\"],\"xaxis\":\"x\",\"y\":[64.29,64.71,71.43,71.43,36.67,33.33,60.0,56.25,44.12,55.56,57.14,50.0,29.41,48.15,44.44,52.17,64.29,27.78,52.17,63.16,45.0,60.0,50.0,62.07,64.0,52.17,50.0,50.0,30.77,57.69,64.29,62.5,44.44,50.0,52.63,21.43,53.85,68.75,66.67,25.0,46.15,41.38,71.43,58.33,55.56,50.0,62.5,72.73,42.86,59.09,54.55,45.45,85.71,52.94,56.52,60.87,65.0,64.29,78.57,43.75,72.22,50.0,69.57,52.94,66.67,58.33,23.08,28.57,80.0,58.82,47.83,45.45,58.82,30.77,52.38,40.0,50.0,40.74,59.26,48.0,18.75,62.5,50.0,51.85,45.16,55.17,11.11,46.67,46.67,38.89,38.46,68.75,48.0,50.0,35.29,41.67,18.18,68.42,37.5,50.0,37.5,57.14,26.67,55.56,57.14,42.11,69.23,38.46,55.56,47.37,42.86,35.0,36.36,31.25,46.15,72.22,40.91,62.5,47.06,14.29,44.44,57.14,30.77,52.94,23.08,41.18,42.86,44.44,30.0,70.59,36.36,47.06,14.29,38.46,38.89,44.83,48.0,31.25,38.89,72.73,57.69,30.77,57.14,52.63,66.67,33.33,45.45,37.5,57.14,27.78,60.0,58.82,22.22,30.77,58.33,66.67,38.89,53.85,41.18,57.14,50.0,25.0,58.62,57.89,52.38,44.44,28.57,41.18,35.71,52.17,50.0,40.0,37.5,50.0,58.82,50.0,66.67,66.67,44.44,64.29,41.67,64.71,40.0,61.11,57.14,62.5,26.67,31.25,56.25,47.62,69.23,40.0,38.46,45.45,57.14,30.0,33.33,41.67,50.0,21.43,60.0,33.33,63.64,28.57,54.55,45.45,43.75,43.75,46.67,50.0,31.58,50.0,50.0,50.0,16.67,36.36,50.0,35.71,28.57,47.06,43.75,65.62],\"yaxis\":\"y\",\"type\":\"scatter\"},{\"hovertemplate\":\"variable=SmallPc<br>Date=%{x}<br>value=%{y}<extra></extra>\",\"legendgroup\":\"SmallPc\",\"line\":{\"color\":\"#EF553B\",\"dash\":\"solid\"},\"marker\":{\"symbol\":\"circle\"},\"mode\":\"markers+lines\",\"name\":\"SmallPc\",\"orientation\":\"v\",\"showlegend\":true,\"x\":[\"2022-03-03T00:00:00\",\"2022-03-04T00:00:00\",\"2022-03-05T00:00:00\",\"2022-03-06T00:00:00\",\"2022-03-11T00:00:00\",\"2022-03-13T00:00:00\",\"2022-03-15T00:00:00\",\"2022-03-16T00:00:00\",\"2022-03-19T00:00:00\",\"2022-03-20T00:00:00\",\"2022-03-21T00:00:00\",\"2022-03-24T00:00:00\",\"2022-03-25T00:00:00\",\"2022-03-26T00:00:00\",\"2022-03-31T00:00:00\",\"2022-04-01T00:00:00\",\"2022-04-05T00:00:00\",\"2022-04-07T00:00:00\",\"2022-04-08T00:00:00\",\"2022-04-09T00:00:00\",\"2022-04-10T00:00:00\",\"2022-04-11T00:00:00\",\"2022-04-12T00:00:00\",\"2022-04-16T00:00:00\",\"2022-04-17T00:00:00\",\"2022-04-19T00:00:00\",\"2022-04-23T00:00:00\",\"2022-04-24T00:00:00\",\"2022-04-28T00:00:00\",\"2022-04-30T00:00:00\",\"2022-05-02T00:00:00\",\"2022-05-03T00:00:00\",\"2022-05-05T00:00:00\",\"2022-05-06T00:00:00\",\"2022-05-07T00:00:00\",\"2022-05-08T00:00:00\",\"2022-05-11T00:00:00\",\"2022-05-13T00:00:00\",\"2022-05-14T00:00:00\",\"2022-05-17T00:00:00\",\"2022-05-19T00:00:00\",\"2022-05-21T00:00:00\",\"2022-05-25T00:00:00\",\"2022-05-27T00:00:00\",\"2022-05-28T00:00:00\",\"2022-05-29T00:00:00\",\"2022-06-01T00:00:00\",\"2022-06-04T00:00:00\",\"2022-06-07T00:00:00\",\"2022-06-12T00:00:00\",\"2022-06-13T00:00:00\",\"2022-06-17T00:00:00\",\"2022-06-18T00:00:00\",\"2022-06-21T00:00:00\",\"2022-06-23T00:00:00\",\"2022-06-25T00:00:00\",\"2022-06-30T00:00:00\",\"2022-07-01T00:00:00\",\"2022-07-02T00:00:00\",\"2022-07-03T00:00:00\",\"2022-07-05T00:00:00\",\"2022-07-06T00:00:00\",\"2022-07-07T00:00:00\",\"2022-07-08T00:00:00\",\"2022-07-09T00:00:00\",\"2022-07-10T00:00:00\",\"2022-07-11T00:00:00\",\"2022-07-12T00:00:00\",\"2022-07-14T00:00:00\",\"2022-07-15T00:00:00\",\"2022-07-16T00:00:00\",\"2022-07-17T00:00:00\",\"2022-07-18T00:00:00\",\"2022-07-19T00:00:00\",\"2022-07-20T00:00:00\",\"2022-07-21T00:00:00\",\"2022-07-22T00:00:00\",\"2022-07-23T00:00:00\",\"2022-07-24T00:00:00\",\"2022-07-25T00:00:00\",\"2022-07-26T00:00:00\",\"2022-07-27T00:00:00\",\"2022-07-28T00:00:00\",\"2022-07-29T00:00:00\",\"2022-07-30T00:00:00\",\"2022-07-31T00:00:00\",\"2022-08-01T00:00:00\",\"2022-08-02T00:00:00\",\"2022-08-03T00:00:00\",\"2022-08-04T00:00:00\",\"2022-08-05T00:00:00\",\"2022-08-06T00:00:00\",\"2022-08-07T00:00:00\",\"2022-08-09T00:00:00\",\"2022-08-10T00:00:00\",\"2022-08-11T00:00:00\",\"2022-08-12T00:00:00\",\"2022-08-14T00:00:00\",\"2022-08-15T00:00:00\",\"2022-08-16T00:00:00\",\"2022-08-17T00:00:00\",\"2022-08-18T00:00:00\",\"2022-08-19T00:00:00\",\"2022-08-20T00:00:00\",\"2022-08-21T00:00:00\",\"2022-08-22T00:00:00\",\"2022-08-23T00:00:00\",\"2022-08-24T00:00:00\",\"2022-08-25T00:00:00\",\"2022-08-26T00:00:00\",\"2022-08-27T00:00:00\",\"2022-08-28T00:00:00\",\"2022-08-29T00:00:00\",\"2022-08-30T00:00:00\",\"2022-08-31T00:00:00\",\"2022-09-01T00:00:00\",\"2022-09-03T00:00:00\",\"2022-09-04T00:00:00\",\"2022-09-05T00:00:00\",\"2022-09-06T00:00:00\",\"2022-09-07T00:00:00\",\"2022-09-08T00:00:00\",\"2022-09-09T00:00:00\",\"2022-09-10T00:00:00\",\"2022-09-11T00:00:00\",\"2022-09-12T00:00:00\",\"2022-09-13T00:00:00\",\"2022-09-14T00:00:00\",\"2022-09-16T00:00:00\",\"2022-09-17T00:00:00\",\"2022-09-18T00:00:00\",\"2022-09-19T00:00:00\",\"2022-09-20T00:00:00\",\"2022-09-21T00:00:00\",\"2022-09-22T00:00:00\",\"2022-09-23T00:00:00\",\"2022-09-24T00:00:00\",\"2022-09-25T00:00:00\",\"2022-09-26T00:00:00\",\"2022-09-27T00:00:00\",\"2022-09-28T00:00:00\",\"2022-09-29T00:00:00\",\"2022-09-30T00:00:00\",\"2022-10-01T00:00:00\",\"2022-10-02T00:00:00\",\"2022-10-03T00:00:00\",\"2022-10-04T00:00:00\",\"2022-10-05T00:00:00\",\"2022-10-07T00:00:00\",\"2022-10-08T00:00:00\",\"2022-10-09T00:00:00\",\"2022-10-10T00:00:00\",\"2022-10-11T00:00:00\",\"2022-10-12T00:00:00\",\"2022-10-13T00:00:00\",\"2022-10-14T00:00:00\",\"2022-10-15T00:00:00\",\"2022-10-16T00:00:00\",\"2022-10-17T00:00:00\",\"2022-10-18T00:00:00\",\"2022-10-20T00:00:00\",\"2022-10-21T00:00:00\",\"2022-10-22T00:00:00\",\"2022-10-23T00:00:00\",\"2022-10-24T00:00:00\",\"2022-10-25T00:00:00\",\"2022-10-26T00:00:00\",\"2022-10-27T00:00:00\",\"2022-10-28T00:00:00\",\"2022-10-29T00:00:00\",\"2022-10-30T00:00:00\",\"2022-10-31T00:00:00\",\"2022-11-01T00:00:00\",\"2022-11-02T00:00:00\",\"2022-11-03T00:00:00\",\"2022-11-04T00:00:00\",\"2022-11-05T00:00:00\",\"2022-11-06T00:00:00\",\"2022-11-07T00:00:00\",\"2022-11-08T00:00:00\",\"2022-11-09T00:00:00\",\"2022-11-10T00:00:00\",\"2022-11-11T00:00:00\",\"2022-11-12T00:00:00\",\"2022-11-13T00:00:00\",\"2022-11-14T00:00:00\",\"2022-11-15T00:00:00\",\"2022-11-17T00:00:00\",\"2022-11-18T00:00:00\",\"2022-11-19T00:00:00\",\"2022-11-21T00:00:00\",\"2022-11-22T00:00:00\",\"2022-11-23T00:00:00\",\"2022-11-25T00:00:00\",\"2022-11-26T00:00:00\",\"2022-11-27T00:00:00\",\"2022-11-29T00:00:00\",\"2022-11-30T00:00:00\",\"2022-12-01T00:00:00\",\"2022-12-02T00:00:00\",\"2022-12-03T00:00:00\",\"2022-12-05T00:00:00\",\"2022-12-06T00:00:00\",\"2022-12-07T00:00:00\",\"2022-12-08T00:00:00\",\"2022-12-09T00:00:00\",\"2022-12-10T00:00:00\",\"2022-12-11T00:00:00\",\"2022-12-12T00:00:00\",\"2022-12-14T00:00:00\",\"2022-12-15T00:00:00\",\"2022-12-16T00:00:00\",\"2022-12-17T00:00:00\",\"2022-12-18T00:00:00\",\"2022-12-19T00:00:00\",\"2022-12-20T00:00:00\",\"2022-12-21T00:00:00\",\"2022-12-22T00:00:00\",\"2022-12-28T00:00:00\",\"2022-12-29T00:00:00\",\"2022-12-30T00:00:00\",\"2022-12-31T00:00:00\"],\"xaxis\":\"x\",\"y\":[32.14,29.41,25.0,23.81,46.67,16.67,20.0,31.25,52.94,40.74,28.57,42.86,64.71,44.44,44.44,43.48,28.57,66.67,34.78,31.58,35.0,33.33,45.83,27.59,32.0,43.48,38.46,46.67,61.54,30.77,28.57,31.25,44.44,44.44,36.84,71.43,38.46,18.75,25.93,58.33,46.15,51.72,21.43,29.17,40.74,37.5,31.25,18.18,42.86,27.27,40.91,50.0,7.14,41.18,39.13,30.43,30.0,28.57,17.86,50.0,11.11,5.56,21.74,41.18,25.0,25.0,46.15,42.86,13.33,17.65,34.78,27.27,35.29,30.77,23.81,40.0,41.67,25.93,33.33,48.0,50.0,31.25,18.75,40.74,38.71,24.14,66.67,33.33,33.33,38.89,46.15,6.25,40.0,40.0,47.06,25.0,63.64,15.79,43.75,20.0,25.0,28.57,46.67,16.67,28.57,42.11,15.38,46.15,38.89,42.11,35.71,40.0,36.36,43.75,46.15,11.11,31.82,31.25,29.41,57.14,33.33,33.33,30.77,35.29,46.15,23.53,42.86,33.33,50.0,17.65,36.36,47.06,28.57,7.69,44.44,34.48,40.0,31.25,33.33,18.18,30.77,46.15,21.43,31.58,20.0,44.44,18.18,43.75,35.71,44.44,30.0,35.29,66.67,61.54,16.67,22.22,27.78,30.77,47.06,14.29,25.0,60.0,24.14,31.58,33.33,44.44,57.14,41.18,28.57,39.13,43.75,26.67,50.0,20.0,29.41,20.0,19.05,22.22,44.44,28.57,41.67,23.53,50.0,33.33,35.71,25.0,46.67,43.75,31.25,38.1,23.08,50.0,46.15,36.36,28.57,50.0,38.89,33.33,10.0,71.43,13.33,33.33,18.18,42.86,27.27,9.09,43.75,37.5,26.67,37.5,26.32,25.0,20.0,16.67,66.67,27.27,33.33,28.57,47.62,23.53,31.25,15.62],\"yaxis\":\"y\",\"type\":\"scatter\"},{\"hovertemplate\":\"variable=SuperPc<br>Date=%{x}<br>value=%{y}<extra></extra>\",\"legendgroup\":\"SuperPc\",\"line\":{\"color\":\"#00cc96\",\"dash\":\"solid\"},\"marker\":{\"symbol\":\"circle\"},\"mode\":\"markers+lines\",\"name\":\"SuperPc\",\"orientation\":\"v\",\"showlegend\":true,\"x\":[\"2022-03-03T00:00:00\",\"2022-03-04T00:00:00\",\"2022-03-05T00:00:00\",\"2022-03-06T00:00:00\",\"2022-03-11T00:00:00\",\"2022-03-13T00:00:00\",\"2022-03-15T00:00:00\",\"2022-03-16T00:00:00\",\"2022-03-19T00:00:00\",\"2022-03-20T00:00:00\",\"2022-03-21T00:00:00\",\"2022-03-24T00:00:00\",\"2022-03-25T00:00:00\",\"2022-03-26T00:00:00\",\"2022-03-31T00:00:00\",\"2022-04-01T00:00:00\",\"2022-04-05T00:00:00\",\"2022-04-07T00:00:00\",\"2022-04-08T00:00:00\",\"2022-04-09T00:00:00\",\"2022-04-10T00:00:00\",\"2022-04-11T00:00:00\",\"2022-04-12T00:00:00\",\"2022-04-16T00:00:00\",\"2022-04-17T00:00:00\",\"2022-04-19T00:00:00\",\"2022-04-23T00:00:00\",\"2022-04-24T00:00:00\",\"2022-04-28T00:00:00\",\"2022-04-30T00:00:00\",\"2022-05-02T00:00:00\",\"2022-05-03T00:00:00\",\"2022-05-05T00:00:00\",\"2022-05-06T00:00:00\",\"2022-05-07T00:00:00\",\"2022-05-08T00:00:00\",\"2022-05-11T00:00:00\",\"2022-05-13T00:00:00\",\"2022-05-14T00:00:00\",\"2022-05-17T00:00:00\",\"2022-05-19T00:00:00\",\"2022-05-21T00:00:00\",\"2022-05-25T00:00:00\",\"2022-05-27T00:00:00\",\"2022-05-28T00:00:00\",\"2022-05-29T00:00:00\",\"2022-06-01T00:00:00\",\"2022-06-04T00:00:00\",\"2022-06-07T00:00:00\",\"2022-06-12T00:00:00\",\"2022-06-13T00:00:00\",\"2022-06-17T00:00:00\",\"2022-06-18T00:00:00\",\"2022-06-21T00:00:00\",\"2022-06-23T00:00:00\",\"2022-06-25T00:00:00\",\"2022-06-30T00:00:00\",\"2022-07-01T00:00:00\",\"2022-07-02T00:00:00\",\"2022-07-03T00:00:00\",\"2022-07-05T00:00:00\",\"2022-07-06T00:00:00\",\"2022-07-07T00:00:00\",\"2022-07-08T00:00:00\",\"2022-07-09T00:00:00\",\"2022-07-10T00:00:00\",\"2022-07-11T00:00:00\",\"2022-07-12T00:00:00\",\"2022-07-14T00:00:00\",\"2022-07-15T00:00:00\",\"2022-07-16T00:00:00\",\"2022-07-17T00:00:00\",\"2022-07-18T00:00:00\",\"2022-07-19T00:00:00\",\"2022-07-20T00:00:00\",\"2022-07-21T00:00:00\",\"2022-07-22T00:00:00\",\"2022-07-23T00:00:00\",\"2022-07-24T00:00:00\",\"2022-07-25T00:00:00\",\"2022-07-26T00:00:00\",\"2022-07-27T00:00:00\",\"2022-07-28T00:00:00\",\"2022-07-29T00:00:00\",\"2022-07-30T00:00:00\",\"2022-07-31T00:00:00\",\"2022-08-01T00:00:00\",\"2022-08-02T00:00:00\",\"2022-08-03T00:00:00\",\"2022-08-04T00:00:00\",\"2022-08-05T00:00:00\",\"2022-08-06T00:00:00\",\"2022-08-07T00:00:00\",\"2022-08-09T00:00:00\",\"2022-08-10T00:00:00\",\"2022-08-11T00:00:00\",\"2022-08-12T00:00:00\",\"2022-08-14T00:00:00\",\"2022-08-15T00:00:00\",\"2022-08-16T00:00:00\",\"2022-08-17T00:00:00\",\"2022-08-18T00:00:00\",\"2022-08-19T00:00:00\",\"2022-08-20T00:00:00\",\"2022-08-21T00:00:00\",\"2022-08-22T00:00:00\",\"2022-08-23T00:00:00\",\"2022-08-24T00:00:00\",\"2022-08-25T00:00:00\",\"2022-08-26T00:00:00\",\"2022-08-27T00:00:00\",\"2022-08-28T00:00:00\",\"2022-08-29T00:00:00\",\"2022-08-30T00:00:00\",\"2022-08-31T00:00:00\",\"2022-09-01T00:00:00\",\"2022-09-03T00:00:00\",\"2022-09-04T00:00:00\",\"2022-09-05T00:00:00\",\"2022-09-06T00:00:00\",\"2022-09-07T00:00:00\",\"2022-09-08T00:00:00\",\"2022-09-09T00:00:00\",\"2022-09-10T00:00:00\",\"2022-09-11T00:00:00\",\"2022-09-12T00:00:00\",\"2022-09-13T00:00:00\",\"2022-09-14T00:00:00\",\"2022-09-16T00:00:00\",\"2022-09-17T00:00:00\",\"2022-09-18T00:00:00\",\"2022-09-19T00:00:00\",\"2022-09-20T00:00:00\",\"2022-09-21T00:00:00\",\"2022-09-22T00:00:00\",\"2022-09-23T00:00:00\",\"2022-09-24T00:00:00\",\"2022-09-25T00:00:00\",\"2022-09-26T00:00:00\",\"2022-09-27T00:00:00\",\"2022-09-28T00:00:00\",\"2022-09-29T00:00:00\",\"2022-09-30T00:00:00\",\"2022-10-01T00:00:00\",\"2022-10-02T00:00:00\",\"2022-10-03T00:00:00\",\"2022-10-04T00:00:00\",\"2022-10-05T00:00:00\",\"2022-10-07T00:00:00\",\"2022-10-08T00:00:00\",\"2022-10-09T00:00:00\",\"2022-10-10T00:00:00\",\"2022-10-11T00:00:00\",\"2022-10-12T00:00:00\",\"2022-10-13T00:00:00\",\"2022-10-14T00:00:00\",\"2022-10-15T00:00:00\",\"2022-10-16T00:00:00\",\"2022-10-17T00:00:00\",\"2022-10-18T00:00:00\",\"2022-10-20T00:00:00\",\"2022-10-21T00:00:00\",\"2022-10-22T00:00:00\",\"2022-10-23T00:00:00\",\"2022-10-24T00:00:00\",\"2022-10-25T00:00:00\",\"2022-10-26T00:00:00\",\"2022-10-27T00:00:00\",\"2022-10-28T00:00:00\",\"2022-10-29T00:00:00\",\"2022-10-30T00:00:00\",\"2022-10-31T00:00:00\",\"2022-11-01T00:00:00\",\"2022-11-02T00:00:00\",\"2022-11-03T00:00:00\",\"2022-11-04T00:00:00\",\"2022-11-05T00:00:00\",\"2022-11-06T00:00:00\",\"2022-11-07T00:00:00\",\"2022-11-08T00:00:00\",\"2022-11-09T00:00:00\",\"2022-11-10T00:00:00\",\"2022-11-11T00:00:00\",\"2022-11-12T00:00:00\",\"2022-11-13T00:00:00\",\"2022-11-14T00:00:00\",\"2022-11-15T00:00:00\",\"2022-11-17T00:00:00\",\"2022-11-18T00:00:00\",\"2022-11-19T00:00:00\",\"2022-11-21T00:00:00\",\"2022-11-22T00:00:00\",\"2022-11-23T00:00:00\",\"2022-11-25T00:00:00\",\"2022-11-26T00:00:00\",\"2022-11-27T00:00:00\",\"2022-11-29T00:00:00\",\"2022-11-30T00:00:00\",\"2022-12-01T00:00:00\",\"2022-12-02T00:00:00\",\"2022-12-03T00:00:00\",\"2022-12-05T00:00:00\",\"2022-12-06T00:00:00\",\"2022-12-07T00:00:00\",\"2022-12-08T00:00:00\",\"2022-12-09T00:00:00\",\"2022-12-10T00:00:00\",\"2022-12-11T00:00:00\",\"2022-12-12T00:00:00\",\"2022-12-14T00:00:00\",\"2022-12-15T00:00:00\",\"2022-12-16T00:00:00\",\"2022-12-17T00:00:00\",\"2022-12-18T00:00:00\",\"2022-12-19T00:00:00\",\"2022-12-20T00:00:00\",\"2022-12-21T00:00:00\",\"2022-12-22T00:00:00\",\"2022-12-28T00:00:00\",\"2022-12-29T00:00:00\",\"2022-12-30T00:00:00\",\"2022-12-31T00:00:00\"],\"xaxis\":\"x\",\"y\":[3.57,5.88,3.57,4.76,16.67,50.0,20.0,12.5,2.94,3.7,14.29,7.14,5.88,7.41,11.11,4.35,7.14,5.56,13.04,5.26,20.0,6.67,4.17,10.34,4.0,4.35,11.54,3.33,7.69,11.54,7.14,6.25,11.11,5.56,10.53,7.14,7.69,12.5,7.41,16.67,7.69,6.9,7.14,12.5,3.7,12.5,6.25,9.09,14.29,13.64,4.55,4.55,7.14,5.88,4.35,8.7,5.0,7.14,3.57,6.25,16.67,44.44,8.7,5.88,8.33,16.67,30.77,28.57,6.67,23.53,17.39,27.27,5.88,38.46,23.81,20.0,8.33,33.33,7.41,4.0,31.25,6.25,31.25,7.41,16.13,20.69,22.22,20.0,20.0,22.22,15.38,25.0,12.0,10.0,17.65,33.33,18.18,15.79,18.75,30.0,37.5,14.29,26.67,27.78,14.29,15.79,15.38,15.38,5.56,10.53,21.43,25.0,27.27,25.0,7.69,16.67,27.27,6.25,23.53,28.57,22.22,9.52,38.46,11.76,30.77,35.29,14.29,22.22,20.0,11.76,27.27,5.88,57.14,53.85,16.67,20.69,12.0,37.5,27.78,9.09,11.54,23.08,21.43,15.79,13.33,22.22,36.36,18.75,7.14,27.78,10.0,5.88,11.11,7.69,25.0,11.11,33.33,15.38,11.76,28.57,25.0,15.0,17.24,10.53,14.29,11.11,14.29,17.65,35.71,8.7,6.25,33.33,12.5,30.0,11.76,30.0,14.29,11.11,11.11,7.14,16.67,11.76,10.0,5.56,7.14,12.5,26.67,25.0,12.5,14.29,7.69,10.0,15.38,18.18,14.29,20.0,27.78,25.0,40.0,7.14,26.67,33.33,18.18,28.57,18.18,45.45,12.5,18.75,26.67,12.5,42.11,25.0,30.0,33.33,16.67,36.36,16.67,35.71,23.81,29.41,25.0,18.75],\"yaxis\":\"y\",\"type\":\"scatter\"}],                        {\"template\":{\"data\":{\"bar\":[{\"error_x\":{\"color\":\"#2a3f5f\"},\"error_y\":{\"color\":\"#2a3f5f\"},\"marker\":{\"line\":{\"color\":\"#E5ECF6\",\"width\":0.5},\"pattern\":{\"fillmode\":\"overlay\",\"size\":10,\"solidity\":0.2}},\"type\":\"bar\"}],\"barpolar\":[{\"marker\":{\"line\":{\"color\":\"#E5ECF6\",\"width\":0.5},\"pattern\":{\"fillmode\":\"overlay\",\"size\":10,\"solidity\":0.2}},\"type\":\"barpolar\"}],\"carpet\":[{\"aaxis\":{\"endlinecolor\":\"#2a3f5f\",\"gridcolor\":\"white\",\"linecolor\":\"white\",\"minorgridcolor\":\"white\",\"startlinecolor\":\"#2a3f5f\"},\"baxis\":{\"endlinecolor\":\"#2a3f5f\",\"gridcolor\":\"white\",\"linecolor\":\"white\",\"minorgridcolor\":\"white\",\"startlinecolor\":\"#2a3f5f\"},\"type\":\"carpet\"}],\"choropleth\":[{\"colorbar\":{\"outlinewidth\":0,\"ticks\":\"\"},\"type\":\"choropleth\"}],\"contour\":[{\"colorbar\":{\"outlinewidth\":0,\"ticks\":\"\"},\"colorscale\":[[0.0,\"#0d0887\"],[0.1111111111111111,\"#46039f\"],[0.2222222222222222,\"#7201a8\"],[0.3333333333333333,\"#9c179e\"],[0.4444444444444444,\"#bd3786\"],[0.5555555555555556,\"#d8576b\"],[0.6666666666666666,\"#ed7953\"],[0.7777777777777778,\"#fb9f3a\"],[0.8888888888888888,\"#fdca26\"],[1.0,\"#f0f921\"]],\"type\":\"contour\"}],\"contourcarpet\":[{\"colorbar\":{\"outlinewidth\":0,\"ticks\":\"\"},\"type\":\"contourcarpet\"}],\"heatmap\":[{\"colorbar\":{\"outlinewidth\":0,\"ticks\":\"\"},\"colorscale\":[[0.0,\"#0d0887\"],[0.1111111111111111,\"#46039f\"],[0.2222222222222222,\"#7201a8\"],[0.3333333333333333,\"#9c179e\"],[0.4444444444444444,\"#bd3786\"],[0.5555555555555556,\"#d8576b\"],[0.6666666666666666,\"#ed7953\"],[0.7777777777777778,\"#fb9f3a\"],[0.8888888888888888,\"#fdca26\"],[1.0,\"#f0f921\"]],\"type\":\"heatmap\"}],\"heatmapgl\":[{\"colorbar\":{\"outlinewidth\":0,\"ticks\":\"\"},\"colorscale\":[[0.0,\"#0d0887\"],[0.1111111111111111,\"#46039f\"],[0.2222222222222222,\"#7201a8\"],[0.3333333333333333,\"#9c179e\"],[0.4444444444444444,\"#bd3786\"],[0.5555555555555556,\"#d8576b\"],[0.6666666666666666,\"#ed7953\"],[0.7777777777777778,\"#fb9f3a\"],[0.8888888888888888,\"#fdca26\"],[1.0,\"#f0f921\"]],\"type\":\"heatmapgl\"}],\"histogram\":[{\"marker\":{\"pattern\":{\"fillmode\":\"overlay\",\"size\":10,\"solidity\":0.2}},\"type\":\"histogram\"}],\"histogram2d\":[{\"colorbar\":{\"outlinewidth\":0,\"ticks\":\"\"},\"colorscale\":[[0.0,\"#0d0887\"],[0.1111111111111111,\"#46039f\"],[0.2222222222222222,\"#7201a8\"],[0.3333333333333333,\"#9c179e\"],[0.4444444444444444,\"#bd3786\"],[0.5555555555555556,\"#d8576b\"],[0.6666666666666666,\"#ed7953\"],[0.7777777777777778,\"#fb9f3a\"],[0.8888888888888888,\"#fdca26\"],[1.0,\"#f0f921\"]],\"type\":\"histogram2d\"}],\"histogram2dcontour\":[{\"colorbar\":{\"outlinewidth\":0,\"ticks\":\"\"},\"colorscale\":[[0.0,\"#0d0887\"],[0.1111111111111111,\"#46039f\"],[0.2222222222222222,\"#7201a8\"],[0.3333333333333333,\"#9c179e\"],[0.4444444444444444,\"#bd3786\"],[0.5555555555555556,\"#d8576b\"],[0.6666666666666666,\"#ed7953\"],[0.7777777777777778,\"#fb9f3a\"],[0.8888888888888888,\"#fdca26\"],[1.0,\"#f0f921\"]],\"type\":\"histogram2dcontour\"}],\"mesh3d\":[{\"colorbar\":{\"outlinewidth\":0,\"ticks\":\"\"},\"type\":\"mesh3d\"}],\"parcoords\":[{\"line\":{\"colorbar\":{\"outlinewidth\":0,\"ticks\":\"\"}},\"type\":\"parcoords\"}],\"pie\":[{\"automargin\":true,\"type\":\"pie\"}],\"scatter\":[{\"marker\":{\"colorbar\":{\"outlinewidth\":0,\"ticks\":\"\"}},\"type\":\"scatter\"}],\"scatter3d\":[{\"line\":{\"colorbar\":{\"outlinewidth\":0,\"ticks\":\"\"}},\"marker\":{\"colorbar\":{\"outlinewidth\":0,\"ticks\":\"\"}},\"type\":\"scatter3d\"}],\"scattercarpet\":[{\"marker\":{\"colorbar\":{\"outlinewidth\":0,\"ticks\":\"\"}},\"type\":\"scattercarpet\"}],\"scattergeo\":[{\"marker\":{\"colorbar\":{\"outlinewidth\":0,\"ticks\":\"\"}},\"type\":\"scattergeo\"}],\"scattergl\":[{\"marker\":{\"colorbar\":{\"outlinewidth\":0,\"ticks\":\"\"}},\"type\":\"scattergl\"}],\"scattermapbox\":[{\"marker\":{\"colorbar\":{\"outlinewidth\":0,\"ticks\":\"\"}},\"type\":\"scattermapbox\"}],\"scatterpolar\":[{\"marker\":{\"colorbar\":{\"outlinewidth\":0,\"ticks\":\"\"}},\"type\":\"scatterpolar\"}],\"scatterpolargl\":[{\"marker\":{\"colorbar\":{\"outlinewidth\":0,\"ticks\":\"\"}},\"type\":\"scatterpolargl\"}],\"scatterternary\":[{\"marker\":{\"colorbar\":{\"outlinewidth\":0,\"ticks\":\"\"}},\"type\":\"scatterternary\"}],\"surface\":[{\"colorbar\":{\"outlinewidth\":0,\"ticks\":\"\"},\"colorscale\":[[0.0,\"#0d0887\"],[0.1111111111111111,\"#46039f\"],[0.2222222222222222,\"#7201a8\"],[0.3333333333333333,\"#9c179e\"],[0.4444444444444444,\"#bd3786\"],[0.5555555555555556,\"#d8576b\"],[0.6666666666666666,\"#ed7953\"],[0.7777777777777778,\"#fb9f3a\"],[0.8888888888888888,\"#fdca26\"],[1.0,\"#f0f921\"]],\"type\":\"surface\"}],\"table\":[{\"cells\":{\"fill\":{\"color\":\"#EBF0F8\"},\"line\":{\"color\":\"white\"}},\"header\":{\"fill\":{\"color\":\"#C8D4E3\"},\"line\":{\"color\":\"white\"}},\"type\":\"table\"}]},\"layout\":{\"annotationdefaults\":{\"arrowcolor\":\"#2a3f5f\",\"arrowhead\":0,\"arrowwidth\":1},\"autotypenumbers\":\"strict\",\"coloraxis\":{\"colorbar\":{\"outlinewidth\":0,\"ticks\":\"\"}},\"colorscale\":{\"diverging\":[[0,\"#8e0152\"],[0.1,\"#c51b7d\"],[0.2,\"#de77ae\"],[0.3,\"#f1b6da\"],[0.4,\"#fde0ef\"],[0.5,\"#f7f7f7\"],[0.6,\"#e6f5d0\"],[0.7,\"#b8e186\"],[0.8,\"#7fbc41\"],[0.9,\"#4d9221\"],[1,\"#276419\"]],\"sequential\":[[0.0,\"#0d0887\"],[0.1111111111111111,\"#46039f\"],[0.2222222222222222,\"#7201a8\"],[0.3333333333333333,\"#9c179e\"],[0.4444444444444444,\"#bd3786\"],[0.5555555555555556,\"#d8576b\"],[0.6666666666666666,\"#ed7953\"],[0.7777777777777778,\"#fb9f3a\"],[0.8888888888888888,\"#fdca26\"],[1.0,\"#f0f921\"]],\"sequentialminus\":[[0.0,\"#0d0887\"],[0.1111111111111111,\"#46039f\"],[0.2222222222222222,\"#7201a8\"],[0.3333333333333333,\"#9c179e\"],[0.4444444444444444,\"#bd3786\"],[0.5555555555555556,\"#d8576b\"],[0.6666666666666666,\"#ed7953\"],[0.7777777777777778,\"#fb9f3a\"],[0.8888888888888888,\"#fdca26\"],[1.0,\"#f0f921\"]]},\"colorway\":[\"#636efa\",\"#EF553B\",\"#00cc96\",\"#ab63fa\",\"#FFA15A\",\"#19d3f3\",\"#FF6692\",\"#B6E880\",\"#FF97FF\",\"#FECB52\"],\"font\":{\"color\":\"#2a3f5f\"},\"geo\":{\"bgcolor\":\"white\",\"lakecolor\":\"white\",\"landcolor\":\"#E5ECF6\",\"showlakes\":true,\"showland\":true,\"subunitcolor\":\"white\"},\"hoverlabel\":{\"align\":\"left\"},\"hovermode\":\"closest\",\"mapbox\":{\"style\":\"light\"},\"paper_bgcolor\":\"white\",\"plot_bgcolor\":\"#E5ECF6\",\"polar\":{\"angularaxis\":{\"gridcolor\":\"white\",\"linecolor\":\"white\",\"ticks\":\"\"},\"bgcolor\":\"#E5ECF6\",\"radialaxis\":{\"gridcolor\":\"white\",\"linecolor\":\"white\",\"ticks\":\"\"}},\"scene\":{\"xaxis\":{\"backgroundcolor\":\"#E5ECF6\",\"gridcolor\":\"white\",\"gridwidth\":2,\"linecolor\":\"white\",\"showbackground\":true,\"ticks\":\"\",\"zerolinecolor\":\"white\"},\"yaxis\":{\"backgroundcolor\":\"#E5ECF6\",\"gridcolor\":\"white\",\"gridwidth\":2,\"linecolor\":\"white\",\"showbackground\":true,\"ticks\":\"\",\"zerolinecolor\":\"white\"},\"zaxis\":{\"backgroundcolor\":\"#E5ECF6\",\"gridcolor\":\"white\",\"gridwidth\":2,\"linecolor\":\"white\",\"showbackground\":true,\"ticks\":\"\",\"zerolinecolor\":\"white\"}},\"shapedefaults\":{\"line\":{\"color\":\"#2a3f5f\"}},\"ternary\":{\"aaxis\":{\"gridcolor\":\"white\",\"linecolor\":\"white\",\"ticks\":\"\"},\"baxis\":{\"gridcolor\":\"white\",\"linecolor\":\"white\",\"ticks\":\"\"},\"bgcolor\":\"#E5ECF6\",\"caxis\":{\"gridcolor\":\"white\",\"linecolor\":\"white\",\"ticks\":\"\"}},\"title\":{\"x\":0.05},\"xaxis\":{\"automargin\":true,\"gridcolor\":\"white\",\"linecolor\":\"white\",\"ticks\":\"\",\"title\":{\"standoff\":15},\"zerolinecolor\":\"white\",\"zerolinewidth\":2},\"yaxis\":{\"automargin\":true,\"gridcolor\":\"white\",\"linecolor\":\"white\",\"ticks\":\"\",\"title\":{\"standoff\":15},\"zerolinecolor\":\"white\",\"zerolinewidth\":2}}},\"xaxis\":{\"anchor\":\"y\",\"domain\":[0.0,1.0],\"title\":{\"text\":\"Date\"}},\"yaxis\":{\"anchor\":\"x\",\"domain\":[0.0,1.0],\"title\":{\"text\":\"value\"}},\"legend\":{\"title\":{\"text\":\"variable\"},\"tracegroupgap\":0},\"title\":{\"text\":\"Sales of Regular, Small, and Super Bowls over dates\"}},                        {\"responsive\": true}                    ).then(function(){\n",
              "                            \n",
              "var gd = document.getElementById('1bb2a3e0-ecab-4392-abac-4a567c971780');\n",
              "var x = new MutationObserver(function (mutations, observer) {{\n",
              "        var display = window.getComputedStyle(gd).display;\n",
              "        if (!display || display === 'none') {{\n",
              "            console.log([gd, 'removed!']);\n",
              "            Plotly.purge(gd);\n",
              "            observer.disconnect();\n",
              "        }}\n",
              "}});\n",
              "\n",
              "// Listen for the removal of the full notebook cells\n",
              "var notebookContainer = gd.closest('#notebook-container');\n",
              "if (notebookContainer) {{\n",
              "    x.observe(notebookContainer, {childList: true});\n",
              "}}\n",
              "\n",
              "// Listen for the clearing of the current output cell\n",
              "var outputEl = gd.closest('.output');\n",
              "if (outputEl) {{\n",
              "    x.observe(outputEl, {childList: true});\n",
              "}}\n",
              "\n",
              "                        })                };                            </script>        </div>\n",
              "</body>\n",
              "</html>"
            ]
          },
          "metadata": {}
        }
      ],
      "source": [
        "fig = px.line(allData, x = \"Date\", y = [\"RegularPc\", \"SmallPc\", 'SuperPc'], \n",
        "              title = 'Sales of Regular, Small, and Super Bowls over dates',\n",
        "              markers = True)\n",
        "\n",
        "#fig.add_vline(x = newMenuDate, line_width = 1.5, line_color = \"black\")\n",
        "fig.show()"
      ],
      "id": "EIToXWhiGhrX"
    },
    {
      "cell_type": "markdown",
      "metadata": {
        "id": "W3UwL3oFGhrX"
      },
      "source": [
        "### Matcha Green Bowl"
      ],
      "id": "W3UwL3oFGhrX"
    },
    {
      "cell_type": "code",
      "execution_count": null,
      "metadata": {
        "id": "jioDYfKWGhrY"
      },
      "outputs": [],
      "source": [
        "MatchaGreenBowl = salesData_dineIn[salesData_dineIn['Menu Item'].str.contains('Matcha Green Bowl')]"
      ],
      "id": "jioDYfKWGhrY"
    },
    {
      "cell_type": "code",
      "execution_count": null,
      "metadata": {
        "id": "nPsLlllXGhrY"
      },
      "outputs": [],
      "source": [
        "MatchaGreenBowlSmall = MatchaGreenBowl[(MatchaGreenBowl['Gross Price'] == 8.99) | \n",
        "                         (MatchaGreenBowl['Gross Price'] == 9.99) | \n",
        "                         (MatchaGreenBowl['Gross Price'] == 10.99)]\n",
        "\n",
        "MatchaGreenBowlRegular = MatchaGreenBowl[(MatchaGreenBowl['Gross Price'] == 11.99) | \n",
        "                         (MatchaGreenBowl['Gross Price'] == 12.99) | \n",
        "                         (MatchaGreenBowl['Gross Price'] == 13.99)]\n",
        "\n",
        "MatchaGreenBowlSuper = MatchaGreenBowl[(MatchaGreenBowl['Gross Price'] >= 14.99)]\n",
        "\n",
        "totalMatchaGreenBowlOrders = len(MatchaGreenBowl)"
      ],
      "id": "nPsLlllXGhrY"
    },
    {
      "cell_type": "markdown",
      "metadata": {
        "id": "wlXmYcBIGhrZ"
      },
      "source": [
        "#### Aggregating the monthly data"
      ],
      "id": "wlXmYcBIGhrZ"
    },
    {
      "cell_type": "code",
      "execution_count": null,
      "metadata": {
        "id": "EANwOUqLGhrZ"
      },
      "outputs": [],
      "source": [
        "regBowlsPc = MatchaGreenBowlRegular.groupby('Month').count()['Qty'].to_frame()\n",
        "smallBowlsPc = MatchaGreenBowlSmall.groupby('Month').count()['Qty']\n",
        "superBowlsPc = MatchaGreenBowlSuper.groupby('Month').count()['Qty']"
      ],
      "id": "EANwOUqLGhrZ"
    },
    {
      "cell_type": "code",
      "execution_count": null,
      "metadata": {
        "id": "S3vzhFpIGhrZ"
      },
      "outputs": [],
      "source": [
        "allData = (regBowlsPc.merge(smallBowlsPc, on = 'Month', how = 'outer')).merge(superBowlsPc, on = 'Month', how = 'outer').rename(\n",
        "    columns = {'Qty_x': 'Regular',\n",
        "                                                                                                 'Qty_y': 'Small',\n",
        "                                                                                                 'Qty' : 'Super'})"
      ],
      "id": "S3vzhFpIGhrZ"
    },
    {
      "cell_type": "code",
      "execution_count": null,
      "metadata": {
        "id": "h5_aA4leGhra"
      },
      "outputs": [],
      "source": [
        "allData = allData.fillna(0)\n",
        "allData = allData.sort_values(by = 'Month')"
      ],
      "id": "h5_aA4leGhra"
    },
    {
      "cell_type": "code",
      "execution_count": null,
      "metadata": {
        "id": "GTDwbcYuGhra"
      },
      "outputs": [],
      "source": [
        "allData.loc[:, 'RegularPc'] = round(allData['Regular'] / (allData['Small'] + allData['Super'] + allData['Regular']) * 100, 2)\n",
        "allData.loc[:, 'SmallPc'] = round(allData['Small'] / (allData['Small'] + allData['Super'] + allData['Regular']) * 100, 2)\n",
        "allData.loc[:, 'SuperPc'] = round(allData['Super'] / (allData['Small'] + allData['Super'] + allData['Regular']) * 100, 2)\n",
        "\n",
        "allData = allData.reset_index()"
      ],
      "id": "GTDwbcYuGhra"
    },
    {
      "cell_type": "code",
      "execution_count": null,
      "metadata": {
        "id": "OoHux7wzGhrb",
        "outputId": "cb686927-ad2b-4afd-84cd-e2c9cc4339bd",
        "colab": {
          "base_uri": "https://localhost:8080/",
          "height": 404
        }
      },
      "outputs": [
        {
          "output_type": "display_data",
          "data": {
            "text/plain": [
              "<Figure size 1080x432 with 1 Axes>"
            ],
            "image/png": "[encoded data removed]"
          },
          "metadata": {
            "needs_background": "light"
          }
        }
      ],
      "source": [
        "ax = allData.plot(x = \"Month\", y = [\"RegularPc\", \"SmallPc\", \"SuperPc\"], kind = \"bar\", figsize = (15,6))\n",
        "ax.bar_label(ax.containers[0], fontsize = 8, fmt = '%.2f')\n",
        "ax.bar_label(ax.containers[1], fontsize = 8, fmt = '%.2f')\n",
        "ax.bar_label(ax.containers[2], fontsize = 8, fmt = '%.2f')\n",
        "plt.xticks(rotation = 0)\n",
        "plt.ylabel('Percentage of bowl orders')\n",
        "plt.title('Sales of Regular, Small, and Super Bowls over months')\n",
        "plt.legend(['Regular Bowls %', 'Small Bowls %', 'Super Bowls %'])\n",
        "plt.show()"
      ],
      "id": "OoHux7wzGhrb"
    },
    {
      "cell_type": "markdown",
      "metadata": {
        "id": "xD_9jsMZGhrc"
      },
      "source": [
        "#### Aggregating the daily data"
      ],
      "id": "xD_9jsMZGhrc"
    },
    {
      "cell_type": "code",
      "execution_count": null,
      "metadata": {
        "id": "rpYo8X47Ghrc"
      },
      "outputs": [],
      "source": [
        "regBowlsPc = MatchaGreenBowlRegular.groupby('Date').count()['Qty'].to_frame()\n",
        "smallBowlsPc = MatchaGreenBowlSmall.groupby('Date').count()['Qty']\n",
        "superBowlsPc = MatchaGreenBowlSuper.groupby('Date').count()['Qty']"
      ],
      "id": "rpYo8X47Ghrc"
    },
    {
      "cell_type": "code",
      "execution_count": null,
      "metadata": {
        "id": "cAFOSZWCGhrd"
      },
      "outputs": [],
      "source": [
        "allData = (regBowlsPc.merge(smallBowlsPc, on = 'Date', how = 'outer')).merge(superBowlsPc, on = 'Date', how = 'outer').rename(\n",
        "    columns = {'Qty_x': 'Regular',\n",
        "                                                                                                 'Qty_y': 'Small',\n",
        "                                                                                                 'Qty' : 'Super'})"
      ],
      "id": "cAFOSZWCGhrd"
    },
    {
      "cell_type": "code",
      "execution_count": null,
      "metadata": {
        "id": "h3D7tfV7Ghre"
      },
      "outputs": [],
      "source": [
        "allData = allData.fillna(0)\n",
        "allData = allData.sort_values(by = 'Date')"
      ],
      "id": "h3D7tfV7Ghre"
    },
    {
      "cell_type": "code",
      "execution_count": null,
      "metadata": {
        "id": "PkoydA-LGhrf"
      },
      "outputs": [],
      "source": [
        "allData.loc[:, 'RegularPc'] = round(allData['Regular'] / (allData['Small'] + allData['Super'] + allData['Regular']) * 100, 2)\n",
        "allData.loc[:, 'SmallPc'] = round(allData['Small'] / (allData['Small'] + allData['Super'] + allData['Regular']) * 100, 2)\n",
        "allData.loc[:, 'SuperPc'] = round(allData['Super'] / (allData['Small'] + allData['Super'] + allData['Regular']) * 100, 2)\n",
        "\n",
        "allData = allData.reset_index()"
      ],
      "id": "PkoydA-LGhrf"
    },
    {
      "cell_type": "code",
      "execution_count": null,
      "metadata": {
        "scrolled": false,
        "id": "fUCwfAjFGhrf",
        "outputId": "1324394a-c549-4186-e379-576d243cbf87",
        "colab": {
          "base_uri": "https://localhost:8080/",
          "height": 444
        }
      },
      "outputs": [
        {
          "output_type": "display_data",
          "data": {
            "text/plain": [
              "<Figure size 1080x504 with 1 Axes>"
            ],
            "image/png": "[encoded data removed]"
          },
          "metadata": {
            "needs_background": "light"
          }
        }
      ],
      "source": [
        "plt.figure(figsize = (15,7))\n",
        "\n",
        "sns.regplot(x =allData.index, y =allData.RegularPc, color = 'blue')\n",
        "sns.regplot(x =allData.index, y =allData.SmallPc, color = 'red')\n",
        "sns.regplot(x =allData.index, y =allData.SuperPc, color = 'cyan')\n",
        "\n",
        "plt.title('All Menu statistical significance for all three bowls category (Blue - Regular; Red - Small; Cyan - Super)')\n",
        "\n",
        "plt.show()"
      ],
      "id": "fUCwfAjFGhrf"
    },
    {
      "cell_type": "markdown",
      "metadata": {
        "id": "NFkBzOBAGhrg"
      },
      "source": [
        "### BYO Chia Pudding Bowl"
      ],
      "id": "NFkBzOBAGhrg"
    },
    {
      "cell_type": "code",
      "execution_count": null,
      "metadata": {
        "id": "dcyVEzaMGhrh"
      },
      "outputs": [],
      "source": [
        "ChiaPuddingBowl = salesData_dineIn[salesData_dineIn['Menu Item'].str.contains('BYO Chia Pudding Bowl')]"
      ],
      "id": "dcyVEzaMGhrh"
    },
    {
      "cell_type": "code",
      "execution_count": null,
      "metadata": {
        "id": "8TQftECJGhrh"
      },
      "outputs": [],
      "source": [
        "ChiaPuddingBowlSmall = ChiaPuddingBowl[(ChiaPuddingBowl['Gross Price'] == 8.99) | \n",
        "                         (ChiaPuddingBowl['Gross Price'] == 9.99) | \n",
        "                         (ChiaPuddingBowl['Gross Price'] == 10.99)]\n",
        "\n",
        "ChiaPuddingBowlRegular = ChiaPuddingBowl[(ChiaPuddingBowl['Gross Price'] == 11.99) | \n",
        "                         (ChiaPuddingBowl['Gross Price'] == 12.99) | \n",
        "                         (ChiaPuddingBowl['Gross Price'] == 13.99)]\n",
        "\n",
        "ChiaPuddingBowlSuper = ChiaPuddingBowl[(ChiaPuddingBowl['Gross Price'] >= 14.99)]\n",
        "\n",
        "totalChiaPuddingBowlOrders = len(ChiaPuddingBowl)"
      ],
      "id": "8TQftECJGhrh"
    },
    {
      "cell_type": "markdown",
      "metadata": {
        "id": "hSe2lMJDGhri"
      },
      "source": [
        "#### Aggregating the monthly data"
      ],
      "id": "hSe2lMJDGhri"
    },
    {
      "cell_type": "code",
      "execution_count": null,
      "metadata": {
        "id": "PCc4SeolGhri"
      },
      "outputs": [],
      "source": [
        "regBowlsPc = ChiaPuddingBowlRegular.groupby('Month').count()['Qty'].to_frame()\n",
        "smallBowlsPc = ChiaPuddingBowlSmall.groupby('Month').count()['Qty']\n",
        "superBowlsPc = ChiaPuddingBowlSuper.groupby('Month').count()['Qty']"
      ],
      "id": "PCc4SeolGhri"
    },
    {
      "cell_type": "code",
      "execution_count": null,
      "metadata": {
        "id": "bsskh4EYGhrj"
      },
      "outputs": [],
      "source": [
        "allData = (regBowlsPc.merge(smallBowlsPc, on = 'Month', how = 'outer')).merge(superBowlsPc, on = 'Month', how = 'outer').rename(\n",
        "    columns = {'Qty_x': 'Regular',\n",
        "                                                                                                 'Qty_y': 'Small',\n",
        "                                                                                                 'Qty' : 'Super'})"
      ],
      "id": "bsskh4EYGhrj"
    },
    {
      "cell_type": "code",
      "execution_count": null,
      "metadata": {
        "id": "jeg1R0g4Ghrj"
      },
      "outputs": [],
      "source": [
        "allData = allData.fillna(0)\n",
        "allData = allData.sort_values(by = 'Month')"
      ],
      "id": "jeg1R0g4Ghrj"
    },
    {
      "cell_type": "code",
      "execution_count": null,
      "metadata": {
        "id": "ElA0aDKKGhrj"
      },
      "outputs": [],
      "source": [
        "allData.loc[:, 'RegularPc'] = round(allData['Regular'] / (allData['Small'] + allData['Super'] + allData['Regular']) * 100, 2)\n",
        "allData.loc[:, 'SmallPc'] = round(allData['Small'] / (allData['Small'] + allData['Super'] + allData['Regular']) * 100, 2)\n",
        "allData.loc[:, 'SuperPc'] = round(allData['Super'] / (allData['Small'] + allData['Super'] + allData['Regular']) * 100, 2)\n",
        "\n",
        "allData = allData.reset_index()"
      ],
      "id": "ElA0aDKKGhrj"
    },
    {
      "cell_type": "code",
      "execution_count": null,
      "metadata": {
        "id": "g5lqbwFEGhrk",
        "outputId": "9a38431e-32eb-4312-e5f0-cf3cdf27f1d1",
        "colab": {
          "base_uri": "https://localhost:8080/",
          "height": 404
        }
      },
      "outputs": [
        {
          "output_type": "display_data",
          "data": {
            "text/plain": [
              "<Figure size 1080x432 with 1 Axes>"
            ],
            "image/png": "[encoded data removed]"
          },
          "metadata": {
            "needs_background": "light"
          }
        }
      ],
      "source": [
        "ax = allData.plot(x = \"Month\", y = [\"RegularPc\", \"SmallPc\", \"SuperPc\"], kind = \"bar\", figsize = (15,6))\n",
        "ax.bar_label(ax.containers[0], fontsize = 8, fmt = '%.2f')\n",
        "ax.bar_label(ax.containers[1], fontsize = 8, fmt = '%.2f')\n",
        "ax.bar_label(ax.containers[2], fontsize = 8, fmt = '%.2f')\n",
        "plt.xticks(rotation = 0)\n",
        "plt.ylabel('Percentage of bowl orders')\n",
        "plt.title('Sales of Regular, Small, and Super Bowls over months')\n",
        "plt.legend(['Regular Bowls %', 'Small Bowls %', 'Super Bowls %'])\n",
        "plt.show()"
      ],
      "id": "g5lqbwFEGhrk"
    },
    {
      "cell_type": "markdown",
      "metadata": {
        "id": "oiTsbksWGhrl"
      },
      "source": [
        "#### Aggregating the daily data"
      ],
      "id": "oiTsbksWGhrl"
    },
    {
      "cell_type": "code",
      "execution_count": null,
      "metadata": {
        "id": "JN3xgOJZGhrl"
      },
      "outputs": [],
      "source": [
        "regBowlsPc = ChiaPuddingBowlRegular.groupby('Date').count()['Qty'].to_frame()\n",
        "smallBowlsPc = ChiaPuddingBowlSmall.groupby('Date').count()['Qty']\n",
        "superBowlsPc = ChiaPuddingBowlSuper.groupby('Date').count()['Qty']"
      ],
      "id": "JN3xgOJZGhrl"
    },
    {
      "cell_type": "code",
      "execution_count": null,
      "metadata": {
        "id": "Szxh2V1KGhrm"
      },
      "outputs": [],
      "source": [
        "allData = (regBowlsPc.merge(smallBowlsPc, on = 'Date', how = 'outer')).merge(superBowlsPc, on = 'Date', how = 'outer').rename(\n",
        "    columns = {'Qty_x': 'Regular',\n",
        "                                                                                                 'Qty_y': 'Small',\n",
        "                                                                                                 'Qty' : 'Super'})"
      ],
      "id": "Szxh2V1KGhrm"
    },
    {
      "cell_type": "code",
      "execution_count": null,
      "metadata": {
        "id": "Ve55bzfBGhrm"
      },
      "outputs": [],
      "source": [
        "allData = allData.fillna(0)\n",
        "allData = allData.sort_values(by = 'Date')"
      ],
      "id": "Ve55bzfBGhrm"
    },
    {
      "cell_type": "code",
      "execution_count": null,
      "metadata": {
        "id": "DxxRthDPGhrn"
      },
      "outputs": [],
      "source": [
        "allData.loc[:, 'RegularPc'] = round(allData['Regular'] / (allData['Small'] + allData['Super'] + allData['Regular']) * 100, 2)\n",
        "allData.loc[:, 'SmallPc'] = round(allData['Small'] / (allData['Small'] + allData['Super'] + allData['Regular']) * 100, 2)\n",
        "allData.loc[:, 'SuperPc'] = round(allData['Super'] / (allData['Small'] + allData['Super'] + allData['Regular']) * 100, 2)\n",
        "\n",
        "allData = allData.reset_index()"
      ],
      "id": "DxxRthDPGhrn"
    },
    {
      "cell_type": "code",
      "execution_count": null,
      "metadata": {
        "scrolled": false,
        "id": "aPxTwfp3Ghrn",
        "outputId": "91b30b9b-9b18-4dfc-bb75-9604769e9e12",
        "colab": {
          "base_uri": "https://localhost:8080/",
          "height": 444
        }
      },
      "outputs": [
        {
          "output_type": "display_data",
          "data": {
            "text/plain": [
              "<Figure size 1080x504 with 1 Axes>"
            ],
            "image/png": "[encoded data removed]"
          },
          "metadata": {
            "needs_background": "light"
          }
        }
      ],
      "source": [
        "plt.figure(figsize = (15,7))\n",
        "\n",
        "sns.regplot(x = allData.index, y = allData.RegularPc, color = 'blue')\n",
        "sns.regplot(x = allData.index, y = allData.SmallPc, color = 'red')\n",
        "sns.regplot(x = allData.index, y = allData.SuperPc, color = 'cyan')\n",
        "\n",
        "plt.title('All Menu statistical significance for all three bowls category (Blue - Regular; Red - Small; Cyan - Super)')\n",
        "\n",
        "plt.show()"
      ],
      "id": "aPxTwfp3Ghrn"
    },
    {
      "cell_type": "markdown",
      "metadata": {
        "id": "eh6HTi-AGhro"
      },
      "source": [
        "### BYO Dragonfruit Bowl"
      ],
      "id": "eh6HTi-AGhro"
    },
    {
      "cell_type": "code",
      "execution_count": null,
      "metadata": {
        "id": "eCqYYf1fGhro"
      },
      "outputs": [],
      "source": [
        "dragonBowl = salesData_dineIn[salesData_dineIn['Menu Item'].str.contains('BYO Dragonfruit Bowl')]"
      ],
      "id": "eCqYYf1fGhro"
    },
    {
      "cell_type": "code",
      "execution_count": null,
      "metadata": {
        "id": "Q2ivi2CUGhro"
      },
      "outputs": [],
      "source": [
        "dragonBowlSmall = dragonBowl[(dragonBowl['Gross Price'] == 8.99) | \n",
        "                         (dragonBowl['Gross Price'] == 9.99) | \n",
        "                         (dragonBowl['Gross Price'] == 10.99)]\n",
        "\n",
        "dragonBowlRegular = dragonBowl[(dragonBowl['Gross Price'] == 11.99) | \n",
        "                         (dragonBowl['Gross Price'] == 12.99) | \n",
        "                         (dragonBowl['Gross Price'] == 13.99)]\n",
        "\n",
        "dragonBowlSuper = dragonBowl[(dragonBowl['Gross Price'] >= 14.99)]\n",
        "\n",
        "totaldragonBowlOrders = len(dragonBowl)"
      ],
      "id": "Q2ivi2CUGhro"
    },
    {
      "cell_type": "markdown",
      "metadata": {
        "id": "vkm9pt6wGhrp"
      },
      "source": [
        "#### Aggregating the monthly data"
      ],
      "id": "vkm9pt6wGhrp"
    },
    {
      "cell_type": "code",
      "execution_count": null,
      "metadata": {
        "id": "bQbxX8qmGhrp"
      },
      "outputs": [],
      "source": [
        "regBowlsPc = dragonBowlRegular.groupby('Month').count()['Qty'].to_frame()\n",
        "smallBowlsPc = dragonBowlSmall.groupby('Month').count()['Qty']\n",
        "superBowlsPc = dragonBowlSuper.groupby('Month').count()['Qty']"
      ],
      "id": "bQbxX8qmGhrp"
    },
    {
      "cell_type": "code",
      "execution_count": null,
      "metadata": {
        "id": "OLpD8qiUGhrp"
      },
      "outputs": [],
      "source": [
        "allData = (regBowlsPc.merge(smallBowlsPc, on = 'Month')).merge(superBowlsPc, on = 'Month').rename(columns = {'Qty_x': 'Regular',\n",
        "                                                                                                 'Qty_y': 'Small',\n",
        "                                                                                                 'Qty' : 'Super'})"
      ],
      "id": "OLpD8qiUGhrp"
    },
    {
      "cell_type": "code",
      "execution_count": null,
      "metadata": {
        "id": "508ExSCBGhrq"
      },
      "outputs": [],
      "source": [
        "allData.loc[:, 'RegularPc'] = round(allData['Regular'] / (allData['Small'] + allData['Super'] + allData['Regular']) * 100, 2)\n",
        "allData.loc[:, 'SmallPc'] = round(allData['Small'] / (allData['Small'] + allData['Super'] + allData['Regular']) * 100, 2)\n",
        "allData.loc[:, 'SuperPc'] = round(allData['Super'] / (allData['Small'] + allData['Super'] + allData['Regular']) * 100, 2)\n",
        "\n",
        "allData = allData.reset_index()"
      ],
      "id": "508ExSCBGhrq"
    },
    {
      "cell_type": "code",
      "execution_count": null,
      "metadata": {
        "id": "ngJ41Av1Ghrq",
        "outputId": "6809eeb5-a6b9-40f7-eca6-7e23b72b3664",
        "colab": {
          "base_uri": "https://localhost:8080/",
          "height": 404
        }
      },
      "outputs": [
        {
          "output_type": "display_data",
          "data": {
            "text/plain": [
              "<Figure size 1080x432 with 1 Axes>"
            ],
            "image/png": "[encoded data removed]"
          },
          "metadata": {
            "needs_background": "light"
          }
        }
      ],
      "source": [
        "ax = allData.plot(x = \"Month\", y = [\"RegularPc\", \"SmallPc\", \"SuperPc\"], kind = \"bar\", figsize = (15,6))\n",
        "ax.bar_label(ax.containers[0], fontsize = 8, fmt = '%.2f')\n",
        "ax.bar_label(ax.containers[1], fontsize = 8, fmt = '%.2f')\n",
        "ax.bar_label(ax.containers[2], fontsize = 8, fmt = '%.2f')\n",
        "plt.xticks(rotation = 0)\n",
        "plt.ylabel('Percentage of bowl orders')\n",
        "plt.title('Sales of Regular, Small, and Super Bowls over months')\n",
        "plt.legend(['Regular Bowls %', 'Small Bowls %', 'Super Bowls %'])\n",
        "plt.show()"
      ],
      "id": "ngJ41Av1Ghrq"
    },
    {
      "cell_type": "markdown",
      "metadata": {
        "id": "pkv6Y1tVGhrr"
      },
      "source": [
        "# 2. Change in Cookies sales"
      ],
      "id": "pkv6Y1tVGhrr"
    },
    {
      "cell_type": "code",
      "source": [
        "salesData_dineIn['Date'] = pd.to_datetime(salesData_dineIn['Date'])\n",
        "previousMenu = salesData_dineIn[salesData_dineIn['Date'] < newMenuDate]\n",
        "\n",
        "newMenu = salesData_dineIn[salesData_dineIn['Date'] > newMenuDate]"
      ],
      "metadata": {
        "id": "LILrR5F5m3kh"
      },
      "id": "LILrR5F5m3kh",
      "execution_count": null,
      "outputs": []
    },
    {
      "cell_type": "markdown",
      "source": [
        "### Previous Menu 4 Pack Cookie Pack Probability with other Cookies"
      ],
      "metadata": {
        "id": "JKMFu2x77qVF"
      },
      "id": "JKMFu2x77qVF"
    },
    {
      "cell_type": "code",
      "source": [
        "prevSnacks = previousMenu[previousMenu['Menu'] == 'SNACKS']"
      ],
      "metadata": {
        "id": "ADFmgOqgu-n-"
      },
      "id": "ADFmgOqgu-n-",
      "execution_count": null,
      "outputs": []
    },
    {
      "cell_type": "code",
      "source": [
        "prevSnacks['Menu Item'].unique()"
      ],
      "metadata": {
        "colab": {
          "base_uri": "https://localhost:8080/"
        },
        "id": "U6-As3L22DYO",
        "outputId": "69f49037-e59f-4a1c-d361-7618f6663343"
      },
      "id": "U6-As3L22DYO",
      "execution_count": null,
      "outputs": [
        {
          "output_type": "execute_result",
          "data": {
            "text/plain": [
              "array(['Whole Grain Chocolate Chip Cookie',\n",
              "       'Whole Grain White Chocolate Macadamia Nut Cookie',\n",
              "       'Choc Protein Chia Pudding',\n",
              "       'Chocolate Turtle 2 pack ( Vegan, GF )', 'Fruit Bowl',\n",
              "       '4 Pack Cookie Pack', 'Guacamole', 'Banana', 'Regular Bowl'],\n",
              "      dtype=object)"
            ]
          },
          "metadata": {},
          "execution_count": 51
        }
      ]
    },
    {
      "cell_type": "code",
      "source": [
        "_4packCookie = prevSnacks[prevSnacks['Menu Item'].str.contains('4 Pack Cookie Pack')]"
      ],
      "metadata": {
        "id": "Cn8ApzVTnXia"
      },
      "id": "Cn8ApzVTnXia",
      "execution_count": null,
      "outputs": []
    },
    {
      "cell_type": "code",
      "source": [
        "_4packCookie['Menu Item'].unique()"
      ],
      "metadata": {
        "colab": {
          "base_uri": "https://localhost:8080/"
        },
        "id": "gbBGpo_cz960",
        "outputId": "99efc33f-685a-430a-c823-07abcd893aef"
      },
      "id": "gbBGpo_cz960",
      "execution_count": null,
      "outputs": [
        {
          "output_type": "execute_result",
          "data": {
            "text/plain": [
              "array(['4 Pack Cookie Pack'], dtype=object)"
            ]
          },
          "metadata": {},
          "execution_count": 53
        }
      ]
    },
    {
      "cell_type": "code",
      "source": [
        "_4packCookieTrxns = _4packCookie['Order Id'].unique()"
      ],
      "metadata": {
        "id": "s0LO3saeu-vX"
      },
      "id": "s0LO3saeu-vX",
      "execution_count": null,
      "outputs": []
    },
    {
      "cell_type": "code",
      "source": [
        "_4packCookieTrxns[:10]"
      ],
      "metadata": {
        "colab": {
          "base_uri": "https://localhost:8080/"
        },
        "id": "AsHasSnArvh6",
        "outputId": "5943b1b5-4cc3-492e-8c4d-1c1ea5ef6a06"
      },
      "id": "AsHasSnArvh6",
      "execution_count": null,
      "outputs": [
        {
          "output_type": "execute_result",
          "data": {
            "text/plain": [
              "array([400000018119649463, 400000018443302801, 400000018760971615,\n",
              "       400000018767503560, 400000018994013482, 400000019408587688,\n",
              "       400000019463109973, 400000019463209200, 400000019478458410,\n",
              "       400000019490319164])"
            ]
          },
          "metadata": {},
          "execution_count": 55
        }
      ]
    },
    {
      "cell_type": "code",
      "source": [
        "\n",
        "_4packCookieOrders = previousMenu[previousMenu['Order Id'].isin(_4packCookieTrxns)]"
      ],
      "metadata": {
        "id": "hZFFrErRu-2W"
      },
      "id": "hZFFrErRu-2W",
      "execution_count": null,
      "outputs": []
    },
    {
      "cell_type": "code",
      "source": [
        "_4packCookieOrders = _4packCookieOrders[_4packCookieOrders['Menu Item'].str.contains('Cookie')]"
      ],
      "metadata": {
        "id": "iYv2fgz7sWBI"
      },
      "id": "iYv2fgz7sWBI",
      "execution_count": null,
      "outputs": []
    },
    {
      "cell_type": "code",
      "source": [
        "_4packCookieOrders['Menu Item'].unique()"
      ],
      "metadata": {
        "colab": {
          "base_uri": "https://localhost:8080/"
        },
        "id": "YVLEBWYk2psA",
        "outputId": "b633c449-8f29-45c5-c1be-f72341a299fe"
      },
      "id": "YVLEBWYk2psA",
      "execution_count": null,
      "outputs": [
        {
          "output_type": "execute_result",
          "data": {
            "text/plain": [
              "array(['4 Pack Cookie Pack', 'Whole Grain Chocolate Chip Cookie'],\n",
              "      dtype=object)"
            ]
          },
          "metadata": {},
          "execution_count": 58
        }
      ]
    },
    {
      "cell_type": "code",
      "source": [
        "\n",
        "_4packCookieOrders['Group'] = _4packCookieOrders.groupby('Order Date')['Menu Item'].transform(lambda x: ','.join(x))"
      ],
      "metadata": {
        "id": "teFLQzQg8Bsy"
      },
      "id": "teFLQzQg8Bsy",
      "execution_count": null,
      "outputs": []
    },
    {
      "cell_type": "code",
      "source": [
        "_4packCookieOrders['Group'].unique()"
      ],
      "metadata": {
        "colab": {
          "base_uri": "https://localhost:8080/"
        },
        "id": "0MBEEL0AtEYG",
        "outputId": "269d2c3e-b6ef-482a-ce1b-1a29b7b09207"
      },
      "id": "0MBEEL0AtEYG",
      "execution_count": null,
      "outputs": [
        {
          "output_type": "execute_result",
          "data": {
            "text/plain": [
              "array(['4 Pack Cookie Pack',\n",
              "       'Whole Grain Chocolate Chip Cookie,Whole Grain Chocolate Chip Cookie,4 Pack Cookie Pack,Whole Grain Chocolate Chip Cookie',\n",
              "       'Whole Grain Chocolate Chip Cookie,Whole Grain Chocolate Chip Cookie,4 Pack Cookie Pack',\n",
              "       '4 Pack Cookie Pack,4 Pack Cookie Pack'], dtype=object)"
            ]
          },
          "metadata": {},
          "execution_count": 60
        }
      ]
    },
    {
      "cell_type": "code",
      "source": [
        "groupedData = _4packCookieOrders[['Order Date', 'Group']]\n",
        "groupedData = groupedData.drop_duplicates()"
      ],
      "metadata": {
        "id": "HfKye0H08CPe"
      },
      "id": "HfKye0H08CPe",
      "execution_count": null,
      "outputs": []
    },
    {
      "cell_type": "code",
      "source": [
        "len(groupedData)"
      ],
      "metadata": {
        "colab": {
          "base_uri": "https://localhost:8080/"
        },
        "id": "edTcinTCuAF3",
        "outputId": "99404f28-a2a5-497b-c4d2-e2f6185d4dea"
      },
      "id": "edTcinTCuAF3",
      "execution_count": null,
      "outputs": [
        {
          "output_type": "execute_result",
          "data": {
            "text/plain": [
              "58"
            ]
          },
          "metadata": {},
          "execution_count": 62
        }
      ]
    },
    {
      "cell_type": "markdown",
      "source": [
        "Counting for the combinations which the items have in the dataframe and store them in a new dataframe"
      ],
      "metadata": {
        "id": "ppPZQthj8MdF"
      },
      "id": "ppPZQthj8MdF"
    },
    {
      "cell_type": "code",
      "source": [
        "count = Counter()\n",
        "for row in groupedData['Group']:\n",
        "    row_list = row.split(',')\n",
        "    count.update(Counter(combinations(row_list, 2)))\n",
        "\n",
        "combinationDf = pd.DataFrame.from_dict(count, orient='index').reset_index().rename(columns={'index':'Combinations', 0:'count'})\n",
        "combinationDf.sort_values(by = 'count', ascending = False, inplace = True)\n"
      ],
      "metadata": {
        "id": "gFKcSIQxu-8i"
      },
      "id": "gFKcSIQxu-8i",
      "execution_count": null,
      "outputs": []
    },
    {
      "cell_type": "code",
      "source": [
        "combinationDf"
      ],
      "metadata": {
        "colab": {
          "base_uri": "https://localhost:8080/",
          "height": 175
        },
        "id": "i-jo66JHu-6X",
        "outputId": "0cd47d92-f7fe-43cb-89e3-6a0983aee4f4"
      },
      "id": "i-jo66JHu-6X",
      "execution_count": null,
      "outputs": [
        {
          "output_type": "execute_result",
          "data": {
            "text/plain": [
              "                                        Combinations  count\n",
              "0  (Whole Grain Chocolate Chip Cookie, Whole Grai...      4\n",
              "1  (Whole Grain Chocolate Chip Cookie, 4 Pack Coo...      4\n",
              "3           (4 Pack Cookie Pack, 4 Pack Cookie Pack)      2\n",
              "2  (4 Pack Cookie Pack, Whole Grain Chocolate Chi...      1"
            ],
            "text/html": [
              "\n",
              "  <div id=\"df-6bd53eb0-e75e-4530-81de-7f816369c7e9\">\n",
              "    <div class=\"colab-df-container\">\n",
              "      <div>\n",
              "<style scoped>\n",
              "    .dataframe tbody tr th:only-of-type {\n",
              "        vertical-align: middle;\n",
              "    }\n",
              "\n",
              "    .dataframe tbody tr th {\n",
              "        vertical-align: top;\n",
              "    }\n",
              "\n",
              "    .dataframe thead th {\n",
              "        text-align: right;\n",
              "    }\n",
              "</style>\n",
              "<table border=\"1\" class=\"dataframe\">\n",
              "  <thead>\n",
              "    <tr style=\"text-align: right;\">\n",
              "      <th></th>\n",
              "      <th>Combinations</th>\n",
              "      <th>count</th>\n",
              "    </tr>\n",
              "  </thead>\n",
              "  <tbody>\n",
              "    <tr>\n",
              "      <th>0</th>\n",
              "      <td>(Whole Grain Chocolate Chip Cookie, Whole Grai...</td>\n",
              "      <td>4</td>\n",
              "    </tr>\n",
              "    <tr>\n",
              "      <th>1</th>\n",
              "      <td>(Whole Grain Chocolate Chip Cookie, 4 Pack Coo...</td>\n",
              "      <td>4</td>\n",
              "    </tr>\n",
              "    <tr>\n",
              "      <th>3</th>\n",
              "      <td>(4 Pack Cookie Pack, 4 Pack Cookie Pack)</td>\n",
              "      <td>2</td>\n",
              "    </tr>\n",
              "    <tr>\n",
              "      <th>2</th>\n",
              "      <td>(4 Pack Cookie Pack, Whole Grain Chocolate Chi...</td>\n",
              "      <td>1</td>\n",
              "    </tr>\n",
              "  </tbody>\n",
              "</table>\n",
              "</div>\n",
              "      <button class=\"colab-df-convert\" onclick=\"convertToInteractive('df-6bd53eb0-e75e-4530-81de-7f816369c7e9')\"\n",
              "              title=\"Convert this dataframe to an interactive table.\"\n",
              "              style=\"display:none;\">\n",
              "        \n",
              "  <svg xmlns=\"http://www.w3.org/2000/svg\" height=\"24px\"viewBox=\"0 0 24 24\"\n",
              "       width=\"24px\">\n",
              "    <path d=\"M0 0h24v24H0V0z\" fill=\"none\"/>\n",
              "    <path d=\"M18.56 5.44l.94 2.06.94-2.06 2.06-.94-2.06-.94-.94-2.06-.94 2.06-2.06.94zm-11 1L8.5 8.5l.94-2.06 2.06-.94-2.06-.94L8.5 2.5l-.94 2.06-2.06.94zm10 10l.94 2.06.94-2.06 2.06-.94-2.06-.94-.94-2.06-.94 2.06-2.06.94z\"/><path d=\"M17.41 7.96l-1.37-1.37c-.4-.4-.92-.59-1.43-.59-.52 0-1.04.2-1.43.59L10.3 9.45l-7.72 7.72c-.78.78-.78 2.05 0 2.83L4 21.41c.39.39.9.59 1.41.59.51 0 1.02-.2 1.41-.59l7.78-7.78 2.81-2.81c.8-.78.8-2.07 0-2.86zM5.41 20L4 18.59l7.72-7.72 1.47 1.35L5.41 20z\"/>\n",
              "  </svg>\n",
              "      </button>\n",
              "      \n",
              "  <style>\n",
              "    .colab-df-container {\n",
              "      display:flex;\n",
              "      flex-wrap:wrap;\n",
              "      gap: 12px;\n",
              "    }\n",
              "\n",
              "    .colab-df-convert {\n",
              "      background-color: #E8F0FE;\n",
              "      border: none;\n",
              "      border-radius: 50%;\n",
              "      cursor: pointer;\n",
              "      display: none;\n",
              "      fill: #1967D2;\n",
              "      height: 32px;\n",
              "      padding: 0 0 0 0;\n",
              "      width: 32px;\n",
              "    }\n",
              "\n",
              "    .colab-df-convert:hover {\n",
              "      background-color: #E2EBFA;\n",
              "      box-shadow: 0px 1px 2px rgba(60, 64, 67, 0.3), 0px 1px 3px 1px rgba(60, 64, 67, 0.15);\n",
              "      fill: #174EA6;\n",
              "    }\n",
              "\n",
              "    [theme=dark] .colab-df-convert {\n",
              "      background-color: #3B4455;\n",
              "      fill: #D2E3FC;\n",
              "    }\n",
              "\n",
              "    [theme=dark] .colab-df-convert:hover {\n",
              "      background-color: #434B5C;\n",
              "      box-shadow: 0px 1px 3px 1px rgba(0, 0, 0, 0.15);\n",
              "      filter: drop-shadow(0px 1px 2px rgba(0, 0, 0, 0.3));\n",
              "      fill: #FFFFFF;\n",
              "    }\n",
              "  </style>\n",
              "\n",
              "      <script>\n",
              "        const buttonEl =\n",
              "          document.querySelector('#df-6bd53eb0-e75e-4530-81de-7f816369c7e9 button.colab-df-convert');\n",
              "        buttonEl.style.display =\n",
              "          google.colab.kernel.accessAllowed ? 'block' : 'none';\n",
              "\n",
              "        async function convertToInteractive(key) {\n",
              "          const element = document.querySelector('#df-6bd53eb0-e75e-4530-81de-7f816369c7e9');\n",
              "          const dataTable =\n",
              "            await google.colab.kernel.invokeFunction('convertToInteractive',\n",
              "                                                     [key], {});\n",
              "          if (!dataTable) return;\n",
              "\n",
              "          const docLinkHtml = 'Like what you see? Visit the ' +\n",
              "            '<a target=\"_blank\" href=https://colab.research.google.com/notebooks/data_table.ipynb>data table notebook</a>'\n",
              "            + ' to learn more about interactive tables.';\n",
              "          element.innerHTML = '';\n",
              "          dataTable['output_type'] = 'display_data';\n",
              "          await google.colab.output.renderOutput(dataTable, element);\n",
              "          const docLink = document.createElement('div');\n",
              "          docLink.innerHTML = docLinkHtml;\n",
              "          element.appendChild(docLink);\n",
              "        }\n",
              "      </script>\n",
              "    </div>\n",
              "  </div>\n",
              "  "
            ]
          },
          "metadata": {},
          "execution_count": 64
        }
      ]
    },
    {
      "cell_type": "markdown",
      "source": [
        "Now we find the probabilities of these items being sold together"
      ],
      "metadata": {
        "id": "969OnZWB8Xmt"
      },
      "id": "969OnZWB8Xmt"
    },
    {
      "cell_type": "code",
      "source": [
        "combinationDf.loc[:, 'item1'] = combinationDf.Combinations.str[0]\n",
        "combinationDf.loc[:, 'item2'] = combinationDf.Combinations.str[1]\n"
      ],
      "metadata": {
        "id": "DnwBXTq_s6xJ"
      },
      "id": "DnwBXTq_s6xJ",
      "execution_count": null,
      "outputs": []
    },
    {
      "cell_type": "markdown",
      "source": [
        "\n",
        "Calculating the individual sales of the items from the sales data"
      ],
      "metadata": {
        "id": "cxgMgPZ08c1k"
      },
      "id": "cxgMgPZ08c1k"
    },
    {
      "cell_type": "code",
      "source": [
        "combinationDf.loc[:, 'item1Sales'] = combinationDf['item1'].map(_4packCookieOrders\n",
        "                                                                .groupby('Menu Item').count()['Qty'].to_dict())\n",
        "combinationDf.loc[:, 'item2Sales'] = combinationDf['item2'].map(_4packCookieOrders\n",
        "                                                                .groupby('Menu Item').count()['Qty'].to_dict())"
      ],
      "metadata": {
        "id": "ZcRtXym-7F6M"
      },
      "id": "ZcRtXym-7F6M",
      "execution_count": null,
      "outputs": []
    },
    {
      "cell_type": "markdown",
      "source": [
        "Calculating the probability of the items being sold together by dividing the count of items sold together by the sum of individual number of sales of the sold items together  \n"
      ],
      "metadata": {
        "id": "H-GvWnsJ9J4R"
      },
      "id": "H-GvWnsJ9J4R"
    },
    {
      "cell_type": "code",
      "source": [
        "combinationDf.loc[:, 'Probability'] = combinationDf['count'] / (combinationDf['item1Sales'] + combinationDf['item2Sales'])"
      ],
      "metadata": {
        "id": "dPWPmlIl7GRU"
      },
      "id": "dPWPmlIl7GRU",
      "execution_count": null,
      "outputs": []
    },
    {
      "cell_type": "markdown",
      "source": [
        "Selecting the top 10 combinations of the items so that we can see the items which most commonly sold together along with their probabilities\n"
      ],
      "metadata": {
        "id": "W_HaBDUa9fpZ"
      },
      "id": "W_HaBDUa9fpZ"
    },
    {
      "cell_type": "code",
      "source": [
        "prob = combinationDf.head(10).reset_index(drop = True).drop(labels = [0, 2], axis = 0).reset_index(drop = True)"
      ],
      "metadata": {
        "id": "nvFilkbh3Hm8"
      },
      "id": "nvFilkbh3Hm8",
      "execution_count": null,
      "outputs": []
    },
    {
      "cell_type": "code",
      "source": [
        "prob"
      ],
      "metadata": {
        "colab": {
          "base_uri": "https://localhost:8080/",
          "height": 112
        },
        "id": "AnWnRL2G9iEc",
        "outputId": "b4f8b677-2505-4a6b-905e-03e0a015d25d"
      },
      "id": "AnWnRL2G9iEc",
      "execution_count": null,
      "outputs": [
        {
          "output_type": "execute_result",
          "data": {
            "text/plain": [
              "                                        Combinations  count  \\\n",
              "0  (Whole Grain Chocolate Chip Cookie, 4 Pack Coo...      4   \n",
              "1  (4 Pack Cookie Pack, Whole Grain Chocolate Chi...      1   \n",
              "\n",
              "                               item1                              item2  \\\n",
              "0  Whole Grain Chocolate Chip Cookie                 4 Pack Cookie Pack   \n",
              "1                 4 Pack Cookie Pack  Whole Grain Chocolate Chip Cookie   \n",
              "\n",
              "   item1Sales  item2Sales  Probability  \n",
              "0           5          60     0.061538  \n",
              "1          60           5     0.015385  "
            ],
            "text/html": [
              "\n",
              "  <div id=\"df-258ee87d-eccb-4dfe-b0ee-be3632451028\">\n",
              "    <div class=\"colab-df-container\">\n",
              "      <div>\n",
              "<style scoped>\n",
              "    .dataframe tbody tr th:only-of-type {\n",
              "        vertical-align: middle;\n",
              "    }\n",
              "\n",
              "    .dataframe tbody tr th {\n",
              "        vertical-align: top;\n",
              "    }\n",
              "\n",
              "    .dataframe thead th {\n",
              "        text-align: right;\n",
              "    }\n",
              "</style>\n",
              "<table border=\"1\" class=\"dataframe\">\n",
              "  <thead>\n",
              "    <tr style=\"text-align: right;\">\n",
              "      <th></th>\n",
              "      <th>Combinations</th>\n",
              "      <th>count</th>\n",
              "      <th>item1</th>\n",
              "      <th>item2</th>\n",
              "      <th>item1Sales</th>\n",
              "      <th>item2Sales</th>\n",
              "      <th>Probability</th>\n",
              "    </tr>\n",
              "  </thead>\n",
              "  <tbody>\n",
              "    <tr>\n",
              "      <th>0</th>\n",
              "      <td>(Whole Grain Chocolate Chip Cookie, 4 Pack Coo...</td>\n",
              "      <td>4</td>\n",
              "      <td>Whole Grain Chocolate Chip Cookie</td>\n",
              "      <td>4 Pack Cookie Pack</td>\n",
              "      <td>5</td>\n",
              "      <td>60</td>\n",
              "      <td>0.061538</td>\n",
              "    </tr>\n",
              "    <tr>\n",
              "      <th>1</th>\n",
              "      <td>(4 Pack Cookie Pack, Whole Grain Chocolate Chi...</td>\n",
              "      <td>1</td>\n",
              "      <td>4 Pack Cookie Pack</td>\n",
              "      <td>Whole Grain Chocolate Chip Cookie</td>\n",
              "      <td>60</td>\n",
              "      <td>5</td>\n",
              "      <td>0.015385</td>\n",
              "    </tr>\n",
              "  </tbody>\n",
              "</table>\n",
              "</div>\n",
              "      <button class=\"colab-df-convert\" onclick=\"convertToInteractive('df-258ee87d-eccb-4dfe-b0ee-be3632451028')\"\n",
              "              title=\"Convert this dataframe to an interactive table.\"\n",
              "              style=\"display:none;\">\n",
              "        \n",
              "  <svg xmlns=\"http://www.w3.org/2000/svg\" height=\"24px\"viewBox=\"0 0 24 24\"\n",
              "       width=\"24px\">\n",
              "    <path d=\"M0 0h24v24H0V0z\" fill=\"none\"/>\n",
              "    <path d=\"M18.56 5.44l.94 2.06.94-2.06 2.06-.94-2.06-.94-.94-2.06-.94 2.06-2.06.94zm-11 1L8.5 8.5l.94-2.06 2.06-.94-2.06-.94L8.5 2.5l-.94 2.06-2.06.94zm10 10l.94 2.06.94-2.06 2.06-.94-2.06-.94-.94-2.06-.94 2.06-2.06.94z\"/><path d=\"M17.41 7.96l-1.37-1.37c-.4-.4-.92-.59-1.43-.59-.52 0-1.04.2-1.43.59L10.3 9.45l-7.72 7.72c-.78.78-.78 2.05 0 2.83L4 21.41c.39.39.9.59 1.41.59.51 0 1.02-.2 1.41-.59l7.78-7.78 2.81-2.81c.8-.78.8-2.07 0-2.86zM5.41 20L4 18.59l7.72-7.72 1.47 1.35L5.41 20z\"/>\n",
              "  </svg>\n",
              "      </button>\n",
              "      \n",
              "  <style>\n",
              "    .colab-df-container {\n",
              "      display:flex;\n",
              "      flex-wrap:wrap;\n",
              "      gap: 12px;\n",
              "    }\n",
              "\n",
              "    .colab-df-convert {\n",
              "      background-color: #E8F0FE;\n",
              "      border: none;\n",
              "      border-radius: 50%;\n",
              "      cursor: pointer;\n",
              "      display: none;\n",
              "      fill: #1967D2;\n",
              "      height: 32px;\n",
              "      padding: 0 0 0 0;\n",
              "      width: 32px;\n",
              "    }\n",
              "\n",
              "    .colab-df-convert:hover {\n",
              "      background-color: #E2EBFA;\n",
              "      box-shadow: 0px 1px 2px rgba(60, 64, 67, 0.3), 0px 1px 3px 1px rgba(60, 64, 67, 0.15);\n",
              "      fill: #174EA6;\n",
              "    }\n",
              "\n",
              "    [theme=dark] .colab-df-convert {\n",
              "      background-color: #3B4455;\n",
              "      fill: #D2E3FC;\n",
              "    }\n",
              "\n",
              "    [theme=dark] .colab-df-convert:hover {\n",
              "      background-color: #434B5C;\n",
              "      box-shadow: 0px 1px 3px 1px rgba(0, 0, 0, 0.15);\n",
              "      filter: drop-shadow(0px 1px 2px rgba(0, 0, 0, 0.3));\n",
              "      fill: #FFFFFF;\n",
              "    }\n",
              "  </style>\n",
              "\n",
              "      <script>\n",
              "        const buttonEl =\n",
              "          document.querySelector('#df-258ee87d-eccb-4dfe-b0ee-be3632451028 button.colab-df-convert');\n",
              "        buttonEl.style.display =\n",
              "          google.colab.kernel.accessAllowed ? 'block' : 'none';\n",
              "\n",
              "        async function convertToInteractive(key) {\n",
              "          const element = document.querySelector('#df-258ee87d-eccb-4dfe-b0ee-be3632451028');\n",
              "          const dataTable =\n",
              "            await google.colab.kernel.invokeFunction('convertToInteractive',\n",
              "                                                     [key], {});\n",
              "          if (!dataTable) return;\n",
              "\n",
              "          const docLinkHtml = 'Like what you see? Visit the ' +\n",
              "            '<a target=\"_blank\" href=https://colab.research.google.com/notebooks/data_table.ipynb>data table notebook</a>'\n",
              "            + ' to learn more about interactive tables.';\n",
              "          element.innerHTML = '';\n",
              "          dataTable['output_type'] = 'display_data';\n",
              "          await google.colab.output.renderOutput(dataTable, element);\n",
              "          const docLink = document.createElement('div');\n",
              "          docLink.innerHTML = docLinkHtml;\n",
              "          element.appendChild(docLink);\n",
              "        }\n",
              "      </script>\n",
              "    </div>\n",
              "  </div>\n",
              "  "
            ]
          },
          "metadata": {},
          "execution_count": 69
        }
      ]
    },
    {
      "cell_type": "markdown",
      "source": [
        "### New Menu 4 Pack Cookie Pack % Probability with other cookies"
      ],
      "metadata": {
        "id": "HLFdOkGQ9zVf"
      },
      "id": "HLFdOkGQ9zVf"
    },
    {
      "cell_type": "code",
      "source": [
        "newSnacks = newMenu[newMenu['Menu'] == 'SNACKS']"
      ],
      "metadata": {
        "id": "uraTaDRd4B-o"
      },
      "id": "uraTaDRd4B-o",
      "execution_count": null,
      "outputs": []
    },
    {
      "cell_type": "code",
      "source": [
        "_4packCookie = newSnacks[newSnacks['Menu Item'].str.contains('4 Pack Cookie Pack')]\n"
      ],
      "metadata": {
        "id": "4bByIZTR3H1i"
      },
      "id": "4bByIZTR3H1i",
      "execution_count": null,
      "outputs": []
    },
    {
      "cell_type": "code",
      "source": [
        "_4packCookieTrxns = _4packCookie['Order Id'].unique()"
      ],
      "metadata": {
        "id": "FmhcXuf83ICN"
      },
      "id": "FmhcXuf83ICN",
      "execution_count": null,
      "outputs": []
    },
    {
      "cell_type": "code",
      "source": [
        "\n",
        "_4packCookieOrders = newMenu[newMenu['Order Id'].isin(_4packCookieTrxns)]"
      ],
      "metadata": {
        "id": "YdBeJuhC3IJ6"
      },
      "id": "YdBeJuhC3IJ6",
      "execution_count": null,
      "outputs": []
    },
    {
      "cell_type": "code",
      "source": [
        "_4packCookieOrders = _4packCookieOrders[_4packCookieOrders['Menu Item'].str.contains('Cookie')]\n"
      ],
      "metadata": {
        "id": "AQHqDVU75oNT"
      },
      "id": "AQHqDVU75oNT",
      "execution_count": null,
      "outputs": []
    },
    {
      "cell_type": "code",
      "source": [
        "_4packCookieOrders['Menu Item'].unique()"
      ],
      "metadata": {
        "colab": {
          "base_uri": "https://localhost:8080/"
        },
        "id": "5a8ERb_m5RJI",
        "outputId": "047016a2-b8e5-49dd-81a6-55019f9d604f"
      },
      "id": "5a8ERb_m5RJI",
      "execution_count": null,
      "outputs": [
        {
          "output_type": "execute_result",
          "data": {
            "text/plain": [
              "array(['4 Pack Cookie Pack', 'Whole Grain Chocolate Chip Cookie'],\n",
              "      dtype=object)"
            ]
          },
          "metadata": {},
          "execution_count": 75
        }
      ]
    },
    {
      "cell_type": "code",
      "source": [
        "\n",
        "_4packCookieOrders['Group'] = _4packCookieOrders.groupby('Order Date')['Menu Item'].transform(lambda x: ','.join(x))"
      ],
      "metadata": {
        "id": "a4Vk_uQF-EFD"
      },
      "id": "a4Vk_uQF-EFD",
      "execution_count": null,
      "outputs": []
    },
    {
      "cell_type": "code",
      "source": [
        "\n",
        "groupedData = _4packCookieOrders[['Order Date', 'Group']]\n",
        "groupedData = groupedData.drop_duplicates()"
      ],
      "metadata": {
        "id": "YTQIEkHL-GPF"
      },
      "id": "YTQIEkHL-GPF",
      "execution_count": null,
      "outputs": []
    },
    {
      "cell_type": "code",
      "source": [
        "len(groupedData)"
      ],
      "metadata": {
        "colab": {
          "base_uri": "https://localhost:8080/"
        },
        "id": "Zv-chOug5zB3",
        "outputId": "9a12252f-8686-4963-d9aa-bcfa089f6a42"
      },
      "id": "Zv-chOug5zB3",
      "execution_count": null,
      "outputs": [
        {
          "output_type": "execute_result",
          "data": {
            "text/plain": [
              "19"
            ]
          },
          "metadata": {},
          "execution_count": 78
        }
      ]
    },
    {
      "cell_type": "markdown",
      "source": [
        "Counting for the combinations which the items have in the dataframe and store them in a new dataframe"
      ],
      "metadata": {
        "id": "YhWGJXjS-Kr9"
      },
      "id": "YhWGJXjS-Kr9"
    },
    {
      "cell_type": "code",
      "source": [
        "count = Counter()\n",
        "for row in groupedData['Group']:\n",
        "    row_list = row.split(',')\n",
        "    count.update(Counter(combinations(row_list, 2)))\n",
        "\n",
        "combinationDf = pd.DataFrame.from_dict(count, orient='index').reset_index().rename(columns={'index':'Combinations', 0:'count'})\n",
        "combinationDf.sort_values(by = 'count', ascending = False, inplace = True)"
      ],
      "metadata": {
        "id": "tu5r3UA_3IQy"
      },
      "id": "tu5r3UA_3IQy",
      "execution_count": null,
      "outputs": []
    },
    {
      "cell_type": "markdown",
      "source": [
        "Now we find the probabilities of these items being sold together"
      ],
      "metadata": {
        "id": "rqKiaS-I-TuX"
      },
      "id": "rqKiaS-I-TuX"
    },
    {
      "cell_type": "code",
      "source": [
        "combinationDf.loc[:, 'item1'] = combinationDf.Combinations.str[0]\n",
        "combinationDf.loc[:, 'item2'] = combinationDf.Combinations.str[1]"
      ],
      "metadata": {
        "id": "KKnAqXPT3IXz"
      },
      "id": "KKnAqXPT3IXz",
      "execution_count": null,
      "outputs": []
    },
    {
      "cell_type": "markdown",
      "source": [
        "Calculating the individual sales of the items from the sales data"
      ],
      "metadata": {
        "id": "FiyFbsrO-aFH"
      },
      "id": "FiyFbsrO-aFH"
    },
    {
      "cell_type": "code",
      "source": [
        "combinationDf.loc[:, 'item1Sales'] = combinationDf['item1'].map(_4packCookieOrders\n",
        "                                                                .groupby('Menu Item').count()['Qty'].to_dict())\n",
        "combinationDf.loc[:, 'item2Sales'] = combinationDf['item2'].map(_4packCookieOrders\n",
        "                                                                .groupby('Menu Item').count()['Qty'].to_dict())\n"
      ],
      "metadata": {
        "id": "0ClCFyrS3Iee"
      },
      "id": "0ClCFyrS3Iee",
      "execution_count": null,
      "outputs": []
    },
    {
      "cell_type": "markdown",
      "source": [
        "Calculating the probability of the items being sold together by dividing the count of items sold together by the sum of individual number of sales of the sold items together\n"
      ],
      "metadata": {
        "id": "2ond2LF3-ktx"
      },
      "id": "2ond2LF3-ktx"
    },
    {
      "cell_type": "code",
      "source": [
        "combinationDf.loc[:, 'Probability'] = combinationDf['count'] / (combinationDf['item1Sales'] + combinationDf['item2Sales'])\n"
      ],
      "metadata": {
        "id": "VmjpEUkf3Ik1"
      },
      "id": "VmjpEUkf3Ik1",
      "execution_count": null,
      "outputs": []
    },
    {
      "cell_type": "markdown",
      "source": [
        "Selecting the top 10 combinations of the items so that we can see the items which most commonly sold together along with their probabilities\n"
      ],
      "metadata": {
        "id": "Y1Iilfqc-vU8"
      },
      "id": "Y1Iilfqc-vU8"
    },
    {
      "cell_type": "code",
      "source": [
        "prob = combinationDf.head(6).reset_index(drop = True).drop(labels = [0, 2], axis = 0).reset_index(drop = True)"
      ],
      "metadata": {
        "id": "0C4Fdn4M3Iq7"
      },
      "id": "0C4Fdn4M3Iq7",
      "execution_count": null,
      "outputs": []
    },
    {
      "cell_type": "code",
      "source": [
        "prob"
      ],
      "metadata": {
        "colab": {
          "base_uri": "https://localhost:8080/",
          "height": 112
        },
        "id": "Gj97mpL-3IxI",
        "outputId": "b6d5a697-3bf5-4f3e-a96b-0f304378125b"
      },
      "id": "Gj97mpL-3IxI",
      "execution_count": null,
      "outputs": [
        {
          "output_type": "execute_result",
          "data": {
            "text/plain": [
              "                                        Combinations  count  \\\n",
              "0  (4 Pack Cookie Pack, Whole Grain Chocolate Chi...      5   \n",
              "1           (4 Pack Cookie Pack, 4 Pack Cookie Pack)      1   \n",
              "\n",
              "                item1                              item2  item1Sales  \\\n",
              "0  4 Pack Cookie Pack  Whole Grain Chocolate Chip Cookie          20   \n",
              "1  4 Pack Cookie Pack                 4 Pack Cookie Pack          20   \n",
              "\n",
              "   item2Sales  Probability  \n",
              "0           8     0.178571  \n",
              "1          20     0.025000  "
            ],
            "text/html": [
              "\n",
              "  <div id=\"df-05379717-29a1-461d-b269-2662ed154d78\">\n",
              "    <div class=\"colab-df-container\">\n",
              "      <div>\n",
              "<style scoped>\n",
              "    .dataframe tbody tr th:only-of-type {\n",
              "        vertical-align: middle;\n",
              "    }\n",
              "\n",
              "    .dataframe tbody tr th {\n",
              "        vertical-align: top;\n",
              "    }\n",
              "\n",
              "    .dataframe thead th {\n",
              "        text-align: right;\n",
              "    }\n",
              "</style>\n",
              "<table border=\"1\" class=\"dataframe\">\n",
              "  <thead>\n",
              "    <tr style=\"text-align: right;\">\n",
              "      <th></th>\n",
              "      <th>Combinations</th>\n",
              "      <th>count</th>\n",
              "      <th>item1</th>\n",
              "      <th>item2</th>\n",
              "      <th>item1Sales</th>\n",
              "      <th>item2Sales</th>\n",
              "      <th>Probability</th>\n",
              "    </tr>\n",
              "  </thead>\n",
              "  <tbody>\n",
              "    <tr>\n",
              "      <th>0</th>\n",
              "      <td>(4 Pack Cookie Pack, Whole Grain Chocolate Chi...</td>\n",
              "      <td>5</td>\n",
              "      <td>4 Pack Cookie Pack</td>\n",
              "      <td>Whole Grain Chocolate Chip Cookie</td>\n",
              "      <td>20</td>\n",
              "      <td>8</td>\n",
              "      <td>0.178571</td>\n",
              "    </tr>\n",
              "    <tr>\n",
              "      <th>1</th>\n",
              "      <td>(4 Pack Cookie Pack, 4 Pack Cookie Pack)</td>\n",
              "      <td>1</td>\n",
              "      <td>4 Pack Cookie Pack</td>\n",
              "      <td>4 Pack Cookie Pack</td>\n",
              "      <td>20</td>\n",
              "      <td>20</td>\n",
              "      <td>0.025000</td>\n",
              "    </tr>\n",
              "  </tbody>\n",
              "</table>\n",
              "</div>\n",
              "      <button class=\"colab-df-convert\" onclick=\"convertToInteractive('df-05379717-29a1-461d-b269-2662ed154d78')\"\n",
              "              title=\"Convert this dataframe to an interactive table.\"\n",
              "              style=\"display:none;\">\n",
              "        \n",
              "  <svg xmlns=\"http://www.w3.org/2000/svg\" height=\"24px\"viewBox=\"0 0 24 24\"\n",
              "       width=\"24px\">\n",
              "    <path d=\"M0 0h24v24H0V0z\" fill=\"none\"/>\n",
              "    <path d=\"M18.56 5.44l.94 2.06.94-2.06 2.06-.94-2.06-.94-.94-2.06-.94 2.06-2.06.94zm-11 1L8.5 8.5l.94-2.06 2.06-.94-2.06-.94L8.5 2.5l-.94 2.06-2.06.94zm10 10l.94 2.06.94-2.06 2.06-.94-2.06-.94-.94-2.06-.94 2.06-2.06.94z\"/><path d=\"M17.41 7.96l-1.37-1.37c-.4-.4-.92-.59-1.43-.59-.52 0-1.04.2-1.43.59L10.3 9.45l-7.72 7.72c-.78.78-.78 2.05 0 2.83L4 21.41c.39.39.9.59 1.41.59.51 0 1.02-.2 1.41-.59l7.78-7.78 2.81-2.81c.8-.78.8-2.07 0-2.86zM5.41 20L4 18.59l7.72-7.72 1.47 1.35L5.41 20z\"/>\n",
              "  </svg>\n",
              "      </button>\n",
              "      \n",
              "  <style>\n",
              "    .colab-df-container {\n",
              "      display:flex;\n",
              "      flex-wrap:wrap;\n",
              "      gap: 12px;\n",
              "    }\n",
              "\n",
              "    .colab-df-convert {\n",
              "      background-color: #E8F0FE;\n",
              "      border: none;\n",
              "      border-radius: 50%;\n",
              "      cursor: pointer;\n",
              "      display: none;\n",
              "      fill: #1967D2;\n",
              "      height: 32px;\n",
              "      padding: 0 0 0 0;\n",
              "      width: 32px;\n",
              "    }\n",
              "\n",
              "    .colab-df-convert:hover {\n",
              "      background-color: #E2EBFA;\n",
              "      box-shadow: 0px 1px 2px rgba(60, 64, 67, 0.3), 0px 1px 3px 1px rgba(60, 64, 67, 0.15);\n",
              "      fill: #174EA6;\n",
              "    }\n",
              "\n",
              "    [theme=dark] .colab-df-convert {\n",
              "      background-color: #3B4455;\n",
              "      fill: #D2E3FC;\n",
              "    }\n",
              "\n",
              "    [theme=dark] .colab-df-convert:hover {\n",
              "      background-color: #434B5C;\n",
              "      box-shadow: 0px 1px 3px 1px rgba(0, 0, 0, 0.15);\n",
              "      filter: drop-shadow(0px 1px 2px rgba(0, 0, 0, 0.3));\n",
              "      fill: #FFFFFF;\n",
              "    }\n",
              "  </style>\n",
              "\n",
              "      <script>\n",
              "        const buttonEl =\n",
              "          document.querySelector('#df-05379717-29a1-461d-b269-2662ed154d78 button.colab-df-convert');\n",
              "        buttonEl.style.display =\n",
              "          google.colab.kernel.accessAllowed ? 'block' : 'none';\n",
              "\n",
              "        async function convertToInteractive(key) {\n",
              "          const element = document.querySelector('#df-05379717-29a1-461d-b269-2662ed154d78');\n",
              "          const dataTable =\n",
              "            await google.colab.kernel.invokeFunction('convertToInteractive',\n",
              "                                                     [key], {});\n",
              "          if (!dataTable) return;\n",
              "\n",
              "          const docLinkHtml = 'Like what you see? Visit the ' +\n",
              "            '<a target=\"_blank\" href=https://colab.research.google.com/notebooks/data_table.ipynb>data table notebook</a>'\n",
              "            + ' to learn more about interactive tables.';\n",
              "          element.innerHTML = '';\n",
              "          dataTable['output_type'] = 'display_data';\n",
              "          await google.colab.output.renderOutput(dataTable, element);\n",
              "          const docLink = document.createElement('div');\n",
              "          docLink.innerHTML = docLinkHtml;\n",
              "          element.appendChild(docLink);\n",
              "        }\n",
              "      </script>\n",
              "    </div>\n",
              "  </div>\n",
              "  "
            ]
          },
          "metadata": {},
          "execution_count": 84
        }
      ]
    },
    {
      "cell_type": "markdown",
      "source": [
        "### Previous Menu Whole Grain Chocolate Chip Cookie Probability with other cookies"
      ],
      "metadata": {
        "id": "0UXag-I3yVsX"
      },
      "id": "0UXag-I3yVsX"
    },
    {
      "cell_type": "code",
      "source": [
        "wholeGrainChoco = prevSnacks[prevSnacks['Menu Item'].str.contains('Whole Grain Chocolate Chip Cookie')]"
      ],
      "metadata": {
        "id": "0S30smAYyVCD"
      },
      "id": "0S30smAYyVCD",
      "execution_count": null,
      "outputs": []
    },
    {
      "cell_type": "code",
      "source": [
        "_4packCookieTrxns = wholeGrainChoco['Order Id'].unique()"
      ],
      "metadata": {
        "id": "BwmAXGkFs64j"
      },
      "id": "BwmAXGkFs64j",
      "execution_count": null,
      "outputs": []
    },
    {
      "cell_type": "code",
      "source": [
        "\n",
        "_4packCookieOrders = previousMenu[previousMenu['Order Id'].isin(_4packCookieTrxns)]"
      ],
      "metadata": {
        "id": "kJMavs_2s6_W"
      },
      "id": "kJMavs_2s6_W",
      "execution_count": null,
      "outputs": []
    },
    {
      "cell_type": "code",
      "source": [
        "_4packCookieOrders = _4packCookieOrders[_4packCookieOrders['Menu Item'].str.contains('Cookie')]"
      ],
      "metadata": {
        "id": "6b6ghk0L9mR-"
      },
      "id": "6b6ghk0L9mR-",
      "execution_count": null,
      "outputs": []
    },
    {
      "cell_type": "code",
      "source": [
        "_4packCookieOrders['Menu Item'].unique()"
      ],
      "metadata": {
        "colab": {
          "base_uri": "https://localhost:8080/"
        },
        "id": "gWbBU1kJ9pTR",
        "outputId": "fb0b50c0-bf06-44f8-8453-a8afa33cc051"
      },
      "id": "gWbBU1kJ9pTR",
      "execution_count": null,
      "outputs": [
        {
          "output_type": "execute_result",
          "data": {
            "text/plain": [
              "array(['Whole Grain Chocolate Chip Cookie',\n",
              "       'Whole Grain White Chocolate Macadamia Nut Cookie',\n",
              "       '4 Pack Cookie Pack', 'Carrot Cake Cookie Sandwich'], dtype=object)"
            ]
          },
          "metadata": {},
          "execution_count": 89
        }
      ]
    },
    {
      "cell_type": "code",
      "source": [
        "\n",
        "_4packCookieOrders['Group'] = _4packCookieOrders.groupby('Order Date')['Menu Item'].transform(lambda x: ','.join(x))"
      ],
      "metadata": {
        "id": "rW5I_TG0_Et7"
      },
      "id": "rW5I_TG0_Et7",
      "execution_count": null,
      "outputs": []
    },
    {
      "cell_type": "code",
      "source": [
        "groupedData = _4packCookieOrders[['Order Date', 'Group']]\n",
        "groupedData = groupedData.drop_duplicates()"
      ],
      "metadata": {
        "id": "f8gtsSKt_E4c"
      },
      "id": "f8gtsSKt_E4c",
      "execution_count": null,
      "outputs": []
    },
    {
      "cell_type": "markdown",
      "source": [
        "Counting for the combinations which the items have in the dataframe and store them in a new dataframe"
      ],
      "metadata": {
        "id": "MWJr6LN5_W9I"
      },
      "id": "MWJr6LN5_W9I"
    },
    {
      "cell_type": "code",
      "source": [
        "count = Counter()\n",
        "for row in groupedData['Group']:\n",
        "    row_list = row.split(',')\n",
        "    count.update(Counter(combinations(row_list, 2)))\n",
        "\n",
        "combinationDf = pd.DataFrame.from_dict(count, orient='index').reset_index().rename(columns={'index':'Combinations', 0:'count'})\n",
        "combinationDf.sort_values(by = 'count', ascending = False, inplace = True)\n"
      ],
      "metadata": {
        "id": "o13Ez3eDs7Fl"
      },
      "id": "o13Ez3eDs7Fl",
      "execution_count": null,
      "outputs": []
    },
    {
      "cell_type": "markdown",
      "source": [
        "Now we find the probabilities of these items being sold together"
      ],
      "metadata": {
        "id": "Hh87DCVN_eE1"
      },
      "id": "Hh87DCVN_eE1"
    },
    {
      "cell_type": "code",
      "source": [
        "combinationDf.loc[:, 'item1'] = combinationDf.Combinations.str[0]\n",
        "combinationDf.loc[:, 'item2'] = combinationDf.Combinations.str[1]\n",
        "\n",
        "\n"
      ],
      "metadata": {
        "id": "UxD4njB34J8a"
      },
      "id": "UxD4njB34J8a",
      "execution_count": null,
      "outputs": []
    },
    {
      "cell_type": "markdown",
      "source": [
        "Calculating the individual sales of the items from the sales data"
      ],
      "metadata": {
        "id": "rEXvx0Mk_nos"
      },
      "id": "rEXvx0Mk_nos"
    },
    {
      "cell_type": "code",
      "source": [
        "combinationDf.loc[:, 'item1Sales'] = combinationDf['item1'].map(_4packCookieOrders\n",
        "                                                                .groupby('Menu Item').count()['Qty'].to_dict())\n",
        "combinationDf.loc[:, 'item2Sales'] = combinationDf['item2'].map(_4packCookieOrders\n",
        "                                                                .groupby('Menu Item').count()['Qty'].to_dict())\n",
        "   \n"
      ],
      "metadata": {
        "id": "P4_GeF6l4MqU"
      },
      "id": "P4_GeF6l4MqU",
      "execution_count": null,
      "outputs": []
    },
    {
      "cell_type": "markdown",
      "source": [
        "Calculating the probability of the items being sold together by dividing the count of items sold together by the sum of individual number of sales of the sold items together         \n"
      ],
      "metadata": {
        "id": "PXj8DbQP_stw"
      },
      "id": "PXj8DbQP_stw"
    },
    {
      "cell_type": "code",
      "source": [
        "\n",
        "combinationDf.loc[:, 'Probability'] = combinationDf['count'] / (combinationDf['item1Sales'] + combinationDf['item2Sales'])\n"
      ],
      "metadata": {
        "id": "_EQQevGq_iAw"
      },
      "id": "_EQQevGq_iAw",
      "execution_count": null,
      "outputs": []
    },
    {
      "cell_type": "markdown",
      "source": [
        "Selecting the top 10 combinations of the items so that we can see the items which most commonly sold together along with their probabilities\n"
      ],
      "metadata": {
        "id": "7tqghUwz_0tv"
      },
      "id": "7tqghUwz_0tv"
    },
    {
      "cell_type": "code",
      "source": [
        "prob = combinationDf.head(10).reset_index(drop = True)\n",
        "\n",
        "prob"
      ],
      "metadata": {
        "colab": {
          "base_uri": "https://localhost:8080/",
          "height": 532
        },
        "id": "Qys-xpG2_iJM",
        "outputId": "e7e03ea6-7989-4d5c-8c97-b96c71f206ea"
      },
      "id": "Qys-xpG2_iJM",
      "execution_count": null,
      "outputs": [
        {
          "output_type": "execute_result",
          "data": {
            "text/plain": [
              "                                        Combinations  count  \\\n",
              "0  (Whole Grain Chocolate Chip Cookie, Whole Grai...    461   \n",
              "1  (Whole Grain Chocolate Chip Cookie, Whole Grai...     18   \n",
              "2  (Whole Grain White Chocolate Macadamia Nut Coo...     13   \n",
              "3  (Whole Grain Chocolate Chip Cookie, Carrot Cak...      7   \n",
              "4  (Whole Grain Chocolate Chip Cookie, 4 Pack Coo...      4   \n",
              "5  (Carrot Cake Cookie Sandwich, Whole Grain Choc...      4   \n",
              "6  (4 Pack Cookie Pack, Whole Grain Chocolate Chi...      1   \n",
              "7  (Whole Grain White Chocolate Macadamia Nut Coo...      1   \n",
              "8  (Carrot Cake Cookie Sandwich, Carrot Cake Cook...      1   \n",
              "\n",
              "                                              item1  \\\n",
              "0                 Whole Grain Chocolate Chip Cookie   \n",
              "1                 Whole Grain Chocolate Chip Cookie   \n",
              "2  Whole Grain White Chocolate Macadamia Nut Cookie   \n",
              "3                 Whole Grain Chocolate Chip Cookie   \n",
              "4                 Whole Grain Chocolate Chip Cookie   \n",
              "5                       Carrot Cake Cookie Sandwich   \n",
              "6                                4 Pack Cookie Pack   \n",
              "7  Whole Grain White Chocolate Macadamia Nut Cookie   \n",
              "8                       Carrot Cake Cookie Sandwich   \n",
              "\n",
              "                                              item2  item1Sales  item2Sales  \\\n",
              "0                 Whole Grain Chocolate Chip Cookie        1478        1478   \n",
              "1  Whole Grain White Chocolate Macadamia Nut Cookie        1478          25   \n",
              "2                 Whole Grain Chocolate Chip Cookie          25        1478   \n",
              "3                       Carrot Cake Cookie Sandwich        1478          11   \n",
              "4                                4 Pack Cookie Pack        1478           2   \n",
              "5                 Whole Grain Chocolate Chip Cookie          11        1478   \n",
              "6                 Whole Grain Chocolate Chip Cookie           2        1478   \n",
              "7  Whole Grain White Chocolate Macadamia Nut Cookie          25          25   \n",
              "8                       Carrot Cake Cookie Sandwich          11          11   \n",
              "\n",
              "   Probability  \n",
              "0     0.155954  \n",
              "1     0.011976  \n",
              "2     0.008649  \n",
              "3     0.004701  \n",
              "4     0.002703  \n",
              "5     0.002686  \n",
              "6     0.000676  \n",
              "7     0.020000  \n",
              "8     0.045455  "
            ],
            "text/html": [
              "\n",
              "  <div id=\"df-55fe22e3-b71b-4283-bd77-5f39dba1a752\">\n",
              "    <div class=\"colab-df-container\">\n",
              "      <div>\n",
              "<style scoped>\n",
              "    .dataframe tbody tr th:only-of-type {\n",
              "        vertical-align: middle;\n",
              "    }\n",
              "\n",
              "    .dataframe tbody tr th {\n",
              "        vertical-align: top;\n",
              "    }\n",
              "\n",
              "    .dataframe thead th {\n",
              "        text-align: right;\n",
              "    }\n",
              "</style>\n",
              "<table border=\"1\" class=\"dataframe\">\n",
              "  <thead>\n",
              "    <tr style=\"text-align: right;\">\n",
              "      <th></th>\n",
              "      <th>Combinations</th>\n",
              "      <th>count</th>\n",
              "      <th>item1</th>\n",
              "      <th>item2</th>\n",
              "      <th>item1Sales</th>\n",
              "      <th>item2Sales</th>\n",
              "      <th>Probability</th>\n",
              "    </tr>\n",
              "  </thead>\n",
              "  <tbody>\n",
              "    <tr>\n",
              "      <th>0</th>\n",
              "      <td>(Whole Grain Chocolate Chip Cookie, Whole Grai...</td>\n",
              "      <td>461</td>\n",
              "      <td>Whole Grain Chocolate Chip Cookie</td>\n",
              "      <td>Whole Grain Chocolate Chip Cookie</td>\n",
              "      <td>1478</td>\n",
              "      <td>1478</td>\n",
              "      <td>0.155954</td>\n",
              "    </tr>\n",
              "    <tr>\n",
              "      <th>1</th>\n",
              "      <td>(Whole Grain Chocolate Chip Cookie, Whole Grai...</td>\n",
              "      <td>18</td>\n",
              "      <td>Whole Grain Chocolate Chip Cookie</td>\n",
              "      <td>Whole Grain White Chocolate Macadamia Nut Cookie</td>\n",
              "      <td>1478</td>\n",
              "      <td>25</td>\n",
              "      <td>0.011976</td>\n",
              "    </tr>\n",
              "    <tr>\n",
              "      <th>2</th>\n",
              "      <td>(Whole Grain White Chocolate Macadamia Nut Coo...</td>\n",
              "      <td>13</td>\n",
              "      <td>Whole Grain White Chocolate Macadamia Nut Cookie</td>\n",
              "      <td>Whole Grain Chocolate Chip Cookie</td>\n",
              "      <td>25</td>\n",
              "      <td>1478</td>\n",
              "      <td>0.008649</td>\n",
              "    </tr>\n",
              "    <tr>\n",
              "      <th>3</th>\n",
              "      <td>(Whole Grain Chocolate Chip Cookie, Carrot Cak...</td>\n",
              "      <td>7</td>\n",
              "      <td>Whole Grain Chocolate Chip Cookie</td>\n",
              "      <td>Carrot Cake Cookie Sandwich</td>\n",
              "      <td>1478</td>\n",
              "      <td>11</td>\n",
              "      <td>0.004701</td>\n",
              "    </tr>\n",
              "    <tr>\n",
              "      <th>4</th>\n",
              "      <td>(Whole Grain Chocolate Chip Cookie, 4 Pack Coo...</td>\n",
              "      <td>4</td>\n",
              "      <td>Whole Grain Chocolate Chip Cookie</td>\n",
              "      <td>4 Pack Cookie Pack</td>\n",
              "      <td>1478</td>\n",
              "      <td>2</td>\n",
              "      <td>0.002703</td>\n",
              "    </tr>\n",
              "    <tr>\n",
              "      <th>5</th>\n",
              "      <td>(Carrot Cake Cookie Sandwich, Whole Grain Choc...</td>\n",
              "      <td>4</td>\n",
              "      <td>Carrot Cake Cookie Sandwich</td>\n",
              "      <td>Whole Grain Chocolate Chip Cookie</td>\n",
              "      <td>11</td>\n",
              "      <td>1478</td>\n",
              "      <td>0.002686</td>\n",
              "    </tr>\n",
              "    <tr>\n",
              "      <th>6</th>\n",
              "      <td>(4 Pack Cookie Pack, Whole Grain Chocolate Chi...</td>\n",
              "      <td>1</td>\n",
              "      <td>4 Pack Cookie Pack</td>\n",
              "      <td>Whole Grain Chocolate Chip Cookie</td>\n",
              "      <td>2</td>\n",
              "      <td>1478</td>\n",
              "      <td>0.000676</td>\n",
              "    </tr>\n",
              "    <tr>\n",
              "      <th>7</th>\n",
              "      <td>(Whole Grain White Chocolate Macadamia Nut Coo...</td>\n",
              "      <td>1</td>\n",
              "      <td>Whole Grain White Chocolate Macadamia Nut Cookie</td>\n",
              "      <td>Whole Grain White Chocolate Macadamia Nut Cookie</td>\n",
              "      <td>25</td>\n",
              "      <td>25</td>\n",
              "      <td>0.020000</td>\n",
              "    </tr>\n",
              "    <tr>\n",
              "      <th>8</th>\n",
              "      <td>(Carrot Cake Cookie Sandwich, Carrot Cake Cook...</td>\n",
              "      <td>1</td>\n",
              "      <td>Carrot Cake Cookie Sandwich</td>\n",
              "      <td>Carrot Cake Cookie Sandwich</td>\n",
              "      <td>11</td>\n",
              "      <td>11</td>\n",
              "      <td>0.045455</td>\n",
              "    </tr>\n",
              "  </tbody>\n",
              "</table>\n",
              "</div>\n",
              "      <button class=\"colab-df-convert\" onclick=\"convertToInteractive('df-55fe22e3-b71b-4283-bd77-5f39dba1a752')\"\n",
              "              title=\"Convert this dataframe to an interactive table.\"\n",
              "              style=\"display:none;\">\n",
              "        \n",
              "  <svg xmlns=\"http://www.w3.org/2000/svg\" height=\"24px\"viewBox=\"0 0 24 24\"\n",
              "       width=\"24px\">\n",
              "    <path d=\"M0 0h24v24H0V0z\" fill=\"none\"/>\n",
              "    <path d=\"M18.56 5.44l.94 2.06.94-2.06 2.06-.94-2.06-.94-.94-2.06-.94 2.06-2.06.94zm-11 1L8.5 8.5l.94-2.06 2.06-.94-2.06-.94L8.5 2.5l-.94 2.06-2.06.94zm10 10l.94 2.06.94-2.06 2.06-.94-2.06-.94-.94-2.06-.94 2.06-2.06.94z\"/><path d=\"M17.41 7.96l-1.37-1.37c-.4-.4-.92-.59-1.43-.59-.52 0-1.04.2-1.43.59L10.3 9.45l-7.72 7.72c-.78.78-.78 2.05 0 2.83L4 21.41c.39.39.9.59 1.41.59.51 0 1.02-.2 1.41-.59l7.78-7.78 2.81-2.81c.8-.78.8-2.07 0-2.86zM5.41 20L4 18.59l7.72-7.72 1.47 1.35L5.41 20z\"/>\n",
              "  </svg>\n",
              "      </button>\n",
              "      \n",
              "  <style>\n",
              "    .colab-df-container {\n",
              "      display:flex;\n",
              "      flex-wrap:wrap;\n",
              "      gap: 12px;\n",
              "    }\n",
              "\n",
              "    .colab-df-convert {\n",
              "      background-color: #E8F0FE;\n",
              "      border: none;\n",
              "      border-radius: 50%;\n",
              "      cursor: pointer;\n",
              "      display: none;\n",
              "      fill: #1967D2;\n",
              "      height: 32px;\n",
              "      padding: 0 0 0 0;\n",
              "      width: 32px;\n",
              "    }\n",
              "\n",
              "    .colab-df-convert:hover {\n",
              "      background-color: #E2EBFA;\n",
              "      box-shadow: 0px 1px 2px rgba(60, 64, 67, 0.3), 0px 1px 3px 1px rgba(60, 64, 67, 0.15);\n",
              "      fill: #174EA6;\n",
              "    }\n",
              "\n",
              "    [theme=dark] .colab-df-convert {\n",
              "      background-color: #3B4455;\n",
              "      fill: #D2E3FC;\n",
              "    }\n",
              "\n",
              "    [theme=dark] .colab-df-convert:hover {\n",
              "      background-color: #434B5C;\n",
              "      box-shadow: 0px 1px 3px 1px rgba(0, 0, 0, 0.15);\n",
              "      filter: drop-shadow(0px 1px 2px rgba(0, 0, 0, 0.3));\n",
              "      fill: #FFFFFF;\n",
              "    }\n",
              "  </style>\n",
              "\n",
              "      <script>\n",
              "        const buttonEl =\n",
              "          document.querySelector('#df-55fe22e3-b71b-4283-bd77-5f39dba1a752 button.colab-df-convert');\n",
              "        buttonEl.style.display =\n",
              "          google.colab.kernel.accessAllowed ? 'block' : 'none';\n",
              "\n",
              "        async function convertToInteractive(key) {\n",
              "          const element = document.querySelector('#df-55fe22e3-b71b-4283-bd77-5f39dba1a752');\n",
              "          const dataTable =\n",
              "            await google.colab.kernel.invokeFunction('convertToInteractive',\n",
              "                                                     [key], {});\n",
              "          if (!dataTable) return;\n",
              "\n",
              "          const docLinkHtml = 'Like what you see? Visit the ' +\n",
              "            '<a target=\"_blank\" href=https://colab.research.google.com/notebooks/data_table.ipynb>data table notebook</a>'\n",
              "            + ' to learn more about interactive tables.';\n",
              "          element.innerHTML = '';\n",
              "          dataTable['output_type'] = 'display_data';\n",
              "          await google.colab.output.renderOutput(dataTable, element);\n",
              "          const docLink = document.createElement('div');\n",
              "          docLink.innerHTML = docLinkHtml;\n",
              "          element.appendChild(docLink);\n",
              "        }\n",
              "      </script>\n",
              "    </div>\n",
              "  </div>\n",
              "  "
            ]
          },
          "metadata": {},
          "execution_count": 96
        }
      ]
    },
    {
      "cell_type": "markdown",
      "source": [
        "### New Menu Whole Grain Chocolate Chip Cookie Probability with other cookies"
      ],
      "metadata": {
        "id": "ewgLjZmjADAY"
      },
      "id": "ewgLjZmjADAY"
    },
    {
      "cell_type": "code",
      "source": [
        "wholeGrainChoco = newSnacks[newSnacks['Menu Item'].str.contains('Whole Grain Chocolate Chip Cookie')]"
      ],
      "metadata": {
        "id": "rKSSuJXb4MwU"
      },
      "id": "rKSSuJXb4MwU",
      "execution_count": null,
      "outputs": []
    },
    {
      "cell_type": "code",
      "source": [
        "_4packCookieTrxns = wholeGrainChoco['Order Id'].unique()"
      ],
      "metadata": {
        "id": "BSO0icE24M4g"
      },
      "id": "BSO0icE24M4g",
      "execution_count": null,
      "outputs": []
    },
    {
      "cell_type": "code",
      "source": [
        "\n",
        "_4packCookieOrders = newMenu[newMenu['Order Id'].isin(_4packCookieTrxns)]"
      ],
      "metadata": {
        "id": "pZt33BY84M9u"
      },
      "id": "pZt33BY84M9u",
      "execution_count": null,
      "outputs": []
    },
    {
      "cell_type": "code",
      "source": [
        "_4packCookieOrders = _4packCookieOrders[_4packCookieOrders['Menu Item'].str.contains('Cookie')]\n"
      ],
      "metadata": {
        "id": "rvxgGF0Y-wmB"
      },
      "id": "rvxgGF0Y-wmB",
      "execution_count": null,
      "outputs": []
    },
    {
      "cell_type": "code",
      "source": [
        "_4packCookieOrders['Menu Item'].unique()"
      ],
      "metadata": {
        "colab": {
          "base_uri": "https://localhost:8080/"
        },
        "id": "hr8jx5bG_GNC",
        "outputId": "98a85f7d-8791-49bd-bb6a-04f5c697a111"
      },
      "id": "hr8jx5bG_GNC",
      "execution_count": null,
      "outputs": [
        {
          "output_type": "execute_result",
          "data": {
            "text/plain": [
              "array(['Whole Grain Chocolate Chip Cookie', 'Carrot Cake Cookie Sandwich',\n",
              "       'Whole Grain White Chocolate Macadamia Nut Cookie',\n",
              "       '4 Pack Cookie Pack'], dtype=object)"
            ]
          },
          "metadata": {},
          "execution_count": 101
        }
      ]
    },
    {
      "cell_type": "code",
      "source": [
        "\n",
        "_4packCookieOrders['Group'] = _4packCookieOrders.groupby('Order Date')['Menu Item'].transform(lambda x: ','.join(x))"
      ],
      "metadata": {
        "id": "qMSSKrvuAPwl"
      },
      "id": "qMSSKrvuAPwl",
      "execution_count": null,
      "outputs": []
    },
    {
      "cell_type": "code",
      "source": [
        "\n",
        "groupedData = _4packCookieOrders[['Order Date', 'Group']]\n",
        "groupedData = groupedData.drop_duplicates()"
      ],
      "metadata": {
        "id": "Q4q639JNAP5j"
      },
      "id": "Q4q639JNAP5j",
      "execution_count": null,
      "outputs": []
    },
    {
      "cell_type": "markdown",
      "source": [
        "Counting for the combinations which the items have in the dataframe and store them in a new dataframe\n"
      ],
      "metadata": {
        "id": "d7J2sVOHAZTQ"
      },
      "id": "d7J2sVOHAZTQ"
    },
    {
      "cell_type": "code",
      "source": [
        "count = Counter()\n",
        "for row in groupedData['Group']:\n",
        "    row_list = row.split(',')\n",
        "    count.update(Counter(combinations(row_list, 2)))\n",
        "\n",
        "combinationDf = pd.DataFrame.from_dict(count, orient='index').reset_index().rename(columns={'index':'Combinations', 0:'count'})\n",
        "combinationDf.sort_values(by = 'count', ascending = False, inplace = True)\n"
      ],
      "metadata": {
        "id": "Uvg5NsRX4NFu"
      },
      "id": "Uvg5NsRX4NFu",
      "execution_count": null,
      "outputs": []
    },
    {
      "cell_type": "markdown",
      "source": [
        "Now we find the probabilities of these items being sold together\n"
      ],
      "metadata": {
        "id": "7TW3_M-bAfk5"
      },
      "id": "7TW3_M-bAfk5"
    },
    {
      "cell_type": "code",
      "source": [
        "combinationDf.loc[:, 'item1'] = combinationDf.Combinations.str[0]\n",
        "combinationDf.loc[:, 'item2'] = combinationDf.Combinations.str[1]\n"
      ],
      "metadata": {
        "id": "7yX03cFo4NLl"
      },
      "id": "7yX03cFo4NLl",
      "execution_count": null,
      "outputs": []
    },
    {
      "cell_type": "markdown",
      "source": [
        "Calculating the individual sales of the items from the sales data\n"
      ],
      "metadata": {
        "id": "NI_oGmc3Av7L"
      },
      "id": "NI_oGmc3Av7L"
    },
    {
      "cell_type": "code",
      "source": [
        "combinationDf.loc[:, 'item1Sales'] = combinationDf['item1'].map(_4packCookieOrders\n",
        "                                                                .groupby('Menu Item').count()['Qty'].to_dict())\n",
        "combinationDf.loc[:, 'item2Sales'] = combinationDf['item2'].map(_4packCookieOrders\n",
        "                                                                .groupby('Menu Item').count()['Qty'].to_dict())\n",
        "   "
      ],
      "metadata": {
        "id": "cF5E8gRs4NSr"
      },
      "id": "cF5E8gRs4NSr",
      "execution_count": null,
      "outputs": []
    },
    {
      "cell_type": "markdown",
      "source": [
        "Calculating the probability of the items being sold together by dividing the count of items sold together by the sum of individual number of sales of the sold items together                   \n"
      ],
      "metadata": {
        "id": "18ZifTeUA2Ll"
      },
      "id": "18ZifTeUA2Ll"
    },
    {
      "cell_type": "code",
      "source": [
        "combinationDf.loc[:, 'Probability'] = combinationDf['count'] / (combinationDf['item1Sales'] + combinationDf['item2Sales'])\n"
      ],
      "metadata": {
        "id": "lArurOcL4NY7"
      },
      "id": "lArurOcL4NY7",
      "execution_count": null,
      "outputs": []
    },
    {
      "cell_type": "markdown",
      "source": [
        "Selecting the top 10 combinations of the items so that we can see the items which most commonly sold together along with their probabilities\n"
      ],
      "metadata": {
        "id": "X043C9zPA8XT"
      },
      "id": "X043C9zPA8XT"
    },
    {
      "cell_type": "code",
      "source": [
        "prob = combinationDf.head(10).reset_index(drop = True)\n",
        "\n",
        "prob"
      ],
      "metadata": {
        "colab": {
          "base_uri": "https://localhost:8080/",
          "height": 532
        },
        "id": "J4Qj252oAzx-",
        "outputId": "2218f4b5-12d1-4d1d-8d44-439b530aa039"
      },
      "id": "J4Qj252oAzx-",
      "execution_count": null,
      "outputs": [
        {
          "output_type": "execute_result",
          "data": {
            "text/plain": [
              "                                        Combinations  count  \\\n",
              "0  (Whole Grain Chocolate Chip Cookie, Whole Grai...    405   \n",
              "1  (Whole Grain Chocolate Chip Cookie, Whole Grai...     16   \n",
              "2  (Whole Grain White Chocolate Macadamia Nut Coo...     12   \n",
              "3  (Carrot Cake Cookie Sandwich, Whole Grain Choc...      6   \n",
              "4  (Whole Grain Chocolate Chip Cookie, Carrot Cak...      5   \n",
              "5  (4 Pack Cookie Pack, Whole Grain Chocolate Chi...      5   \n",
              "6  (Whole Grain Chocolate Chip Cookie, 4 Pack Coo...      3   \n",
              "7  (Whole Grain White Chocolate Macadamia Nut Coo...      2   \n",
              "8  (Carrot Cake Cookie Sandwich, Carrot Cake Cook...      1   \n",
              "\n",
              "                                              item1  \\\n",
              "0                 Whole Grain Chocolate Chip Cookie   \n",
              "1                 Whole Grain Chocolate Chip Cookie   \n",
              "2  Whole Grain White Chocolate Macadamia Nut Cookie   \n",
              "3                       Carrot Cake Cookie Sandwich   \n",
              "4                 Whole Grain Chocolate Chip Cookie   \n",
              "5                                4 Pack Cookie Pack   \n",
              "6                 Whole Grain Chocolate Chip Cookie   \n",
              "7  Whole Grain White Chocolate Macadamia Nut Cookie   \n",
              "8                       Carrot Cake Cookie Sandwich   \n",
              "\n",
              "                                              item2  item1Sales  item2Sales  \\\n",
              "0                 Whole Grain Chocolate Chip Cookie        1540        1540   \n",
              "1  Whole Grain White Chocolate Macadamia Nut Cookie        1540          24   \n",
              "2                 Whole Grain Chocolate Chip Cookie          24        1540   \n",
              "3                 Whole Grain Chocolate Chip Cookie           8        1540   \n",
              "4                       Carrot Cake Cookie Sandwich        1540           8   \n",
              "5                 Whole Grain Chocolate Chip Cookie           2        1540   \n",
              "6                                4 Pack Cookie Pack        1540           2   \n",
              "7  Whole Grain White Chocolate Macadamia Nut Cookie          24          24   \n",
              "8                       Carrot Cake Cookie Sandwich           8           8   \n",
              "\n",
              "   Probability  \n",
              "0     0.131494  \n",
              "1     0.010230  \n",
              "2     0.007673  \n",
              "3     0.003876  \n",
              "4     0.003230  \n",
              "5     0.003243  \n",
              "6     0.001946  \n",
              "7     0.041667  \n",
              "8     0.062500  "
            ],
            "text/html": [
              "\n",
              "  <div id=\"df-dc9d6227-ce1c-4dca-bcee-557d347f6b8f\">\n",
              "    <div class=\"colab-df-container\">\n",
              "      <div>\n",
              "<style scoped>\n",
              "    .dataframe tbody tr th:only-of-type {\n",
              "        vertical-align: middle;\n",
              "    }\n",
              "\n",
              "    .dataframe tbody tr th {\n",
              "        vertical-align: top;\n",
              "    }\n",
              "\n",
              "    .dataframe thead th {\n",
              "        text-align: right;\n",
              "    }\n",
              "</style>\n",
              "<table border=\"1\" class=\"dataframe\">\n",
              "  <thead>\n",
              "    <tr style=\"text-align: right;\">\n",
              "      <th></th>\n",
              "      <th>Combinations</th>\n",
              "      <th>count</th>\n",
              "      <th>item1</th>\n",
              "      <th>item2</th>\n",
              "      <th>item1Sales</th>\n",
              "      <th>item2Sales</th>\n",
              "      <th>Probability</th>\n",
              "    </tr>\n",
              "  </thead>\n",
              "  <tbody>\n",
              "    <tr>\n",
              "      <th>0</th>\n",
              "      <td>(Whole Grain Chocolate Chip Cookie, Whole Grai...</td>\n",
              "      <td>405</td>\n",
              "      <td>Whole Grain Chocolate Chip Cookie</td>\n",
              "      <td>Whole Grain Chocolate Chip Cookie</td>\n",
              "      <td>1540</td>\n",
              "      <td>1540</td>\n",
              "      <td>0.131494</td>\n",
              "    </tr>\n",
              "    <tr>\n",
              "      <th>1</th>\n",
              "      <td>(Whole Grain Chocolate Chip Cookie, Whole Grai...</td>\n",
              "      <td>16</td>\n",
              "      <td>Whole Grain Chocolate Chip Cookie</td>\n",
              "      <td>Whole Grain White Chocolate Macadamia Nut Cookie</td>\n",
              "      <td>1540</td>\n",
              "      <td>24</td>\n",
              "      <td>0.010230</td>\n",
              "    </tr>\n",
              "    <tr>\n",
              "      <th>2</th>\n",
              "      <td>(Whole Grain White Chocolate Macadamia Nut Coo...</td>\n",
              "      <td>12</td>\n",
              "      <td>Whole Grain White Chocolate Macadamia Nut Cookie</td>\n",
              "      <td>Whole Grain Chocolate Chip Cookie</td>\n",
              "      <td>24</td>\n",
              "      <td>1540</td>\n",
              "      <td>0.007673</td>\n",
              "    </tr>\n",
              "    <tr>\n",
              "      <th>3</th>\n",
              "      <td>(Carrot Cake Cookie Sandwich, Whole Grain Choc...</td>\n",
              "      <td>6</td>\n",
              "      <td>Carrot Cake Cookie Sandwich</td>\n",
              "      <td>Whole Grain Chocolate Chip Cookie</td>\n",
              "      <td>8</td>\n",
              "      <td>1540</td>\n",
              "      <td>0.003876</td>\n",
              "    </tr>\n",
              "    <tr>\n",
              "      <th>4</th>\n",
              "      <td>(Whole Grain Chocolate Chip Cookie, Carrot Cak...</td>\n",
              "      <td>5</td>\n",
              "      <td>Whole Grain Chocolate Chip Cookie</td>\n",
              "      <td>Carrot Cake Cookie Sandwich</td>\n",
              "      <td>1540</td>\n",
              "      <td>8</td>\n",
              "      <td>0.003230</td>\n",
              "    </tr>\n",
              "    <tr>\n",
              "      <th>5</th>\n",
              "      <td>(4 Pack Cookie Pack, Whole Grain Chocolate Chi...</td>\n",
              "      <td>5</td>\n",
              "      <td>4 Pack Cookie Pack</td>\n",
              "      <td>Whole Grain Chocolate Chip Cookie</td>\n",
              "      <td>2</td>\n",
              "      <td>1540</td>\n",
              "      <td>0.003243</td>\n",
              "    </tr>\n",
              "    <tr>\n",
              "      <th>6</th>\n",
              "      <td>(Whole Grain Chocolate Chip Cookie, 4 Pack Coo...</td>\n",
              "      <td>3</td>\n",
              "      <td>Whole Grain Chocolate Chip Cookie</td>\n",
              "      <td>4 Pack Cookie Pack</td>\n",
              "      <td>1540</td>\n",
              "      <td>2</td>\n",
              "      <td>0.001946</td>\n",
              "    </tr>\n",
              "    <tr>\n",
              "      <th>7</th>\n",
              "      <td>(Whole Grain White Chocolate Macadamia Nut Coo...</td>\n",
              "      <td>2</td>\n",
              "      <td>Whole Grain White Chocolate Macadamia Nut Cookie</td>\n",
              "      <td>Whole Grain White Chocolate Macadamia Nut Cookie</td>\n",
              "      <td>24</td>\n",
              "      <td>24</td>\n",
              "      <td>0.041667</td>\n",
              "    </tr>\n",
              "    <tr>\n",
              "      <th>8</th>\n",
              "      <td>(Carrot Cake Cookie Sandwich, Carrot Cake Cook...</td>\n",
              "      <td>1</td>\n",
              "      <td>Carrot Cake Cookie Sandwich</td>\n",
              "      <td>Carrot Cake Cookie Sandwich</td>\n",
              "      <td>8</td>\n",
              "      <td>8</td>\n",
              "      <td>0.062500</td>\n",
              "    </tr>\n",
              "  </tbody>\n",
              "</table>\n",
              "</div>\n",
              "      <button class=\"colab-df-convert\" onclick=\"convertToInteractive('df-dc9d6227-ce1c-4dca-bcee-557d347f6b8f')\"\n",
              "              title=\"Convert this dataframe to an interactive table.\"\n",
              "              style=\"display:none;\">\n",
              "        \n",
              "  <svg xmlns=\"http://www.w3.org/2000/svg\" height=\"24px\"viewBox=\"0 0 24 24\"\n",
              "       width=\"24px\">\n",
              "    <path d=\"M0 0h24v24H0V0z\" fill=\"none\"/>\n",
              "    <path d=\"M18.56 5.44l.94 2.06.94-2.06 2.06-.94-2.06-.94-.94-2.06-.94 2.06-2.06.94zm-11 1L8.5 8.5l.94-2.06 2.06-.94-2.06-.94L8.5 2.5l-.94 2.06-2.06.94zm10 10l.94 2.06.94-2.06 2.06-.94-2.06-.94-.94-2.06-.94 2.06-2.06.94z\"/><path d=\"M17.41 7.96l-1.37-1.37c-.4-.4-.92-.59-1.43-.59-.52 0-1.04.2-1.43.59L10.3 9.45l-7.72 7.72c-.78.78-.78 2.05 0 2.83L4 21.41c.39.39.9.59 1.41.59.51 0 1.02-.2 1.41-.59l7.78-7.78 2.81-2.81c.8-.78.8-2.07 0-2.86zM5.41 20L4 18.59l7.72-7.72 1.47 1.35L5.41 20z\"/>\n",
              "  </svg>\n",
              "      </button>\n",
              "      \n",
              "  <style>\n",
              "    .colab-df-container {\n",
              "      display:flex;\n",
              "      flex-wrap:wrap;\n",
              "      gap: 12px;\n",
              "    }\n",
              "\n",
              "    .colab-df-convert {\n",
              "      background-color: #E8F0FE;\n",
              "      border: none;\n",
              "      border-radius: 50%;\n",
              "      cursor: pointer;\n",
              "      display: none;\n",
              "      fill: #1967D2;\n",
              "      height: 32px;\n",
              "      padding: 0 0 0 0;\n",
              "      width: 32px;\n",
              "    }\n",
              "\n",
              "    .colab-df-convert:hover {\n",
              "      background-color: #E2EBFA;\n",
              "      box-shadow: 0px 1px 2px rgba(60, 64, 67, 0.3), 0px 1px 3px 1px rgba(60, 64, 67, 0.15);\n",
              "      fill: #174EA6;\n",
              "    }\n",
              "\n",
              "    [theme=dark] .colab-df-convert {\n",
              "      background-color: #3B4455;\n",
              "      fill: #D2E3FC;\n",
              "    }\n",
              "\n",
              "    [theme=dark] .colab-df-convert:hover {\n",
              "      background-color: #434B5C;\n",
              "      box-shadow: 0px 1px 3px 1px rgba(0, 0, 0, 0.15);\n",
              "      filter: drop-shadow(0px 1px 2px rgba(0, 0, 0, 0.3));\n",
              "      fill: #FFFFFF;\n",
              "    }\n",
              "  </style>\n",
              "\n",
              "      <script>\n",
              "        const buttonEl =\n",
              "          document.querySelector('#df-dc9d6227-ce1c-4dca-bcee-557d347f6b8f button.colab-df-convert');\n",
              "        buttonEl.style.display =\n",
              "          google.colab.kernel.accessAllowed ? 'block' : 'none';\n",
              "\n",
              "        async function convertToInteractive(key) {\n",
              "          const element = document.querySelector('#df-dc9d6227-ce1c-4dca-bcee-557d347f6b8f');\n",
              "          const dataTable =\n",
              "            await google.colab.kernel.invokeFunction('convertToInteractive',\n",
              "                                                     [key], {});\n",
              "          if (!dataTable) return;\n",
              "\n",
              "          const docLinkHtml = 'Like what you see? Visit the ' +\n",
              "            '<a target=\"_blank\" href=https://colab.research.google.com/notebooks/data_table.ipynb>data table notebook</a>'\n",
              "            + ' to learn more about interactive tables.';\n",
              "          element.innerHTML = '';\n",
              "          dataTable['output_type'] = 'display_data';\n",
              "          await google.colab.output.renderOutput(dataTable, element);\n",
              "          const docLink = document.createElement('div');\n",
              "          docLink.innerHTML = docLinkHtml;\n",
              "          element.appendChild(docLink);\n",
              "        }\n",
              "      </script>\n",
              "    </div>\n",
              "  </div>\n",
              "  "
            ]
          },
          "metadata": {},
          "execution_count": 108
        }
      ]
    },
    {
      "cell_type": "markdown",
      "source": [
        "### Previous Menu Whole Grain White Chocolate Probability with other Cookies"
      ],
      "metadata": {
        "id": "pZxt58_Rz9gg"
      },
      "id": "pZxt58_Rz9gg"
    },
    {
      "cell_type": "code",
      "source": [
        "wholeGrainWhite = prevSnacks[prevSnacks['Menu Item'].str.contains('Whole Grain White Chocolate Macadamia Nut Cookie')]"
      ],
      "metadata": {
        "id": "gys124sNzeUh"
      },
      "id": "gys124sNzeUh",
      "execution_count": null,
      "outputs": []
    },
    {
      "cell_type": "code",
      "source": [
        "_4packCookieTrxns = wholeGrainWhite['Order Id'].unique()"
      ],
      "metadata": {
        "id": "uts-AAnbzecj"
      },
      "id": "uts-AAnbzecj",
      "execution_count": null,
      "outputs": []
    },
    {
      "cell_type": "code",
      "source": [
        "_4packCookieOrders = previousMenu[previousMenu['Order Id'].isin(_4packCookieTrxns)]"
      ],
      "metadata": {
        "id": "hLABrKeRBb2o"
      },
      "id": "hLABrKeRBb2o",
      "execution_count": null,
      "outputs": []
    },
    {
      "cell_type": "code",
      "source": [
        "_4packCookieOrders = _4packCookieOrders[_4packCookieOrders['Menu Item'].str.contains('Cookie')]\n"
      ],
      "metadata": {
        "id": "eXXTyph4AsXL"
      },
      "id": "eXXTyph4AsXL",
      "execution_count": null,
      "outputs": []
    },
    {
      "cell_type": "code",
      "source": [
        "_4packCookieOrders['Menu Item'].unique()"
      ],
      "metadata": {
        "colab": {
          "base_uri": "https://localhost:8080/"
        },
        "id": "g8_36BE6AzN2",
        "outputId": "0b7bde00-9d28-47d5-d8ae-d837b5710cf8"
      },
      "id": "g8_36BE6AzN2",
      "execution_count": null,
      "outputs": [
        {
          "output_type": "execute_result",
          "data": {
            "text/plain": [
              "array(['Whole Grain White Chocolate Macadamia Nut Cookie',\n",
              "       'Whole Grain Chocolate Chip Cookie', 'Carrot Cake Cookie Sandwich'],\n",
              "      dtype=object)"
            ]
          },
          "metadata": {},
          "execution_count": 113
        }
      ]
    },
    {
      "cell_type": "code",
      "source": [
        "_4packCookieOrders['Group'] = _4packCookieOrders.groupby('Order Date')['Menu Item'].transform(lambda x: ','.join(x))"
      ],
      "metadata": {
        "id": "Ggkk9C4sBb_J"
      },
      "id": "Ggkk9C4sBb_J",
      "execution_count": null,
      "outputs": []
    },
    {
      "cell_type": "code",
      "source": [
        "groupedData = _4packCookieOrders[['Order Date', 'Group']]\n",
        "groupedData = groupedData.drop_duplicates()"
      ],
      "metadata": {
        "id": "rzBjLZ7XBcHp"
      },
      "id": "rzBjLZ7XBcHp",
      "execution_count": null,
      "outputs": []
    },
    {
      "cell_type": "markdown",
      "source": [
        "Counting for the combinations which the items have in the dataframe and store them in a new dataframe\n"
      ],
      "metadata": {
        "id": "MGkEoyvXBq1v"
      },
      "id": "MGkEoyvXBq1v"
    },
    {
      "cell_type": "code",
      "source": [
        "count = Counter()\n",
        "for row in groupedData['Group']:\n",
        "    row_list = row.split(',')\n",
        "    count.update(Counter(combinations(row_list, 2)))\n",
        "\n",
        "combinationDf = pd.DataFrame.from_dict(count, orient='index').reset_index().rename(columns={'index':'Combinations', 0:'count'})\n",
        "combinationDf.sort_values(by = 'count', ascending = False, inplace = True)"
      ],
      "metadata": {
        "id": "WpdN_3h_zgC-"
      },
      "id": "WpdN_3h_zgC-",
      "execution_count": null,
      "outputs": []
    },
    {
      "cell_type": "markdown",
      "source": [
        "Now we find the probabilities of these items being sold together\n"
      ],
      "metadata": {
        "id": "wTHVSALOB2Z_"
      },
      "id": "wTHVSALOB2Z_"
    },
    {
      "cell_type": "code",
      "source": [
        "combinationDf.loc[:, 'item1'] = combinationDf.Combinations.str[0]\n",
        "combinationDf.loc[:, 'item2'] = combinationDf.Combinations.str[1]"
      ],
      "metadata": {
        "id": "mUDyh2fCzgL4"
      },
      "id": "mUDyh2fCzgL4",
      "execution_count": null,
      "outputs": []
    },
    {
      "cell_type": "markdown",
      "source": [
        "Calculating the individual sales of the items from the sales data\n"
      ],
      "metadata": {
        "id": "9LASIQy0CAze"
      },
      "id": "9LASIQy0CAze"
    },
    {
      "cell_type": "code",
      "source": [
        "combinationDf.loc[:, 'item1Sales'] = combinationDf['item1'].map(_4packCookieOrders\n",
        "                                                                .groupby('Menu Item').count()['Qty'].to_dict())\n",
        "combinationDf.loc[:, 'item2Sales'] = combinationDf['item2'].map(_4packCookieOrders\n",
        "                                                                .groupby('Menu Item').count()['Qty'].to_dict())"
      ],
      "metadata": {
        "id": "Q7oEnAzvBygX"
      },
      "id": "Q7oEnAzvBygX",
      "execution_count": null,
      "outputs": []
    },
    {
      "cell_type": "markdown",
      "source": [
        "Calculating the probability of the items being sold together by dividing the count of items sold together by the sum of individual number of sales of the sold items together          \n"
      ],
      "metadata": {
        "id": "Pw_7dSmGCICy"
      },
      "id": "Pw_7dSmGCICy"
    },
    {
      "cell_type": "code",
      "source": [
        "combinationDf.loc[:, 'Probability'] = combinationDf['count'] / (combinationDf['item1Sales'] + combinationDf['item2Sales'])\n"
      ],
      "metadata": {
        "id": "TPruA2vJByo2"
      },
      "id": "TPruA2vJByo2",
      "execution_count": null,
      "outputs": []
    },
    {
      "cell_type": "markdown",
      "source": [
        "Selecting the top 10 combinations of the items so that we can see the items which most commonly sold together along with their probabilities\n"
      ],
      "metadata": {
        "id": "AIEjnDykCOqn"
      },
      "id": "AIEjnDykCOqn"
    },
    {
      "cell_type": "code",
      "source": [
        "prob = combinationDf.head().reset_index(drop = True)"
      ],
      "metadata": {
        "id": "YW564uPEByxT"
      },
      "id": "YW564uPEByxT",
      "execution_count": null,
      "outputs": []
    },
    {
      "cell_type": "code",
      "source": [
        "prob"
      ],
      "metadata": {
        "colab": {
          "base_uri": "https://localhost:8080/",
          "height": 337
        },
        "id": "ZCM5TpUyBy5U",
        "outputId": "bc3093b1-e89a-41a1-c789-901e073d9390"
      },
      "id": "ZCM5TpUyBy5U",
      "execution_count": null,
      "outputs": [
        {
          "output_type": "execute_result",
          "data": {
            "text/plain": [
              "                                        Combinations  count  \\\n",
              "0  (Whole Grain White Chocolate Macadamia Nut Coo...     22   \n",
              "1  (Whole Grain Chocolate Chip Cookie, Whole Grai...     18   \n",
              "2  (Whole Grain White Chocolate Macadamia Nut Coo...     13   \n",
              "3  (Whole Grain Chocolate Chip Cookie, Whole Grai...      6   \n",
              "4  (Whole Grain White Chocolate Macadamia Nut Coo...      1   \n",
              "\n",
              "                                              item1  \\\n",
              "0  Whole Grain White Chocolate Macadamia Nut Cookie   \n",
              "1                 Whole Grain Chocolate Chip Cookie   \n",
              "2  Whole Grain White Chocolate Macadamia Nut Cookie   \n",
              "3                 Whole Grain Chocolate Chip Cookie   \n",
              "4  Whole Grain White Chocolate Macadamia Nut Cookie   \n",
              "\n",
              "                                              item2  item1Sales  item2Sales  \\\n",
              "0  Whole Grain White Chocolate Macadamia Nut Cookie         147         147   \n",
              "1  Whole Grain White Chocolate Macadamia Nut Cookie          29         147   \n",
              "2                 Whole Grain Chocolate Chip Cookie         147          29   \n",
              "3                 Whole Grain Chocolate Chip Cookie          29          29   \n",
              "4                       Carrot Cake Cookie Sandwich         147           1   \n",
              "\n",
              "   Probability  \n",
              "0     0.074830  \n",
              "1     0.102273  \n",
              "2     0.073864  \n",
              "3     0.103448  \n",
              "4     0.006757  "
            ],
            "text/html": [
              "\n",
              "  <div id=\"df-2807e84a-a3a6-4804-88b1-a4d4cc7b61d0\">\n",
              "    <div class=\"colab-df-container\">\n",
              "      <div>\n",
              "<style scoped>\n",
              "    .dataframe tbody tr th:only-of-type {\n",
              "        vertical-align: middle;\n",
              "    }\n",
              "\n",
              "    .dataframe tbody tr th {\n",
              "        vertical-align: top;\n",
              "    }\n",
              "\n",
              "    .dataframe thead th {\n",
              "        text-align: right;\n",
              "    }\n",
              "</style>\n",
              "<table border=\"1\" class=\"dataframe\">\n",
              "  <thead>\n",
              "    <tr style=\"text-align: right;\">\n",
              "      <th></th>\n",
              "      <th>Combinations</th>\n",
              "      <th>count</th>\n",
              "      <th>item1</th>\n",
              "      <th>item2</th>\n",
              "      <th>item1Sales</th>\n",
              "      <th>item2Sales</th>\n",
              "      <th>Probability</th>\n",
              "    </tr>\n",
              "  </thead>\n",
              "  <tbody>\n",
              "    <tr>\n",
              "      <th>0</th>\n",
              "      <td>(Whole Grain White Chocolate Macadamia Nut Coo...</td>\n",
              "      <td>22</td>\n",
              "      <td>Whole Grain White Chocolate Macadamia Nut Cookie</td>\n",
              "      <td>Whole Grain White Chocolate Macadamia Nut Cookie</td>\n",
              "      <td>147</td>\n",
              "      <td>147</td>\n",
              "      <td>0.074830</td>\n",
              "    </tr>\n",
              "    <tr>\n",
              "      <th>1</th>\n",
              "      <td>(Whole Grain Chocolate Chip Cookie, Whole Grai...</td>\n",
              "      <td>18</td>\n",
              "      <td>Whole Grain Chocolate Chip Cookie</td>\n",
              "      <td>Whole Grain White Chocolate Macadamia Nut Cookie</td>\n",
              "      <td>29</td>\n",
              "      <td>147</td>\n",
              "      <td>0.102273</td>\n",
              "    </tr>\n",
              "    <tr>\n",
              "      <th>2</th>\n",
              "      <td>(Whole Grain White Chocolate Macadamia Nut Coo...</td>\n",
              "      <td>13</td>\n",
              "      <td>Whole Grain White Chocolate Macadamia Nut Cookie</td>\n",
              "      <td>Whole Grain Chocolate Chip Cookie</td>\n",
              "      <td>147</td>\n",
              "      <td>29</td>\n",
              "      <td>0.073864</td>\n",
              "    </tr>\n",
              "    <tr>\n",
              "      <th>3</th>\n",
              "      <td>(Whole Grain Chocolate Chip Cookie, Whole Grai...</td>\n",
              "      <td>6</td>\n",
              "      <td>Whole Grain Chocolate Chip Cookie</td>\n",
              "      <td>Whole Grain Chocolate Chip Cookie</td>\n",
              "      <td>29</td>\n",
              "      <td>29</td>\n",
              "      <td>0.103448</td>\n",
              "    </tr>\n",
              "    <tr>\n",
              "      <th>4</th>\n",
              "      <td>(Whole Grain White Chocolate Macadamia Nut Coo...</td>\n",
              "      <td>1</td>\n",
              "      <td>Whole Grain White Chocolate Macadamia Nut Cookie</td>\n",
              "      <td>Carrot Cake Cookie Sandwich</td>\n",
              "      <td>147</td>\n",
              "      <td>1</td>\n",
              "      <td>0.006757</td>\n",
              "    </tr>\n",
              "  </tbody>\n",
              "</table>\n",
              "</div>\n",
              "      <button class=\"colab-df-convert\" onclick=\"convertToInteractive('df-2807e84a-a3a6-4804-88b1-a4d4cc7b61d0')\"\n",
              "              title=\"Convert this dataframe to an interactive table.\"\n",
              "              style=\"display:none;\">\n",
              "        \n",
              "  <svg xmlns=\"http://www.w3.org/2000/svg\" height=\"24px\"viewBox=\"0 0 24 24\"\n",
              "       width=\"24px\">\n",
              "    <path d=\"M0 0h24v24H0V0z\" fill=\"none\"/>\n",
              "    <path d=\"M18.56 5.44l.94 2.06.94-2.06 2.06-.94-2.06-.94-.94-2.06-.94 2.06-2.06.94zm-11 1L8.5 8.5l.94-2.06 2.06-.94-2.06-.94L8.5 2.5l-.94 2.06-2.06.94zm10 10l.94 2.06.94-2.06 2.06-.94-2.06-.94-.94-2.06-.94 2.06-2.06.94z\"/><path d=\"M17.41 7.96l-1.37-1.37c-.4-.4-.92-.59-1.43-.59-.52 0-1.04.2-1.43.59L10.3 9.45l-7.72 7.72c-.78.78-.78 2.05 0 2.83L4 21.41c.39.39.9.59 1.41.59.51 0 1.02-.2 1.41-.59l7.78-7.78 2.81-2.81c.8-.78.8-2.07 0-2.86zM5.41 20L4 18.59l7.72-7.72 1.47 1.35L5.41 20z\"/>\n",
              "  </svg>\n",
              "      </button>\n",
              "      \n",
              "  <style>\n",
              "    .colab-df-container {\n",
              "      display:flex;\n",
              "      flex-wrap:wrap;\n",
              "      gap: 12px;\n",
              "    }\n",
              "\n",
              "    .colab-df-convert {\n",
              "      background-color: #E8F0FE;\n",
              "      border: none;\n",
              "      border-radius: 50%;\n",
              "      cursor: pointer;\n",
              "      display: none;\n",
              "      fill: #1967D2;\n",
              "      height: 32px;\n",
              "      padding: 0 0 0 0;\n",
              "      width: 32px;\n",
              "    }\n",
              "\n",
              "    .colab-df-convert:hover {\n",
              "      background-color: #E2EBFA;\n",
              "      box-shadow: 0px 1px 2px rgba(60, 64, 67, 0.3), 0px 1px 3px 1px rgba(60, 64, 67, 0.15);\n",
              "      fill: #174EA6;\n",
              "    }\n",
              "\n",
              "    [theme=dark] .colab-df-convert {\n",
              "      background-color: #3B4455;\n",
              "      fill: #D2E3FC;\n",
              "    }\n",
              "\n",
              "    [theme=dark] .colab-df-convert:hover {\n",
              "      background-color: #434B5C;\n",
              "      box-shadow: 0px 1px 3px 1px rgba(0, 0, 0, 0.15);\n",
              "      filter: drop-shadow(0px 1px 2px rgba(0, 0, 0, 0.3));\n",
              "      fill: #FFFFFF;\n",
              "    }\n",
              "  </style>\n",
              "\n",
              "      <script>\n",
              "        const buttonEl =\n",
              "          document.querySelector('#df-2807e84a-a3a6-4804-88b1-a4d4cc7b61d0 button.colab-df-convert');\n",
              "        buttonEl.style.display =\n",
              "          google.colab.kernel.accessAllowed ? 'block' : 'none';\n",
              "\n",
              "        async function convertToInteractive(key) {\n",
              "          const element = document.querySelector('#df-2807e84a-a3a6-4804-88b1-a4d4cc7b61d0');\n",
              "          const dataTable =\n",
              "            await google.colab.kernel.invokeFunction('convertToInteractive',\n",
              "                                                     [key], {});\n",
              "          if (!dataTable) return;\n",
              "\n",
              "          const docLinkHtml = 'Like what you see? Visit the ' +\n",
              "            '<a target=\"_blank\" href=https://colab.research.google.com/notebooks/data_table.ipynb>data table notebook</a>'\n",
              "            + ' to learn more about interactive tables.';\n",
              "          element.innerHTML = '';\n",
              "          dataTable['output_type'] = 'display_data';\n",
              "          await google.colab.output.renderOutput(dataTable, element);\n",
              "          const docLink = document.createElement('div');\n",
              "          docLink.innerHTML = docLinkHtml;\n",
              "          element.appendChild(docLink);\n",
              "        }\n",
              "      </script>\n",
              "    </div>\n",
              "  </div>\n",
              "  "
            ]
          },
          "metadata": {},
          "execution_count": 121
        }
      ]
    },
    {
      "cell_type": "markdown",
      "source": [
        "### New Menu Whole Grain White Chocolate Probability with other Cookies"
      ],
      "metadata": {
        "id": "-GPbguwkDBYG"
      },
      "id": "-GPbguwkDBYG"
    },
    {
      "cell_type": "code",
      "source": [
        "wholeGrainWhite = newSnacks[newSnacks['Menu Item'].str.contains('Whole Grain White Chocolate Macadamia Nut Cookie')]"
      ],
      "metadata": {
        "id": "hHfRpV99zgWq"
      },
      "id": "hHfRpV99zgWq",
      "execution_count": null,
      "outputs": []
    },
    {
      "cell_type": "code",
      "source": [
        "_4packCookieTrxns = wholeGrainWhite['Order Id'].unique()"
      ],
      "metadata": {
        "id": "R-I6Pcvb4twd"
      },
      "id": "R-I6Pcvb4twd",
      "execution_count": null,
      "outputs": []
    },
    {
      "cell_type": "code",
      "source": [
        "_4packCookieOrders = newMenu[newMenu['Order Id'].isin(_4packCookieTrxns)]"
      ],
      "metadata": {
        "id": "DitX3Oi-4t5k"
      },
      "id": "DitX3Oi-4t5k",
      "execution_count": null,
      "outputs": []
    },
    {
      "cell_type": "code",
      "source": [
        "_4packCookieOrders = _4packCookieOrders[_4packCookieOrders['Menu Item'].str.contains('Cookie')]\n"
      ],
      "metadata": {
        "id": "mIkV1SjBBwdD"
      },
      "id": "mIkV1SjBBwdD",
      "execution_count": null,
      "outputs": []
    },
    {
      "cell_type": "code",
      "source": [
        "_4packCookieOrders['Group'] = _4packCookieOrders.groupby('Order Date')['Menu Item'].transform(lambda x: ','.join(x))"
      ],
      "metadata": {
        "id": "BHRDImwfDP6O"
      },
      "id": "BHRDImwfDP6O",
      "execution_count": null,
      "outputs": []
    },
    {
      "cell_type": "code",
      "source": [
        "groupedData = _4packCookieOrders[['Order Date', 'Group']]\n",
        "groupedData = groupedData.drop_duplicates()"
      ],
      "metadata": {
        "id": "G54SWLxcDQE3"
      },
      "id": "G54SWLxcDQE3",
      "execution_count": null,
      "outputs": []
    },
    {
      "cell_type": "markdown",
      "source": [
        "Counting for the combinations which the items have in the dataframe and store them in a new dataframe"
      ],
      "metadata": {
        "id": "4R5BlzSFDegz"
      },
      "id": "4R5BlzSFDegz"
    },
    {
      "cell_type": "code",
      "source": [
        "count = Counter()\n",
        "for row in groupedData['Group']:\n",
        "    row_list = row.split(',')\n",
        "    count.update(Counter(combinations(row_list, 2)))\n",
        "\n",
        "combinationDf = pd.DataFrame.from_dict(count, orient='index').reset_index().rename(columns={'index':'Combinations', 0:'count'})\n",
        "combinationDf.sort_values(by = 'count', ascending = False, inplace = True)"
      ],
      "metadata": {
        "id": "wDrI51Aw4uBM"
      },
      "id": "wDrI51Aw4uBM",
      "execution_count": null,
      "outputs": []
    },
    {
      "cell_type": "markdown",
      "source": [
        "Now we find the probabilities of these items being sold together\n"
      ],
      "metadata": {
        "id": "OaRPDKvzDmlj"
      },
      "id": "OaRPDKvzDmlj"
    },
    {
      "cell_type": "code",
      "source": [
        "combinationDf.loc[:, 'item1'] = combinationDf.Combinations.str[0]\n",
        "combinationDf.loc[:, 'item2'] = combinationDf.Combinations.str[1]"
      ],
      "metadata": {
        "id": "5lXZkKct4uIE"
      },
      "id": "5lXZkKct4uIE",
      "execution_count": null,
      "outputs": []
    },
    {
      "cell_type": "markdown",
      "source": [
        "Calculating the individual sales of the items from the sales data\n"
      ],
      "metadata": {
        "id": "9xZFukr4DsGK"
      },
      "id": "9xZFukr4DsGK"
    },
    {
      "cell_type": "code",
      "source": [
        "combinationDf.loc[:, 'item1Sales'] = combinationDf['item1'].map(_4packCookieOrders\n",
        "                                                                .groupby('Menu Item').count()['Qty'].to_dict())\n",
        "combinationDf.loc[:, 'item2Sales'] = combinationDf['item2'].map(_4packCookieOrders\n",
        "                                                                .groupby('Menu Item').count()['Qty'].to_dict())"
      ],
      "metadata": {
        "id": "DeHjXfmw4uPj"
      },
      "id": "DeHjXfmw4uPj",
      "execution_count": null,
      "outputs": []
    },
    {
      "cell_type": "markdown",
      "source": [
        "Calculating the probability of the items being sold together by dividing the count of items sold together by the sum of individual number of sales of the sold items together                       \n"
      ],
      "metadata": {
        "id": "Nr4nGmNmDzla"
      },
      "id": "Nr4nGmNmDzla"
    },
    {
      "cell_type": "code",
      "source": [
        "combinationDf.loc[:, 'Probability'] = combinationDf['count'] / (combinationDf['item1Sales'] + combinationDf['item2Sales'])\n"
      ],
      "metadata": {
        "id": "uHuTZe1l4uWN"
      },
      "id": "uHuTZe1l4uWN",
      "execution_count": null,
      "outputs": []
    },
    {
      "cell_type": "markdown",
      "source": [
        "Selecting the top 10 combinations of the items so that we can see the items which most commonly sold together along with their probabilities\n"
      ],
      "metadata": {
        "id": "83bjuNs0D6Dm"
      },
      "id": "83bjuNs0D6Dm"
    },
    {
      "cell_type": "code",
      "source": [
        "prob = combinationDf.head(5).reset_index(drop = True)"
      ],
      "metadata": {
        "id": "57VYlu1p4ueO"
      },
      "id": "57VYlu1p4ueO",
      "execution_count": null,
      "outputs": []
    },
    {
      "cell_type": "code",
      "source": [
        "prob"
      ],
      "metadata": {
        "colab": {
          "base_uri": "https://localhost:8080/",
          "height": 288
        },
        "id": "Bam1UhKc4umS",
        "outputId": "728afbe3-f3c3-49a0-b02d-b88a7cd42915"
      },
      "id": "Bam1UhKc4umS",
      "execution_count": null,
      "outputs": [
        {
          "output_type": "execute_result",
          "data": {
            "text/plain": [
              "                                        Combinations  count  \\\n",
              "0  (Whole Grain White Chocolate Macadamia Nut Coo...     33   \n",
              "1  (Whole Grain Chocolate Chip Cookie, Whole Grai...     16   \n",
              "2  (Whole Grain White Chocolate Macadamia Nut Coo...     12   \n",
              "3  (Whole Grain Chocolate Chip Cookie, Whole Grai...      3   \n",
              "\n",
              "                                              item1  \\\n",
              "0  Whole Grain White Chocolate Macadamia Nut Cookie   \n",
              "1                 Whole Grain Chocolate Chip Cookie   \n",
              "2  Whole Grain White Chocolate Macadamia Nut Cookie   \n",
              "3                 Whole Grain Chocolate Chip Cookie   \n",
              "\n",
              "                                              item2  item1Sales  item2Sales  \\\n",
              "0  Whole Grain White Chocolate Macadamia Nut Cookie         211         211   \n",
              "1  Whole Grain White Chocolate Macadamia Nut Cookie          25         211   \n",
              "2                 Whole Grain Chocolate Chip Cookie         211          25   \n",
              "3                 Whole Grain Chocolate Chip Cookie          25          25   \n",
              "\n",
              "   Probability  \n",
              "0     0.078199  \n",
              "1     0.067797  \n",
              "2     0.050847  \n",
              "3     0.060000  "
            ],
            "text/html": [
              "\n",
              "  <div id=\"df-f490f482-b690-4c08-a3aa-b4696d889f4a\">\n",
              "    <div class=\"colab-df-container\">\n",
              "      <div>\n",
              "<style scoped>\n",
              "    .dataframe tbody tr th:only-of-type {\n",
              "        vertical-align: middle;\n",
              "    }\n",
              "\n",
              "    .dataframe tbody tr th {\n",
              "        vertical-align: top;\n",
              "    }\n",
              "\n",
              "    .dataframe thead th {\n",
              "        text-align: right;\n",
              "    }\n",
              "</style>\n",
              "<table border=\"1\" class=\"dataframe\">\n",
              "  <thead>\n",
              "    <tr style=\"text-align: right;\">\n",
              "      <th></th>\n",
              "      <th>Combinations</th>\n",
              "      <th>count</th>\n",
              "      <th>item1</th>\n",
              "      <th>item2</th>\n",
              "      <th>item1Sales</th>\n",
              "      <th>item2Sales</th>\n",
              "      <th>Probability</th>\n",
              "    </tr>\n",
              "  </thead>\n",
              "  <tbody>\n",
              "    <tr>\n",
              "      <th>0</th>\n",
              "      <td>(Whole Grain White Chocolate Macadamia Nut Coo...</td>\n",
              "      <td>33</td>\n",
              "      <td>Whole Grain White Chocolate Macadamia Nut Cookie</td>\n",
              "      <td>Whole Grain White Chocolate Macadamia Nut Cookie</td>\n",
              "      <td>211</td>\n",
              "      <td>211</td>\n",
              "      <td>0.078199</td>\n",
              "    </tr>\n",
              "    <tr>\n",
              "      <th>1</th>\n",
              "      <td>(Whole Grain Chocolate Chip Cookie, Whole Grai...</td>\n",
              "      <td>16</td>\n",
              "      <td>Whole Grain Chocolate Chip Cookie</td>\n",
              "      <td>Whole Grain White Chocolate Macadamia Nut Cookie</td>\n",
              "      <td>25</td>\n",
              "      <td>211</td>\n",
              "      <td>0.067797</td>\n",
              "    </tr>\n",
              "    <tr>\n",
              "      <th>2</th>\n",
              "      <td>(Whole Grain White Chocolate Macadamia Nut Coo...</td>\n",
              "      <td>12</td>\n",
              "      <td>Whole Grain White Chocolate Macadamia Nut Cookie</td>\n",
              "      <td>Whole Grain Chocolate Chip Cookie</td>\n",
              "      <td>211</td>\n",
              "      <td>25</td>\n",
              "      <td>0.050847</td>\n",
              "    </tr>\n",
              "    <tr>\n",
              "      <th>3</th>\n",
              "      <td>(Whole Grain Chocolate Chip Cookie, Whole Grai...</td>\n",
              "      <td>3</td>\n",
              "      <td>Whole Grain Chocolate Chip Cookie</td>\n",
              "      <td>Whole Grain Chocolate Chip Cookie</td>\n",
              "      <td>25</td>\n",
              "      <td>25</td>\n",
              "      <td>0.060000</td>\n",
              "    </tr>\n",
              "  </tbody>\n",
              "</table>\n",
              "</div>\n",
              "      <button class=\"colab-df-convert\" onclick=\"convertToInteractive('df-f490f482-b690-4c08-a3aa-b4696d889f4a')\"\n",
              "              title=\"Convert this dataframe to an interactive table.\"\n",
              "              style=\"display:none;\">\n",
              "        \n",
              "  <svg xmlns=\"http://www.w3.org/2000/svg\" height=\"24px\"viewBox=\"0 0 24 24\"\n",
              "       width=\"24px\">\n",
              "    <path d=\"M0 0h24v24H0V0z\" fill=\"none\"/>\n",
              "    <path d=\"M18.56 5.44l.94 2.06.94-2.06 2.06-.94-2.06-.94-.94-2.06-.94 2.06-2.06.94zm-11 1L8.5 8.5l.94-2.06 2.06-.94-2.06-.94L8.5 2.5l-.94 2.06-2.06.94zm10 10l.94 2.06.94-2.06 2.06-.94-2.06-.94-.94-2.06-.94 2.06-2.06.94z\"/><path d=\"M17.41 7.96l-1.37-1.37c-.4-.4-.92-.59-1.43-.59-.52 0-1.04.2-1.43.59L10.3 9.45l-7.72 7.72c-.78.78-.78 2.05 0 2.83L4 21.41c.39.39.9.59 1.41.59.51 0 1.02-.2 1.41-.59l7.78-7.78 2.81-2.81c.8-.78.8-2.07 0-2.86zM5.41 20L4 18.59l7.72-7.72 1.47 1.35L5.41 20z\"/>\n",
              "  </svg>\n",
              "      </button>\n",
              "      \n",
              "  <style>\n",
              "    .colab-df-container {\n",
              "      display:flex;\n",
              "      flex-wrap:wrap;\n",
              "      gap: 12px;\n",
              "    }\n",
              "\n",
              "    .colab-df-convert {\n",
              "      background-color: #E8F0FE;\n",
              "      border: none;\n",
              "      border-radius: 50%;\n",
              "      cursor: pointer;\n",
              "      display: none;\n",
              "      fill: #1967D2;\n",
              "      height: 32px;\n",
              "      padding: 0 0 0 0;\n",
              "      width: 32px;\n",
              "    }\n",
              "\n",
              "    .colab-df-convert:hover {\n",
              "      background-color: #E2EBFA;\n",
              "      box-shadow: 0px 1px 2px rgba(60, 64, 67, 0.3), 0px 1px 3px 1px rgba(60, 64, 67, 0.15);\n",
              "      fill: #174EA6;\n",
              "    }\n",
              "\n",
              "    [theme=dark] .colab-df-convert {\n",
              "      background-color: #3B4455;\n",
              "      fill: #D2E3FC;\n",
              "    }\n",
              "\n",
              "    [theme=dark] .colab-df-convert:hover {\n",
              "      background-color: #434B5C;\n",
              "      box-shadow: 0px 1px 3px 1px rgba(0, 0, 0, 0.15);\n",
              "      filter: drop-shadow(0px 1px 2px rgba(0, 0, 0, 0.3));\n",
              "      fill: #FFFFFF;\n",
              "    }\n",
              "  </style>\n",
              "\n",
              "      <script>\n",
              "        const buttonEl =\n",
              "          document.querySelector('#df-f490f482-b690-4c08-a3aa-b4696d889f4a button.colab-df-convert');\n",
              "        buttonEl.style.display =\n",
              "          google.colab.kernel.accessAllowed ? 'block' : 'none';\n",
              "\n",
              "        async function convertToInteractive(key) {\n",
              "          const element = document.querySelector('#df-f490f482-b690-4c08-a3aa-b4696d889f4a');\n",
              "          const dataTable =\n",
              "            await google.colab.kernel.invokeFunction('convertToInteractive',\n",
              "                                                     [key], {});\n",
              "          if (!dataTable) return;\n",
              "\n",
              "          const docLinkHtml = 'Like what you see? Visit the ' +\n",
              "            '<a target=\"_blank\" href=https://colab.research.google.com/notebooks/data_table.ipynb>data table notebook</a>'\n",
              "            + ' to learn more about interactive tables.';\n",
              "          element.innerHTML = '';\n",
              "          dataTable['output_type'] = 'display_data';\n",
              "          await google.colab.output.renderOutput(dataTable, element);\n",
              "          const docLink = document.createElement('div');\n",
              "          docLink.innerHTML = docLinkHtml;\n",
              "          element.appendChild(docLink);\n",
              "        }\n",
              "      </script>\n",
              "    </div>\n",
              "  </div>\n",
              "  "
            ]
          },
          "metadata": {},
          "execution_count": 133
        }
      ]
    },
    {
      "cell_type": "markdown",
      "source": [
        "### Previous Menu Overall Cookies Probability "
      ],
      "metadata": {
        "id": "d3pXSfJZDNdA"
      },
      "id": "d3pXSfJZDNdA"
    },
    {
      "cell_type": "code",
      "source": [
        "allCookies = prevSnacks[prevSnacks['Menu Item'].str.contains('Cookie')]\n"
      ],
      "metadata": {
        "id": "dM5k9FerDbRN"
      },
      "id": "dM5k9FerDbRN",
      "execution_count": null,
      "outputs": []
    },
    {
      "cell_type": "code",
      "source": [
        "_4packCookieTrxns = allCookies['Order Id'].unique()"
      ],
      "metadata": {
        "id": "hdPRyu2GD1uH"
      },
      "id": "hdPRyu2GD1uH",
      "execution_count": null,
      "outputs": []
    },
    {
      "cell_type": "code",
      "source": [
        "\n",
        "_4packCookieOrders = previousMenu[previousMenu['Order Id'].isin(_4packCookieTrxns)]"
      ],
      "metadata": {
        "id": "PO1TKuWTF62M"
      },
      "id": "PO1TKuWTF62M",
      "execution_count": null,
      "outputs": []
    },
    {
      "cell_type": "code",
      "source": [
        "\n",
        "_4packCookieOrders = _4packCookieOrders[_4packCookieOrders['Menu Item'].str.contains('Cookie')]"
      ],
      "metadata": {
        "id": "ljInhURSF8iY"
      },
      "id": "ljInhURSF8iY",
      "execution_count": null,
      "outputs": []
    },
    {
      "cell_type": "code",
      "source": [
        "\n",
        "_4packCookieOrders['Group'] = _4packCookieOrders.groupby('Order Date')['Menu Item'].transform(lambda x: ','.join(x))"
      ],
      "metadata": {
        "id": "u2Il9d_JF-ja"
      },
      "id": "u2Il9d_JF-ja",
      "execution_count": null,
      "outputs": []
    },
    {
      "cell_type": "code",
      "source": [
        "\n",
        "groupedData = _4packCookieOrders[['Order Date', 'Group']]\n",
        "groupedData = groupedData.drop_duplicates()"
      ],
      "metadata": {
        "id": "0iEwrBApGBmn"
      },
      "id": "0iEwrBApGBmn",
      "execution_count": null,
      "outputs": []
    },
    {
      "cell_type": "markdown",
      "source": [
        "Counting for the combinations which the items have in the dataframe and store them in a new dataframe"
      ],
      "metadata": {
        "id": "LZfXuUt1FFBA"
      },
      "id": "LZfXuUt1FFBA"
    },
    {
      "cell_type": "code",
      "source": [
        "count = Counter()\n",
        "for row in groupedData['Group']:\n",
        "    row_list = row.split(',')\n",
        "    count.update(Counter(combinations(row_list, 2)))\n",
        "\n"
      ],
      "metadata": {
        "id": "6epTpxrlE-oG"
      },
      "id": "6epTpxrlE-oG",
      "execution_count": null,
      "outputs": []
    },
    {
      "cell_type": "code",
      "source": [
        "\n",
        "combinationDf = pd.DataFrame.from_dict(count, orient='index').reset_index().rename(columns={'index':'Combinations', 0:'count'})\n",
        "combinationDf.sort_values(by = 'count', ascending = False, inplace = True)\n",
        "\n"
      ],
      "metadata": {
        "id": "6E3y_lmOGH8x"
      },
      "id": "6E3y_lmOGH8x",
      "execution_count": null,
      "outputs": []
    },
    {
      "cell_type": "markdown",
      "source": [
        "Now we find the probabilities of these items being sold together\n"
      ],
      "metadata": {
        "id": "KDPWbqeGGOTp"
      },
      "id": "KDPWbqeGGOTp"
    },
    {
      "cell_type": "code",
      "source": [
        "combinationDf.loc[:, 'item1'] = combinationDf.Combinations.str[0]\n",
        "combinationDf.loc[:, 'item2'] = combinationDf.Combinations.str[1]\n"
      ],
      "metadata": {
        "id": "wT9zSZjoGMif"
      },
      "id": "wT9zSZjoGMif",
      "execution_count": null,
      "outputs": []
    },
    {
      "cell_type": "markdown",
      "source": [
        "Calculating the individual sales of the items from the sales data\n"
      ],
      "metadata": {
        "id": "ezQTYbJ9GWWi"
      },
      "id": "ezQTYbJ9GWWi"
    },
    {
      "cell_type": "code",
      "source": [
        "combinationDf.loc[:, 'item1Sales'] = combinationDf['item1'].map(_4packCookieOrders\n",
        "                                                                .groupby('Menu Item').count()['Qty'].to_dict())\n",
        "combinationDf.loc[:, 'item2Sales'] = combinationDf['item2'].map(_4packCookieOrders\n",
        "                                                                .groupby('Menu Item').count()['Qty'].to_dict())"
      ],
      "metadata": {
        "id": "XYq7cJL4GUvU"
      },
      "id": "XYq7cJL4GUvU",
      "execution_count": null,
      "outputs": []
    },
    {
      "cell_type": "markdown",
      "source": [
        " Calculating the probability of the items being sold together by dividing the count of items sold together by the sum of individual number of sales of the sold items together\n"
      ],
      "metadata": {
        "id": "bKQTq18TGep2"
      },
      "id": "bKQTq18TGep2"
    },
    {
      "cell_type": "code",
      "source": [
        "combinationDf.loc[:, 'Probability'] = combinationDf['count'] / (combinationDf['item1Sales'] + combinationDf['item2Sales'])"
      ],
      "metadata": {
        "id": "piEN7mzxGaYP"
      },
      "id": "piEN7mzxGaYP",
      "execution_count": null,
      "outputs": []
    },
    {
      "cell_type": "markdown",
      "source": [
        "Selecting the top 10 combinations of the items so that we can see the items which most commonly sold together along with their probabilities\n"
      ],
      "metadata": {
        "id": "VQssQWUOGlAc"
      },
      "id": "VQssQWUOGlAc"
    },
    {
      "cell_type": "code",
      "source": [
        "prob = combinationDf.head(5).reset_index(drop = True)"
      ],
      "metadata": {
        "id": "OhwD46liGiUk"
      },
      "id": "OhwD46liGiUk",
      "execution_count": null,
      "outputs": []
    },
    {
      "cell_type": "code",
      "source": [
        "prob"
      ],
      "metadata": {
        "colab": {
          "base_uri": "https://localhost:8080/",
          "height": 337
        },
        "id": "aucNUxPpIKVu",
        "outputId": "8fa89835-9674-4e28-9924-447cec425c94"
      },
      "id": "aucNUxPpIKVu",
      "execution_count": null,
      "outputs": [
        {
          "output_type": "execute_result",
          "data": {
            "text/plain": [
              "                                        Combinations  count  \\\n",
              "0  (Whole Grain Chocolate Chip Cookie, Whole Grai...    461   \n",
              "1  (Whole Grain Chocolate Chip Cookie, Whole Grai...     22   \n",
              "2  (Whole Grain White Chocolate Macadamia Nut Coo...     22   \n",
              "3  (Whole Grain White Chocolate Macadamia Nut Coo...     13   \n",
              "4  (Whole Grain Chocolate Chip Cookie, 4 Pack Coo...      8   \n",
              "\n",
              "                                              item1  \\\n",
              "0                 Whole Grain Chocolate Chip Cookie   \n",
              "1                 Whole Grain Chocolate Chip Cookie   \n",
              "2  Whole Grain White Chocolate Macadamia Nut Cookie   \n",
              "3  Whole Grain White Chocolate Macadamia Nut Cookie   \n",
              "4                 Whole Grain Chocolate Chip Cookie   \n",
              "\n",
              "                                              item2  item1Sales  item2Sales  \\\n",
              "0                 Whole Grain Chocolate Chip Cookie        1478        1478   \n",
              "1  Whole Grain White Chocolate Macadamia Nut Cookie        1478         147   \n",
              "2  Whole Grain White Chocolate Macadamia Nut Cookie         147         147   \n",
              "3                 Whole Grain Chocolate Chip Cookie         147        1478   \n",
              "4                                4 Pack Cookie Pack        1478          60   \n",
              "\n",
              "   Probability  \n",
              "0     0.155954  \n",
              "1     0.013538  \n",
              "2     0.074830  \n",
              "3     0.008000  \n",
              "4     0.005202  "
            ],
            "text/html": [
              "\n",
              "  <div id=\"df-f8ecac37-f452-4ffd-87f7-c3bb9a94d832\">\n",
              "    <div class=\"colab-df-container\">\n",
              "      <div>\n",
              "<style scoped>\n",
              "    .dataframe tbody tr th:only-of-type {\n",
              "        vertical-align: middle;\n",
              "    }\n",
              "\n",
              "    .dataframe tbody tr th {\n",
              "        vertical-align: top;\n",
              "    }\n",
              "\n",
              "    .dataframe thead th {\n",
              "        text-align: right;\n",
              "    }\n",
              "</style>\n",
              "<table border=\"1\" class=\"dataframe\">\n",
              "  <thead>\n",
              "    <tr style=\"text-align: right;\">\n",
              "      <th></th>\n",
              "      <th>Combinations</th>\n",
              "      <th>count</th>\n",
              "      <th>item1</th>\n",
              "      <th>item2</th>\n",
              "      <th>item1Sales</th>\n",
              "      <th>item2Sales</th>\n",
              "      <th>Probability</th>\n",
              "    </tr>\n",
              "  </thead>\n",
              "  <tbody>\n",
              "    <tr>\n",
              "      <th>0</th>\n",
              "      <td>(Whole Grain Chocolate Chip Cookie, Whole Grai...</td>\n",
              "      <td>461</td>\n",
              "      <td>Whole Grain Chocolate Chip Cookie</td>\n",
              "      <td>Whole Grain Chocolate Chip Cookie</td>\n",
              "      <td>1478</td>\n",
              "      <td>1478</td>\n",
              "      <td>0.155954</td>\n",
              "    </tr>\n",
              "    <tr>\n",
              "      <th>1</th>\n",
              "      <td>(Whole Grain Chocolate Chip Cookie, Whole Grai...</td>\n",
              "      <td>22</td>\n",
              "      <td>Whole Grain Chocolate Chip Cookie</td>\n",
              "      <td>Whole Grain White Chocolate Macadamia Nut Cookie</td>\n",
              "      <td>1478</td>\n",
              "      <td>147</td>\n",
              "      <td>0.013538</td>\n",
              "    </tr>\n",
              "    <tr>\n",
              "      <th>2</th>\n",
              "      <td>(Whole Grain White Chocolate Macadamia Nut Coo...</td>\n",
              "      <td>22</td>\n",
              "      <td>Whole Grain White Chocolate Macadamia Nut Cookie</td>\n",
              "      <td>Whole Grain White Chocolate Macadamia Nut Cookie</td>\n",
              "      <td>147</td>\n",
              "      <td>147</td>\n",
              "      <td>0.074830</td>\n",
              "    </tr>\n",
              "    <tr>\n",
              "      <th>3</th>\n",
              "      <td>(Whole Grain White Chocolate Macadamia Nut Coo...</td>\n",
              "      <td>13</td>\n",
              "      <td>Whole Grain White Chocolate Macadamia Nut Cookie</td>\n",
              "      <td>Whole Grain Chocolate Chip Cookie</td>\n",
              "      <td>147</td>\n",
              "      <td>1478</td>\n",
              "      <td>0.008000</td>\n",
              "    </tr>\n",
              "    <tr>\n",
              "      <th>4</th>\n",
              "      <td>(Whole Grain Chocolate Chip Cookie, 4 Pack Coo...</td>\n",
              "      <td>8</td>\n",
              "      <td>Whole Grain Chocolate Chip Cookie</td>\n",
              "      <td>4 Pack Cookie Pack</td>\n",
              "      <td>1478</td>\n",
              "      <td>60</td>\n",
              "      <td>0.005202</td>\n",
              "    </tr>\n",
              "  </tbody>\n",
              "</table>\n",
              "</div>\n",
              "      <button class=\"colab-df-convert\" onclick=\"convertToInteractive('df-f8ecac37-f452-4ffd-87f7-c3bb9a94d832')\"\n",
              "              title=\"Convert this dataframe to an interactive table.\"\n",
              "              style=\"display:none;\">\n",
              "        \n",
              "  <svg xmlns=\"http://www.w3.org/2000/svg\" height=\"24px\"viewBox=\"0 0 24 24\"\n",
              "       width=\"24px\">\n",
              "    <path d=\"M0 0h24v24H0V0z\" fill=\"none\"/>\n",
              "    <path d=\"M18.56 5.44l.94 2.06.94-2.06 2.06-.94-2.06-.94-.94-2.06-.94 2.06-2.06.94zm-11 1L8.5 8.5l.94-2.06 2.06-.94-2.06-.94L8.5 2.5l-.94 2.06-2.06.94zm10 10l.94 2.06.94-2.06 2.06-.94-2.06-.94-.94-2.06-.94 2.06-2.06.94z\"/><path d=\"M17.41 7.96l-1.37-1.37c-.4-.4-.92-.59-1.43-.59-.52 0-1.04.2-1.43.59L10.3 9.45l-7.72 7.72c-.78.78-.78 2.05 0 2.83L4 21.41c.39.39.9.59 1.41.59.51 0 1.02-.2 1.41-.59l7.78-7.78 2.81-2.81c.8-.78.8-2.07 0-2.86zM5.41 20L4 18.59l7.72-7.72 1.47 1.35L5.41 20z\"/>\n",
              "  </svg>\n",
              "      </button>\n",
              "      \n",
              "  <style>\n",
              "    .colab-df-container {\n",
              "      display:flex;\n",
              "      flex-wrap:wrap;\n",
              "      gap: 12px;\n",
              "    }\n",
              "\n",
              "    .colab-df-convert {\n",
              "      background-color: #E8F0FE;\n",
              "      border: none;\n",
              "      border-radius: 50%;\n",
              "      cursor: pointer;\n",
              "      display: none;\n",
              "      fill: #1967D2;\n",
              "      height: 32px;\n",
              "      padding: 0 0 0 0;\n",
              "      width: 32px;\n",
              "    }\n",
              "\n",
              "    .colab-df-convert:hover {\n",
              "      background-color: #E2EBFA;\n",
              "      box-shadow: 0px 1px 2px rgba(60, 64, 67, 0.3), 0px 1px 3px 1px rgba(60, 64, 67, 0.15);\n",
              "      fill: #174EA6;\n",
              "    }\n",
              "\n",
              "    [theme=dark] .colab-df-convert {\n",
              "      background-color: #3B4455;\n",
              "      fill: #D2E3FC;\n",
              "    }\n",
              "\n",
              "    [theme=dark] .colab-df-convert:hover {\n",
              "      background-color: #434B5C;\n",
              "      box-shadow: 0px 1px 3px 1px rgba(0, 0, 0, 0.15);\n",
              "      filter: drop-shadow(0px 1px 2px rgba(0, 0, 0, 0.3));\n",
              "      fill: #FFFFFF;\n",
              "    }\n",
              "  </style>\n",
              "\n",
              "      <script>\n",
              "        const buttonEl =\n",
              "          document.querySelector('#df-f8ecac37-f452-4ffd-87f7-c3bb9a94d832 button.colab-df-convert');\n",
              "        buttonEl.style.display =\n",
              "          google.colab.kernel.accessAllowed ? 'block' : 'none';\n",
              "\n",
              "        async function convertToInteractive(key) {\n",
              "          const element = document.querySelector('#df-f8ecac37-f452-4ffd-87f7-c3bb9a94d832');\n",
              "          const dataTable =\n",
              "            await google.colab.kernel.invokeFunction('convertToInteractive',\n",
              "                                                     [key], {});\n",
              "          if (!dataTable) return;\n",
              "\n",
              "          const docLinkHtml = 'Like what you see? Visit the ' +\n",
              "            '<a target=\"_blank\" href=https://colab.research.google.com/notebooks/data_table.ipynb>data table notebook</a>'\n",
              "            + ' to learn more about interactive tables.';\n",
              "          element.innerHTML = '';\n",
              "          dataTable['output_type'] = 'display_data';\n",
              "          await google.colab.output.renderOutput(dataTable, element);\n",
              "          const docLink = document.createElement('div');\n",
              "          docLink.innerHTML = docLinkHtml;\n",
              "          element.appendChild(docLink);\n",
              "        }\n",
              "      </script>\n",
              "    </div>\n",
              "  </div>\n",
              "  "
            ]
          },
          "metadata": {},
          "execution_count": 146
        }
      ]
    },
    {
      "cell_type": "markdown",
      "source": [
        "### New Menu Overall Cookies Probability "
      ],
      "metadata": {
        "id": "j0fqCriEDciX"
      },
      "id": "j0fqCriEDciX"
    },
    {
      "cell_type": "code",
      "source": [
        "allCookies = newSnacks[newSnacks['Menu Item'].str.contains('Cookie')]"
      ],
      "metadata": {
        "id": "zNe4hrrYCThH"
      },
      "id": "zNe4hrrYCThH",
      "execution_count": null,
      "outputs": []
    },
    {
      "cell_type": "code",
      "source": [
        "\n",
        "_4packCookieTrxns = allCookies['Order Id'].unique()"
      ],
      "metadata": {
        "id": "6safnllLHOb_"
      },
      "id": "6safnllLHOb_",
      "execution_count": null,
      "outputs": []
    },
    {
      "cell_type": "code",
      "source": [
        "\n",
        "_4packCookieOrders = newMenu[newMenu['Order Id'].isin(_4packCookieTrxns)]"
      ],
      "metadata": {
        "id": "4RMqUhgtHREY"
      },
      "id": "4RMqUhgtHREY",
      "execution_count": null,
      "outputs": []
    },
    {
      "cell_type": "code",
      "source": [
        "\n",
        "_4packCookieOrders = _4packCookieOrders[_4packCookieOrders['Menu Item'].str.contains('Cookie')]"
      ],
      "metadata": {
        "id": "1a59cCLYHSqG"
      },
      "id": "1a59cCLYHSqG",
      "execution_count": null,
      "outputs": []
    },
    {
      "cell_type": "code",
      "source": [
        "\n",
        "_4packCookieOrders['Group'] = _4packCookieOrders.groupby('Order Date')['Menu Item'].transform(lambda x: ','.join(x))"
      ],
      "metadata": {
        "id": "0QNKp-KSHUjq"
      },
      "id": "0QNKp-KSHUjq",
      "execution_count": null,
      "outputs": []
    },
    {
      "cell_type": "code",
      "source": [
        "\n",
        "groupedData = _4packCookieOrders[['Order Date', 'Group']]\n",
        "groupedData = groupedData.drop_duplicates()"
      ],
      "metadata": {
        "id": "LQe8Bw9tHWTe"
      },
      "id": "LQe8Bw9tHWTe",
      "execution_count": null,
      "outputs": []
    },
    {
      "cell_type": "markdown",
      "source": [
        "Counting for the combinations which the items have in the dataframe and store them in a new dataframe"
      ],
      "metadata": {
        "id": "stJMsrCjFG86"
      },
      "id": "stJMsrCjFG86"
    },
    {
      "cell_type": "code",
      "source": [
        "count = Counter()\n",
        "for row in groupedData['Group']:\n",
        "    row_list = row.split(',')\n",
        "    count.update(Counter(combinations(row_list, 2)))\n",
        "\n",
        "combinationDf = pd.DataFrame.from_dict(count, orient='index').reset_index().rename(columns={'index':'Combinations', 0:'count'})\n",
        "combinationDf.sort_values(by = 'count', ascending = False, inplace = True)\n"
      ],
      "metadata": {
        "id": "BUK-7bGoFAEf"
      },
      "id": "BUK-7bGoFAEf",
      "execution_count": null,
      "outputs": []
    },
    {
      "cell_type": "markdown",
      "source": [
        "Now we find the probabilities of these items being sold together\n"
      ],
      "metadata": {
        "id": "woNSXWuVHdtY"
      },
      "id": "woNSXWuVHdtY"
    },
    {
      "cell_type": "code",
      "source": [
        "\n",
        "combinationDf.loc[:, 'item1'] = combinationDf.Combinations.str[0]\n",
        "combinationDf.loc[:, 'item2'] = combinationDf.Combinations.str[1]"
      ],
      "metadata": {
        "id": "GO7BFFqFHiNC"
      },
      "id": "GO7BFFqFHiNC",
      "execution_count": null,
      "outputs": []
    },
    {
      "cell_type": "markdown",
      "source": [
        "Calculating the individual sales of the items from the sales data\n"
      ],
      "metadata": {
        "id": "SToXdJFLHkRg"
      },
      "id": "SToXdJFLHkRg"
    },
    {
      "cell_type": "code",
      "source": [
        "\n",
        "combinationDf.loc[:, 'item1Sales'] = combinationDf['item1'].map(_4packCookieOrders\n",
        "                                                                .groupby('Menu Item').count()['Qty'].to_dict())\n",
        "combinationDf.loc[:, 'item2Sales'] = combinationDf['item2'].map(_4packCookieOrders\n",
        "                                                                .groupby('Menu Item').count()['Qty'].to_dict())"
      ],
      "metadata": {
        "id": "Dmmgp1J9Hmob"
      },
      "id": "Dmmgp1J9Hmob",
      "execution_count": null,
      "outputs": []
    },
    {
      "cell_type": "markdown",
      "source": [
        "Calculating the probability of the items being sold together by dividing the count of items sold together by the sum of individual number of sales of the sold items together"
      ],
      "metadata": {
        "id": "TBqe4DiHHyjz"
      },
      "id": "TBqe4DiHHyjz"
    },
    {
      "cell_type": "code",
      "source": [
        "combinationDf.loc[:, 'Probability'] = combinationDf['count'] / (combinationDf['item1Sales'] + combinationDf['item2Sales'])\n"
      ],
      "metadata": {
        "id": "8wgEjq2tHcKB"
      },
      "id": "8wgEjq2tHcKB",
      "execution_count": null,
      "outputs": []
    },
    {
      "cell_type": "markdown",
      "source": [
        "Selecting the top 10 combinations of the items so that we can see the items which most commonly sold together along with their probabilities\n"
      ],
      "metadata": {
        "id": "oIDU8MPFH13x"
      },
      "id": "oIDU8MPFH13x"
    },
    {
      "cell_type": "code",
      "source": [
        "prob = combinationDf.head(5).reset_index(drop = True)\n"
      ],
      "metadata": {
        "id": "Uc-i0LNPH2vO"
      },
      "id": "Uc-i0LNPH2vO",
      "execution_count": null,
      "outputs": []
    },
    {
      "cell_type": "code",
      "source": [
        "prob"
      ],
      "metadata": {
        "colab": {
          "base_uri": "https://localhost:8080/",
          "height": 337
        },
        "id": "i47RHhBSIaVx",
        "outputId": "03df49fb-e9c9-49ff-fdbc-bcf820cd74a3"
      },
      "id": "i47RHhBSIaVx",
      "execution_count": null,
      "outputs": [
        {
          "output_type": "execute_result",
          "data": {
            "text/plain": [
              "                                        Combinations  count  \\\n",
              "0  (Whole Grain Chocolate Chip Cookie, Whole Grai...    405   \n",
              "1  (Whole Grain White Chocolate Macadamia Nut Coo...     33   \n",
              "2  (Whole Grain Chocolate Chip Cookie, Whole Grai...     17   \n",
              "3  (Whole Grain White Chocolate Macadamia Nut Coo...     13   \n",
              "4  (Carrot Cake Cookie Sandwich, Whole Grain Choc...      6   \n",
              "\n",
              "                                              item1  \\\n",
              "0                 Whole Grain Chocolate Chip Cookie   \n",
              "1  Whole Grain White Chocolate Macadamia Nut Cookie   \n",
              "2                 Whole Grain Chocolate Chip Cookie   \n",
              "3  Whole Grain White Chocolate Macadamia Nut Cookie   \n",
              "4                       Carrot Cake Cookie Sandwich   \n",
              "\n",
              "                                              item2  item1Sales  item2Sales  \\\n",
              "0                 Whole Grain Chocolate Chip Cookie        1540        1540   \n",
              "1  Whole Grain White Chocolate Macadamia Nut Cookie         211         211   \n",
              "2  Whole Grain White Chocolate Macadamia Nut Cookie        1540         211   \n",
              "3                 Whole Grain Chocolate Chip Cookie         211        1540   \n",
              "4                 Whole Grain Chocolate Chip Cookie           8        1540   \n",
              "\n",
              "   Probability  \n",
              "0     0.131494  \n",
              "1     0.078199  \n",
              "2     0.009709  \n",
              "3     0.007424  \n",
              "4     0.003876  "
            ],
            "text/html": [
              "\n",
              "  <div id=\"df-bd57f9ac-9842-4566-a220-983a400b1ed2\">\n",
              "    <div class=\"colab-df-container\">\n",
              "      <div>\n",
              "<style scoped>\n",
              "    .dataframe tbody tr th:only-of-type {\n",
              "        vertical-align: middle;\n",
              "    }\n",
              "\n",
              "    .dataframe tbody tr th {\n",
              "        vertical-align: top;\n",
              "    }\n",
              "\n",
              "    .dataframe thead th {\n",
              "        text-align: right;\n",
              "    }\n",
              "</style>\n",
              "<table border=\"1\" class=\"dataframe\">\n",
              "  <thead>\n",
              "    <tr style=\"text-align: right;\">\n",
              "      <th></th>\n",
              "      <th>Combinations</th>\n",
              "      <th>count</th>\n",
              "      <th>item1</th>\n",
              "      <th>item2</th>\n",
              "      <th>item1Sales</th>\n",
              "      <th>item2Sales</th>\n",
              "      <th>Probability</th>\n",
              "    </tr>\n",
              "  </thead>\n",
              "  <tbody>\n",
              "    <tr>\n",
              "      <th>0</th>\n",
              "      <td>(Whole Grain Chocolate Chip Cookie, Whole Grai...</td>\n",
              "      <td>405</td>\n",
              "      <td>Whole Grain Chocolate Chip Cookie</td>\n",
              "      <td>Whole Grain Chocolate Chip Cookie</td>\n",
              "      <td>1540</td>\n",
              "      <td>1540</td>\n",
              "      <td>0.131494</td>\n",
              "    </tr>\n",
              "    <tr>\n",
              "      <th>1</th>\n",
              "      <td>(Whole Grain White Chocolate Macadamia Nut Coo...</td>\n",
              "      <td>33</td>\n",
              "      <td>Whole Grain White Chocolate Macadamia Nut Cookie</td>\n",
              "      <td>Whole Grain White Chocolate Macadamia Nut Cookie</td>\n",
              "      <td>211</td>\n",
              "      <td>211</td>\n",
              "      <td>0.078199</td>\n",
              "    </tr>\n",
              "    <tr>\n",
              "      <th>2</th>\n",
              "      <td>(Whole Grain Chocolate Chip Cookie, Whole Grai...</td>\n",
              "      <td>17</td>\n",
              "      <td>Whole Grain Chocolate Chip Cookie</td>\n",
              "      <td>Whole Grain White Chocolate Macadamia Nut Cookie</td>\n",
              "      <td>1540</td>\n",
              "      <td>211</td>\n",
              "      <td>0.009709</td>\n",
              "    </tr>\n",
              "    <tr>\n",
              "      <th>3</th>\n",
              "      <td>(Whole Grain White Chocolate Macadamia Nut Coo...</td>\n",
              "      <td>13</td>\n",
              "      <td>Whole Grain White Chocolate Macadamia Nut Cookie</td>\n",
              "      <td>Whole Grain Chocolate Chip Cookie</td>\n",
              "      <td>211</td>\n",
              "      <td>1540</td>\n",
              "      <td>0.007424</td>\n",
              "    </tr>\n",
              "    <tr>\n",
              "      <th>4</th>\n",
              "      <td>(Carrot Cake Cookie Sandwich, Whole Grain Choc...</td>\n",
              "      <td>6</td>\n",
              "      <td>Carrot Cake Cookie Sandwich</td>\n",
              "      <td>Whole Grain Chocolate Chip Cookie</td>\n",
              "      <td>8</td>\n",
              "      <td>1540</td>\n",
              "      <td>0.003876</td>\n",
              "    </tr>\n",
              "  </tbody>\n",
              "</table>\n",
              "</div>\n",
              "      <button class=\"colab-df-convert\" onclick=\"convertToInteractive('df-bd57f9ac-9842-4566-a220-983a400b1ed2')\"\n",
              "              title=\"Convert this dataframe to an interactive table.\"\n",
              "              style=\"display:none;\">\n",
              "        \n",
              "  <svg xmlns=\"http://www.w3.org/2000/svg\" height=\"24px\"viewBox=\"0 0 24 24\"\n",
              "       width=\"24px\">\n",
              "    <path d=\"M0 0h24v24H0V0z\" fill=\"none\"/>\n",
              "    <path d=\"M18.56 5.44l.94 2.06.94-2.06 2.06-.94-2.06-.94-.94-2.06-.94 2.06-2.06.94zm-11 1L8.5 8.5l.94-2.06 2.06-.94-2.06-.94L8.5 2.5l-.94 2.06-2.06.94zm10 10l.94 2.06.94-2.06 2.06-.94-2.06-.94-.94-2.06-.94 2.06-2.06.94z\"/><path d=\"M17.41 7.96l-1.37-1.37c-.4-.4-.92-.59-1.43-.59-.52 0-1.04.2-1.43.59L10.3 9.45l-7.72 7.72c-.78.78-.78 2.05 0 2.83L4 21.41c.39.39.9.59 1.41.59.51 0 1.02-.2 1.41-.59l7.78-7.78 2.81-2.81c.8-.78.8-2.07 0-2.86zM5.41 20L4 18.59l7.72-7.72 1.47 1.35L5.41 20z\"/>\n",
              "  </svg>\n",
              "      </button>\n",
              "      \n",
              "  <style>\n",
              "    .colab-df-container {\n",
              "      display:flex;\n",
              "      flex-wrap:wrap;\n",
              "      gap: 12px;\n",
              "    }\n",
              "\n",
              "    .colab-df-convert {\n",
              "      background-color: #E8F0FE;\n",
              "      border: none;\n",
              "      border-radius: 50%;\n",
              "      cursor: pointer;\n",
              "      display: none;\n",
              "      fill: #1967D2;\n",
              "      height: 32px;\n",
              "      padding: 0 0 0 0;\n",
              "      width: 32px;\n",
              "    }\n",
              "\n",
              "    .colab-df-convert:hover {\n",
              "      background-color: #E2EBFA;\n",
              "      box-shadow: 0px 1px 2px rgba(60, 64, 67, 0.3), 0px 1px 3px 1px rgba(60, 64, 67, 0.15);\n",
              "      fill: #174EA6;\n",
              "    }\n",
              "\n",
              "    [theme=dark] .colab-df-convert {\n",
              "      background-color: #3B4455;\n",
              "      fill: #D2E3FC;\n",
              "    }\n",
              "\n",
              "    [theme=dark] .colab-df-convert:hover {\n",
              "      background-color: #434B5C;\n",
              "      box-shadow: 0px 1px 3px 1px rgba(0, 0, 0, 0.15);\n",
              "      filter: drop-shadow(0px 1px 2px rgba(0, 0, 0, 0.3));\n",
              "      fill: #FFFFFF;\n",
              "    }\n",
              "  </style>\n",
              "\n",
              "      <script>\n",
              "        const buttonEl =\n",
              "          document.querySelector('#df-bd57f9ac-9842-4566-a220-983a400b1ed2 button.colab-df-convert');\n",
              "        buttonEl.style.display =\n",
              "          google.colab.kernel.accessAllowed ? 'block' : 'none';\n",
              "\n",
              "        async function convertToInteractive(key) {\n",
              "          const element = document.querySelector('#df-bd57f9ac-9842-4566-a220-983a400b1ed2');\n",
              "          const dataTable =\n",
              "            await google.colab.kernel.invokeFunction('convertToInteractive',\n",
              "                                                     [key], {});\n",
              "          if (!dataTable) return;\n",
              "\n",
              "          const docLinkHtml = 'Like what you see? Visit the ' +\n",
              "            '<a target=\"_blank\" href=https://colab.research.google.com/notebooks/data_table.ipynb>data table notebook</a>'\n",
              "            + ' to learn more about interactive tables.';\n",
              "          element.innerHTML = '';\n",
              "          dataTable['output_type'] = 'display_data';\n",
              "          await google.colab.output.renderOutput(dataTable, element);\n",
              "          const docLink = document.createElement('div');\n",
              "          docLink.innerHTML = docLinkHtml;\n",
              "          element.appendChild(docLink);\n",
              "        }\n",
              "      </script>\n",
              "    </div>\n",
              "  </div>\n",
              "  "
            ]
          },
          "metadata": {},
          "execution_count": 158
        }
      ]
    },
    {
      "cell_type": "code",
      "source": [],
      "metadata": {
        "id": "Q_8zPM_QIbxe"
      },
      "id": "Q_8zPM_QIbxe",
      "execution_count": null,
      "outputs": []
    }
  ],
  "metadata": {
    "kernelspec": {
      "display_name": "Python 3",
      "language": "python",
      "name": "python3"
    },
    "language_info": {
      "codemirror_mode": {
        "name": "ipython",
        "version": 3
      },
      "file_extension": ".py",
      "mimetype": "text/x-python",
      "name": "python",
      "nbconvert_exporter": "python",
      "pygments_lexer": "ipython3",
      "version": "3.7.3"
    },
    "colab": {
      "provenance": []
    }
  },
  "nbformat": 4,
  "nbformat_minor": 5
}